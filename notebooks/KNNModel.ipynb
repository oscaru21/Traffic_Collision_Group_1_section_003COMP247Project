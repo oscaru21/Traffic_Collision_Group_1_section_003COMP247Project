{
 "cells": [
  {
   "cell_type": "code",
   "execution_count": 1,
   "metadata": {},
   "outputs": [],
   "source": [
    "# prerequisite\n",
    "# pip install -U imbalanced-learn"
   ]
  },
  {
   "cell_type": "code",
   "execution_count": 2,
   "metadata": {},
   "outputs": [],
   "source": [
    "import matplotlib.pyplot as plt\n",
    "from pipelines.DataPipeline import DataPipeline\n",
    "from transformers.Preprocessing import Preprocessing\n",
    "from sklearn.neighbors import KNeighborsClassifier\n",
    "from sklearn.model_selection import train_test_split\n",
    "from sklearn.model_selection import GridSearchCV\n",
    "from imblearn.over_sampling import SMOTE\n",
    "from utils.Common import Config\n",
    "\n",
    "import numpy as np\n",
    "import pandas as pd\n",
    "import matplotlib.pyplot as plt\n"
   ]
  },
  {
   "cell_type": "code",
   "execution_count": 3,
   "metadata": {},
   "outputs": [],
   "source": [
    "RAW_DATA_PATH = \"../data/raw/KSI.csv\"\n",
    "df = pd.read_csv(RAW_DATA_PATH)"
   ]
  },
  {
   "cell_type": "code",
   "execution_count": 4,
   "metadata": {},
   "outputs": [],
   "source": [
    "# fill missing values, adding new columns, extracting useful columns\n",
    "pc = Preprocessing(df, Config.binary_columns, Config.cat_attribs, Config.num_attribs, Config.label)\n",
    "new_df = pc.getFrame()"
   ]
  },
  {
   "cell_type": "code",
   "execution_count": 5,
   "metadata": {},
   "outputs": [],
   "source": [
    "# seperate feature and label\n",
    "X = new_df[Config.cat_attribs + Config.num_attribs+ Config.binary_columns]\n",
    "Y = new_df[Config.label]"
   ]
  },
  {
   "cell_type": "code",
   "execution_count": 6,
   "metadata": {},
   "outputs": [],
   "source": [
    "# pass feature to pipeline and convert it to numerical data\n",
    "X = DataPipeline(Config.num_attribs,Config.cat_attribs).process(X)"
   ]
  },
  {
   "cell_type": "code",
   "execution_count": 7,
   "metadata": {},
   "outputs": [
    {
     "data": {
      "text/plain": [
       "0"
      ]
     },
     "execution_count": 7,
     "metadata": {},
     "output_type": "execute_result"
    }
   ],
   "source": [
    "X.isna().sum().sum()"
   ]
  },
  {
   "cell_type": "code",
   "execution_count": 8,
   "metadata": {},
   "outputs": [
    {
     "data": {
      "text/plain": [
       "[14246, 2201]"
      ]
     },
     "execution_count": 8,
     "metadata": {},
     "output_type": "execute_result"
    }
   ],
   "source": [
    "Y.value_counts().tolist()"
   ]
  },
  {
   "cell_type": "code",
   "execution_count": 9,
   "metadata": {},
   "outputs": [],
   "source": [
    "X_train, X_test, y_train, y_test = train_test_split(X, Y, test_size=Config.test_size, stratify=Y, random_state=42)"
   ]
  },
  {
   "cell_type": "code",
   "execution_count": 10,
   "metadata": {},
   "outputs": [],
   "source": [
    "smote_minority = SMOTE(sampling_strategy = \"minority\", random_state=42)\n",
    "X_train_sm, y_train_sm = smote_minority.fit_resample(X_train, y_train)\n"
   ]
  },
  {
   "cell_type": "code",
   "execution_count": 11,
   "metadata": {},
   "outputs": [
    {
     "name": "stdout",
     "output_type": "stream",
     "text": [
      "Fitting 10 folds for each of 16 candidates, totalling 160 fits\n",
      "[CV 1/10] END algorithm=kd_tree, metric=manhattan, n_neighbors=5, weights=uniform;, score=0.946 total time=   3.3s\n",
      "[CV 2/10] END algorithm=kd_tree, metric=manhattan, n_neighbors=5, weights=uniform;, score=0.939 total time=   3.4s\n",
      "[CV 3/10] END algorithm=kd_tree, metric=manhattan, n_neighbors=5, weights=uniform;, score=0.940 total time=   3.5s\n",
      "[CV 4/10] END algorithm=kd_tree, metric=manhattan, n_neighbors=5, weights=uniform;, score=0.942 total time=   3.3s\n",
      "[CV 5/10] END algorithm=kd_tree, metric=manhattan, n_neighbors=5, weights=uniform;, score=0.940 total time=   3.4s\n",
      "[CV 6/10] END algorithm=kd_tree, metric=manhattan, n_neighbors=5, weights=uniform;, score=0.941 total time=   3.2s\n",
      "[CV 7/10] END algorithm=kd_tree, metric=manhattan, n_neighbors=5, weights=uniform;, score=0.950 total time=   3.3s\n",
      "[CV 8/10] END algorithm=kd_tree, metric=manhattan, n_neighbors=5, weights=uniform;, score=0.939 total time=   3.1s\n",
      "[CV 9/10] END algorithm=kd_tree, metric=manhattan, n_neighbors=5, weights=uniform;, score=0.943 total time=   3.1s\n",
      "[CV 10/10] END algorithm=kd_tree, metric=manhattan, n_neighbors=5, weights=uniform;, score=0.941 total time=   3.1s\n",
      "[CV 1/10] END algorithm=kd_tree, metric=manhattan, n_neighbors=5, weights=distance;, score=0.957 total time=   3.1s\n",
      "[CV 2/10] END algorithm=kd_tree, metric=manhattan, n_neighbors=5, weights=distance;, score=0.948 total time=   3.1s\n",
      "[CV 3/10] END algorithm=kd_tree, metric=manhattan, n_neighbors=5, weights=distance;, score=0.949 total time=   3.2s\n",
      "[CV 4/10] END algorithm=kd_tree, metric=manhattan, n_neighbors=5, weights=distance;, score=0.950 total time=   3.1s\n",
      "[CV 5/10] END algorithm=kd_tree, metric=manhattan, n_neighbors=5, weights=distance;, score=0.950 total time=   3.0s\n",
      "[CV 6/10] END algorithm=kd_tree, metric=manhattan, n_neighbors=5, weights=distance;, score=0.953 total time=   3.3s\n",
      "[CV 7/10] END algorithm=kd_tree, metric=manhattan, n_neighbors=5, weights=distance;, score=0.960 total time=   3.3s\n",
      "[CV 8/10] END algorithm=kd_tree, metric=manhattan, n_neighbors=5, weights=distance;, score=0.953 total time=   3.1s\n",
      "[CV 9/10] END algorithm=kd_tree, metric=manhattan, n_neighbors=5, weights=distance;, score=0.955 total time=   3.4s\n",
      "[CV 10/10] END algorithm=kd_tree, metric=manhattan, n_neighbors=5, weights=distance;, score=0.949 total time=   3.5s\n",
      "[CV 1/10] END algorithm=kd_tree, metric=manhattan, n_neighbors=9, weights=uniform;, score=0.922 total time=   4.2s\n",
      "[CV 2/10] END algorithm=kd_tree, metric=manhattan, n_neighbors=9, weights=uniform;, score=0.910 total time=   3.8s\n",
      "[CV 3/10] END algorithm=kd_tree, metric=manhattan, n_neighbors=9, weights=uniform;, score=0.913 total time=   3.8s\n",
      "[CV 4/10] END algorithm=kd_tree, metric=manhattan, n_neighbors=9, weights=uniform;, score=0.915 total time=   3.8s\n",
      "[CV 5/10] END algorithm=kd_tree, metric=manhattan, n_neighbors=9, weights=uniform;, score=0.918 total time=   4.4s\n",
      "[CV 6/10] END algorithm=kd_tree, metric=manhattan, n_neighbors=9, weights=uniform;, score=0.918 total time=   4.1s\n",
      "[CV 7/10] END algorithm=kd_tree, metric=manhattan, n_neighbors=9, weights=uniform;, score=0.922 total time=   4.0s\n",
      "[CV 8/10] END algorithm=kd_tree, metric=manhattan, n_neighbors=9, weights=uniform;, score=0.914 total time=   3.9s\n",
      "[CV 9/10] END algorithm=kd_tree, metric=manhattan, n_neighbors=9, weights=uniform;, score=0.922 total time=   4.0s\n",
      "[CV 10/10] END algorithm=kd_tree, metric=manhattan, n_neighbors=9, weights=uniform;, score=0.922 total time=   4.1s\n",
      "[CV 1/10] END algorithm=kd_tree, metric=manhattan, n_neighbors=9, weights=distance;, score=0.944 total time=   4.0s\n",
      "[CV 2/10] END algorithm=kd_tree, metric=manhattan, n_neighbors=9, weights=distance;, score=0.935 total time=   3.9s\n",
      "[CV 3/10] END algorithm=kd_tree, metric=manhattan, n_neighbors=9, weights=distance;, score=0.935 total time=   4.0s\n",
      "[CV 4/10] END algorithm=kd_tree, metric=manhattan, n_neighbors=9, weights=distance;, score=0.935 total time=   4.0s\n",
      "[CV 5/10] END algorithm=kd_tree, metric=manhattan, n_neighbors=9, weights=distance;, score=0.934 total time=   3.9s\n",
      "[CV 6/10] END algorithm=kd_tree, metric=manhattan, n_neighbors=9, weights=distance;, score=0.936 total time=   3.9s\n",
      "[CV 7/10] END algorithm=kd_tree, metric=manhattan, n_neighbors=9, weights=distance;, score=0.942 total time=   4.0s\n",
      "[CV 8/10] END algorithm=kd_tree, metric=manhattan, n_neighbors=9, weights=distance;, score=0.934 total time=   4.1s\n",
      "[CV 9/10] END algorithm=kd_tree, metric=manhattan, n_neighbors=9, weights=distance;, score=0.942 total time=   4.5s\n",
      "[CV 10/10] END algorithm=kd_tree, metric=manhattan, n_neighbors=9, weights=distance;, score=0.939 total time=   3.7s\n",
      "[CV 1/10] END algorithm=kd_tree, metric=manhattan, n_neighbors=13, weights=uniform;, score=0.903 total time=   4.1s\n",
      "[CV 2/10] END algorithm=kd_tree, metric=manhattan, n_neighbors=13, weights=uniform;, score=0.891 total time=   4.4s\n",
      "[CV 3/10] END algorithm=kd_tree, metric=manhattan, n_neighbors=13, weights=uniform;, score=0.908 total time=   3.9s\n",
      "[CV 4/10] END algorithm=kd_tree, metric=manhattan, n_neighbors=13, weights=uniform;, score=0.901 total time=   4.2s\n",
      "[CV 5/10] END algorithm=kd_tree, metric=manhattan, n_neighbors=13, weights=uniform;, score=0.911 total time=   4.1s\n",
      "[CV 6/10] END algorithm=kd_tree, metric=manhattan, n_neighbors=13, weights=uniform;, score=0.898 total time=   3.9s\n",
      "[CV 7/10] END algorithm=kd_tree, metric=manhattan, n_neighbors=13, weights=uniform;, score=0.909 total time=   4.1s\n",
      "[CV 8/10] END algorithm=kd_tree, metric=manhattan, n_neighbors=13, weights=uniform;, score=0.908 total time=   4.2s\n",
      "[CV 9/10] END algorithm=kd_tree, metric=manhattan, n_neighbors=13, weights=uniform;, score=0.907 total time=   3.8s\n",
      "[CV 10/10] END algorithm=kd_tree, metric=manhattan, n_neighbors=13, weights=uniform;, score=0.905 total time=   4.6s\n",
      "[CV 1/10] END algorithm=kd_tree, metric=manhattan, n_neighbors=13, weights=distance;, score=0.935 total time=   4.8s\n",
      "[CV 2/10] END algorithm=kd_tree, metric=manhattan, n_neighbors=13, weights=distance;, score=0.922 total time=   4.6s\n",
      "[CV 3/10] END algorithm=kd_tree, metric=manhattan, n_neighbors=13, weights=distance;, score=0.929 total time=   4.3s\n",
      "[CV 4/10] END algorithm=kd_tree, metric=manhattan, n_neighbors=13, weights=distance;, score=0.926 total time=   4.4s\n",
      "[CV 5/10] END algorithm=kd_tree, metric=manhattan, n_neighbors=13, weights=distance;, score=0.928 total time=   4.7s\n",
      "[CV 6/10] END algorithm=kd_tree, metric=manhattan, n_neighbors=13, weights=distance;, score=0.925 total time=   4.2s\n",
      "[CV 7/10] END algorithm=kd_tree, metric=manhattan, n_neighbors=13, weights=distance;, score=0.929 total time=   4.0s\n",
      "[CV 8/10] END algorithm=kd_tree, metric=manhattan, n_neighbors=13, weights=distance;, score=0.927 total time=   4.0s\n",
      "[CV 9/10] END algorithm=kd_tree, metric=manhattan, n_neighbors=13, weights=distance;, score=0.934 total time=   3.9s\n",
      "[CV 10/10] END algorithm=kd_tree, metric=manhattan, n_neighbors=13, weights=distance;, score=0.932 total time=   3.8s\n",
      "[CV 1/10] END algorithm=kd_tree, metric=manhattan, n_neighbors=17, weights=uniform;, score=0.882 total time=   4.6s\n",
      "[CV 2/10] END algorithm=kd_tree, metric=manhattan, n_neighbors=17, weights=uniform;, score=0.877 total time=   4.4s\n",
      "[CV 3/10] END algorithm=kd_tree, metric=manhattan, n_neighbors=17, weights=uniform;, score=0.897 total time=   4.6s\n",
      "[CV 4/10] END algorithm=kd_tree, metric=manhattan, n_neighbors=17, weights=uniform;, score=0.892 total time=   4.6s\n",
      "[CV 5/10] END algorithm=kd_tree, metric=manhattan, n_neighbors=17, weights=uniform;, score=0.903 total time=   4.1s\n",
      "[CV 6/10] END algorithm=kd_tree, metric=manhattan, n_neighbors=17, weights=uniform;, score=0.887 total time=   4.3s\n",
      "[CV 7/10] END algorithm=kd_tree, metric=manhattan, n_neighbors=17, weights=uniform;, score=0.904 total time=   5.4s\n",
      "[CV 8/10] END algorithm=kd_tree, metric=manhattan, n_neighbors=17, weights=uniform;, score=0.901 total time=   5.3s\n",
      "[CV 9/10] END algorithm=kd_tree, metric=manhattan, n_neighbors=17, weights=uniform;, score=0.896 total time=   5.5s\n",
      "[CV 10/10] END algorithm=kd_tree, metric=manhattan, n_neighbors=17, weights=uniform;, score=0.896 total time=   4.9s\n",
      "[CV 1/10] END algorithm=kd_tree, metric=manhattan, n_neighbors=17, weights=distance;, score=0.929 total time=   4.9s\n",
      "[CV 2/10] END algorithm=kd_tree, metric=manhattan, n_neighbors=17, weights=distance;, score=0.914 total time=   4.7s\n",
      "[CV 3/10] END algorithm=kd_tree, metric=manhattan, n_neighbors=17, weights=distance;, score=0.924 total time=   5.0s\n",
      "[CV 4/10] END algorithm=kd_tree, metric=manhattan, n_neighbors=17, weights=distance;, score=0.921 total time=   5.5s\n",
      "[CV 5/10] END algorithm=kd_tree, metric=manhattan, n_neighbors=17, weights=distance;, score=0.928 total time=   5.7s\n",
      "[CV 6/10] END algorithm=kd_tree, metric=manhattan, n_neighbors=17, weights=distance;, score=0.919 total time=   4.7s\n",
      "[CV 7/10] END algorithm=kd_tree, metric=manhattan, n_neighbors=17, weights=distance;, score=0.924 total time=   4.8s\n",
      "[CV 8/10] END algorithm=kd_tree, metric=manhattan, n_neighbors=17, weights=distance;, score=0.922 total time=   5.0s\n",
      "[CV 9/10] END algorithm=kd_tree, metric=manhattan, n_neighbors=17, weights=distance;, score=0.926 total time=   5.2s\n",
      "[CV 10/10] END algorithm=kd_tree, metric=manhattan, n_neighbors=17, weights=distance;, score=0.922 total time=   5.1s\n",
      "[CV 1/10] END algorithm=brute, metric=manhattan, n_neighbors=5, weights=uniform;, score=0.946 total time=   0.3s\n",
      "[CV 2/10] END algorithm=brute, metric=manhattan, n_neighbors=5, weights=uniform;, score=0.939 total time=   0.3s\n",
      "[CV 3/10] END algorithm=brute, metric=manhattan, n_neighbors=5, weights=uniform;, score=0.940 total time=   0.3s\n",
      "[CV 4/10] END algorithm=brute, metric=manhattan, n_neighbors=5, weights=uniform;, score=0.942 total time=   0.3s\n",
      "[CV 5/10] END algorithm=brute, metric=manhattan, n_neighbors=5, weights=uniform;, score=0.940 total time=   0.3s\n",
      "[CV 6/10] END algorithm=brute, metric=manhattan, n_neighbors=5, weights=uniform;, score=0.941 total time=   0.3s\n",
      "[CV 7/10] END algorithm=brute, metric=manhattan, n_neighbors=5, weights=uniform;, score=0.950 total time=   0.3s\n",
      "[CV 8/10] END algorithm=brute, metric=manhattan, n_neighbors=5, weights=uniform;, score=0.939 total time=   0.3s\n",
      "[CV 9/10] END algorithm=brute, metric=manhattan, n_neighbors=5, weights=uniform;, score=0.943 total time=   0.3s\n",
      "[CV 10/10] END algorithm=brute, metric=manhattan, n_neighbors=5, weights=uniform;, score=0.941 total time=   0.3s\n",
      "[CV 1/10] END algorithm=brute, metric=manhattan, n_neighbors=5, weights=distance;, score=0.957 total time=   0.3s\n",
      "[CV 2/10] END algorithm=brute, metric=manhattan, n_neighbors=5, weights=distance;, score=0.948 total time=   0.3s\n",
      "[CV 3/10] END algorithm=brute, metric=manhattan, n_neighbors=5, weights=distance;, score=0.949 total time=   0.2s\n",
      "[CV 4/10] END algorithm=brute, metric=manhattan, n_neighbors=5, weights=distance;, score=0.950 total time=   0.3s\n",
      "[CV 5/10] END algorithm=brute, metric=manhattan, n_neighbors=5, weights=distance;, score=0.950 total time=   0.3s\n",
      "[CV 6/10] END algorithm=brute, metric=manhattan, n_neighbors=5, weights=distance;, score=0.953 total time=   0.3s\n",
      "[CV 7/10] END algorithm=brute, metric=manhattan, n_neighbors=5, weights=distance;, score=0.960 total time=   0.3s\n",
      "[CV 8/10] END algorithm=brute, metric=manhattan, n_neighbors=5, weights=distance;, score=0.953 total time=   0.3s\n",
      "[CV 9/10] END algorithm=brute, metric=manhattan, n_neighbors=5, weights=distance;, score=0.955 total time=   0.3s\n",
      "[CV 10/10] END algorithm=brute, metric=manhattan, n_neighbors=5, weights=distance;, score=0.949 total time=   0.3s\n",
      "[CV 1/10] END algorithm=brute, metric=manhattan, n_neighbors=9, weights=uniform;, score=0.922 total time=   0.4s\n",
      "[CV 2/10] END algorithm=brute, metric=manhattan, n_neighbors=9, weights=uniform;, score=0.910 total time=   0.4s\n",
      "[CV 3/10] END algorithm=brute, metric=manhattan, n_neighbors=9, weights=uniform;, score=0.913 total time=   0.3s\n",
      "[CV 4/10] END algorithm=brute, metric=manhattan, n_neighbors=9, weights=uniform;, score=0.915 total time=   0.3s\n",
      "[CV 5/10] END algorithm=brute, metric=manhattan, n_neighbors=9, weights=uniform;, score=0.918 total time=   0.3s\n",
      "[CV 6/10] END algorithm=brute, metric=manhattan, n_neighbors=9, weights=uniform;, score=0.918 total time=   0.3s\n",
      "[CV 7/10] END algorithm=brute, metric=manhattan, n_neighbors=9, weights=uniform;, score=0.922 total time=   0.3s\n",
      "[CV 8/10] END algorithm=brute, metric=manhattan, n_neighbors=9, weights=uniform;, score=0.914 total time=   0.3s\n",
      "[CV 9/10] END algorithm=brute, metric=manhattan, n_neighbors=9, weights=uniform;, score=0.922 total time=   0.3s\n",
      "[CV 10/10] END algorithm=brute, metric=manhattan, n_neighbors=9, weights=uniform;, score=0.922 total time=   0.3s\n",
      "[CV 1/10] END algorithm=brute, metric=manhattan, n_neighbors=9, weights=distance;, score=0.944 total time=   0.3s\n",
      "[CV 2/10] END algorithm=brute, metric=manhattan, n_neighbors=9, weights=distance;, score=0.935 total time=   0.3s\n",
      "[CV 3/10] END algorithm=brute, metric=manhattan, n_neighbors=9, weights=distance;, score=0.935 total time=   0.3s\n",
      "[CV 4/10] END algorithm=brute, metric=manhattan, n_neighbors=9, weights=distance;, score=0.935 total time=   0.3s\n",
      "[CV 5/10] END algorithm=brute, metric=manhattan, n_neighbors=9, weights=distance;, score=0.934 total time=   0.3s\n",
      "[CV 6/10] END algorithm=brute, metric=manhattan, n_neighbors=9, weights=distance;, score=0.936 total time=   0.3s\n",
      "[CV 7/10] END algorithm=brute, metric=manhattan, n_neighbors=9, weights=distance;, score=0.942 total time=   0.3s\n",
      "[CV 8/10] END algorithm=brute, metric=manhattan, n_neighbors=9, weights=distance;, score=0.934 total time=   0.3s\n",
      "[CV 9/10] END algorithm=brute, metric=manhattan, n_neighbors=9, weights=distance;, score=0.942 total time=   0.3s\n",
      "[CV 10/10] END algorithm=brute, metric=manhattan, n_neighbors=9, weights=distance;, score=0.939 total time=   0.3s\n",
      "[CV 1/10] END algorithm=brute, metric=manhattan, n_neighbors=13, weights=uniform;, score=0.903 total time=   0.3s\n",
      "[CV 2/10] END algorithm=brute, metric=manhattan, n_neighbors=13, weights=uniform;, score=0.891 total time=   0.4s\n",
      "[CV 3/10] END algorithm=brute, metric=manhattan, n_neighbors=13, weights=uniform;, score=0.908 total time=   0.4s\n",
      "[CV 4/10] END algorithm=brute, metric=manhattan, n_neighbors=13, weights=uniform;, score=0.901 total time=   0.3s\n",
      "[CV 5/10] END algorithm=brute, metric=manhattan, n_neighbors=13, weights=uniform;, score=0.911 total time=   0.4s\n",
      "[CV 6/10] END algorithm=brute, metric=manhattan, n_neighbors=13, weights=uniform;, score=0.898 total time=   0.3s\n",
      "[CV 7/10] END algorithm=brute, metric=manhattan, n_neighbors=13, weights=uniform;, score=0.909 total time=   0.4s\n",
      "[CV 8/10] END algorithm=brute, metric=manhattan, n_neighbors=13, weights=uniform;, score=0.908 total time=   0.3s\n",
      "[CV 9/10] END algorithm=brute, metric=manhattan, n_neighbors=13, weights=uniform;, score=0.907 total time=   0.4s\n",
      "[CV 10/10] END algorithm=brute, metric=manhattan, n_neighbors=13, weights=uniform;, score=0.905 total time=   0.4s\n",
      "[CV 1/10] END algorithm=brute, metric=manhattan, n_neighbors=13, weights=distance;, score=0.935 total time=   0.3s\n",
      "[CV 2/10] END algorithm=brute, metric=manhattan, n_neighbors=13, weights=distance;, score=0.922 total time=   0.3s\n",
      "[CV 3/10] END algorithm=brute, metric=manhattan, n_neighbors=13, weights=distance;, score=0.929 total time=   0.3s\n",
      "[CV 4/10] END algorithm=brute, metric=manhattan, n_neighbors=13, weights=distance;, score=0.926 total time=   0.3s\n",
      "[CV 5/10] END algorithm=brute, metric=manhattan, n_neighbors=13, weights=distance;, score=0.928 total time=   0.3s\n",
      "[CV 6/10] END algorithm=brute, metric=manhattan, n_neighbors=13, weights=distance;, score=0.925 total time=   0.3s\n",
      "[CV 7/10] END algorithm=brute, metric=manhattan, n_neighbors=13, weights=distance;, score=0.929 total time=   0.3s\n",
      "[CV 8/10] END algorithm=brute, metric=manhattan, n_neighbors=13, weights=distance;, score=0.927 total time=   0.3s\n",
      "[CV 9/10] END algorithm=brute, metric=manhattan, n_neighbors=13, weights=distance;, score=0.934 total time=   0.3s\n",
      "[CV 10/10] END algorithm=brute, metric=manhattan, n_neighbors=13, weights=distance;, score=0.932 total time=   0.3s\n",
      "[CV 1/10] END algorithm=brute, metric=manhattan, n_neighbors=17, weights=uniform;, score=0.882 total time=   0.4s\n",
      "[CV 2/10] END algorithm=brute, metric=manhattan, n_neighbors=17, weights=uniform;, score=0.877 total time=   0.4s\n",
      "[CV 3/10] END algorithm=brute, metric=manhattan, n_neighbors=17, weights=uniform;, score=0.897 total time=   0.3s\n",
      "[CV 4/10] END algorithm=brute, metric=manhattan, n_neighbors=17, weights=uniform;, score=0.892 total time=   0.4s\n",
      "[CV 5/10] END algorithm=brute, metric=manhattan, n_neighbors=17, weights=uniform;, score=0.903 total time=   0.4s\n",
      "[CV 6/10] END algorithm=brute, metric=manhattan, n_neighbors=17, weights=uniform;, score=0.887 total time=   0.3s\n",
      "[CV 7/10] END algorithm=brute, metric=manhattan, n_neighbors=17, weights=uniform;, score=0.904 total time=   0.4s\n",
      "[CV 8/10] END algorithm=brute, metric=manhattan, n_neighbors=17, weights=uniform;, score=0.901 total time=   0.4s\n",
      "[CV 9/10] END algorithm=brute, metric=manhattan, n_neighbors=17, weights=uniform;, score=0.896 total time=   0.4s\n",
      "[CV 10/10] END algorithm=brute, metric=manhattan, n_neighbors=17, weights=uniform;, score=0.896 total time=   0.4s\n",
      "[CV 1/10] END algorithm=brute, metric=manhattan, n_neighbors=17, weights=distance;, score=0.929 total time=   0.3s\n",
      "[CV 2/10] END algorithm=brute, metric=manhattan, n_neighbors=17, weights=distance;, score=0.914 total time=   0.3s\n",
      "[CV 3/10] END algorithm=brute, metric=manhattan, n_neighbors=17, weights=distance;, score=0.924 total time=   0.3s\n",
      "[CV 4/10] END algorithm=brute, metric=manhattan, n_neighbors=17, weights=distance;, score=0.921 total time=   0.3s\n",
      "[CV 5/10] END algorithm=brute, metric=manhattan, n_neighbors=17, weights=distance;, score=0.928 total time=   0.3s\n",
      "[CV 6/10] END algorithm=brute, metric=manhattan, n_neighbors=17, weights=distance;, score=0.919 total time=   0.3s\n",
      "[CV 7/10] END algorithm=brute, metric=manhattan, n_neighbors=17, weights=distance;, score=0.924 total time=   0.3s\n",
      "[CV 8/10] END algorithm=brute, metric=manhattan, n_neighbors=17, weights=distance;, score=0.922 total time=   0.3s\n",
      "[CV 9/10] END algorithm=brute, metric=manhattan, n_neighbors=17, weights=distance;, score=0.926 total time=   0.3s\n",
      "[CV 10/10] END algorithm=brute, metric=manhattan, n_neighbors=17, weights=distance;, score=0.922 total time=   0.3s\n"
     ]
    },
    {
     "data": {
      "text/plain": [
       "0.9523955566846032"
      ]
     },
     "execution_count": 11,
     "metadata": {},
     "output_type": "execute_result"
    }
   ],
   "source": [
    "\n",
    "# Create param grid\n",
    "param_grid = {\n",
    "              'n_neighbors': [5,9,13,17],\n",
    "              'weights': ['uniform', 'distance'],\n",
    "              'algorithm': ['kd_tree', 'brute'],\n",
    "               'metric' : ['manhattan']\n",
    "            } \n",
    "\n",
    "clf = GridSearchCV(\n",
    "    estimator=KNeighborsClassifier(),\n",
    "    scoring=\"accuracy\",\n",
    "    param_grid=param_grid,\n",
    "    cv=10,\n",
    "    refit=True,\n",
    "    verbose=3\n",
    ")\n",
    "\n",
    "best_clf = clf.fit(X_train_sm, y_train_sm)\n",
    "\n",
    "best_clf.best_score_"
   ]
  },
  {
   "cell_type": "code",
   "execution_count": 12,
   "metadata": {},
   "outputs": [
    {
     "data": {
      "text/plain": [
       "0.8951367781155015"
      ]
     },
     "execution_count": 12,
     "metadata": {},
     "output_type": "execute_result"
    }
   ],
   "source": [
    "best_model = best_clf.best_estimator_\n",
    "best_model.score(X_test,y_test)"
   ]
  },
  {
   "cell_type": "code",
   "execution_count": 13,
   "metadata": {},
   "outputs": [
    {
     "data": {
      "text/plain": [
       "1.0"
      ]
     },
     "execution_count": 13,
     "metadata": {},
     "output_type": "execute_result"
    }
   ],
   "source": [
    "best_model.score(X_train, y_train)"
   ]
  },
  {
   "cell_type": "code",
   "execution_count": 14,
   "metadata": {},
   "outputs": [
    {
     "data": {
      "text/plain": [
       "1.0"
      ]
     },
     "execution_count": 14,
     "metadata": {},
     "output_type": "execute_result"
    }
   ],
   "source": [
    "best_model.score(X_train_sm, y_train_sm)"
   ]
  },
  {
   "cell_type": "code",
   "execution_count": 15,
   "metadata": {},
   "outputs": [
    {
     "data": {
      "text/plain": [
       "0.8951367781155015"
      ]
     },
     "execution_count": 15,
     "metadata": {},
     "output_type": "execute_result"
    }
   ],
   "source": [
    "best_model.score(X_test, y_test)"
   ]
  },
  {
   "cell_type": "code",
   "execution_count": 16,
   "metadata": {},
   "outputs": [
    {
     "name": "stdout",
     "output_type": "stream",
     "text": [
      "              precision    recall  f1-score   support\n",
      "\n",
      "           0       1.00      1.00      1.00     11396\n",
      "           1       1.00      1.00      1.00      1761\n",
      "\n",
      "    accuracy                           1.00     13157\n",
      "   macro avg       1.00      1.00      1.00     13157\n",
      "weighted avg       1.00      1.00      1.00     13157\n",
      "\n",
      "              precision    recall  f1-score   support\n",
      "\n",
      "           0       1.00      1.00      1.00     11396\n",
      "           1       1.00      1.00      1.00     11396\n",
      "\n",
      "    accuracy                           1.00     22792\n",
      "   macro avg       1.00      1.00      1.00     22792\n",
      "weighted avg       1.00      1.00      1.00     22792\n",
      "\n",
      "              precision    recall  f1-score   support\n",
      "\n",
      "           0       0.97      0.91      0.94      2850\n",
      "           1       0.58      0.81      0.67       440\n",
      "\n",
      "    accuracy                           0.90      3290\n",
      "   macro avg       0.77      0.86      0.81      3290\n",
      "weighted avg       0.92      0.90      0.90      3290\n",
      "\n"
     ]
    }
   ],
   "source": [
    "from sklearn.metrics import classification_report\n",
    "\n",
    "y_train_pred = best_model.predict(X_train)\n",
    "y_train_sm_pred = best_model.predict(X_train_sm)\n",
    "y_test_pred = best_model.predict(X_test)\n",
    "\n",
    "print(classification_report(y_train,y_train_pred))\n",
    "print(classification_report(y_train_sm,y_train_sm_pred))\n",
    "print(classification_report(y_test,y_test_pred))"
   ]
  },
  {
   "cell_type": "code",
   "execution_count": 17,
   "metadata": {},
   "outputs": [
    {
     "data": {
      "text/plain": [
       "{'algorithm': 'kd_tree',\n",
       " 'metric': 'manhattan',\n",
       " 'n_neighbors': 5,\n",
       " 'weights': 'distance'}"
      ]
     },
     "execution_count": 17,
     "metadata": {},
     "output_type": "execute_result"
    }
   ],
   "source": [
    "best_clf.best_params_\n",
    "# {'algorithm': 'kd_tree',  'metric': 'manhattan',  'n_neighbors': 5,  'weights': 'distance'}\n"
   ]
  },
  {
   "cell_type": "code",
   "execution_count": 18,
   "metadata": {},
   "outputs": [
    {
     "data": {
      "text/plain": [
       "['../models/best_model_knn.pkl']"
      ]
     },
     "execution_count": 18,
     "metadata": {},
     "output_type": "execute_result"
    }
   ],
   "source": [
    "import joblib\n",
    "from sklearn.neighbors import KNeighborsClassifier\n",
    "\n",
    "best_model = KNeighborsClassifier(algorithm= 'kd_tree',  metric= 'manhattan',  n_neighbors= 5,  weights= 'distance')\n",
    "best_model.fit(X_train_sm, y_train_sm)\n",
    "\n",
    "joblib.dump(best_model,'../models/best_model_knn.pkl')\n"
   ]
  }
 ],
 "metadata": {
  "kernelspec": {
   "display_name": "base",
   "language": "python",
   "name": "python3"
  },
  "language_info": {
   "codemirror_mode": {
    "name": "ipython",
    "version": 3
   },
   "file_extension": ".py",
   "mimetype": "text/x-python",
   "name": "python",
   "nbconvert_exporter": "python",
   "pygments_lexer": "ipython3",
   "version": "3.9.12"
  },
  "orig_nbformat": 4
 },
 "nbformat": 4,
 "nbformat_minor": 2
}
