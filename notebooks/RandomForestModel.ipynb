{
 "cells": [
  {
   "cell_type": "code",
   "execution_count": 2,
   "metadata": {},
   "outputs": [],
   "source": [
    "# prerequisite\n",
    "# pip install -U imbalanced-learn"
   ]
  },
  {
   "cell_type": "code",
   "execution_count": 3,
   "metadata": {},
   "outputs": [],
   "source": [
    "from pipelines.DataPipeline import DataPipeline\n",
    "from transformers.Preprocessing import Preprocessing\n",
    "from sklearn.model_selection import train_test_split\n",
    "\n",
    "from transformers.Rebalancer import Rebalancer\n",
    "\n",
    "from utils.DataHelper import DataHelper\n",
    "from utils.Common import Config\n",
    "from sklearn.model_selection import GridSearchCV\n",
    "from sklearn.svm import SVC\n",
    "\n",
    "from sklearn.ensemble import RandomForestClassifier\n",
    "\n",
    "import pandas as pd\n",
    "import matplotlib.pyplot as plt\n"
   ]
  },
  {
   "cell_type": "code",
   "execution_count": 4,
   "metadata": {},
   "outputs": [],
   "source": [
    "RAW_DATA_PATH = \"../data/raw/KSI.csv\"\n",
    "df = pd.read_csv(RAW_DATA_PATH)"
   ]
  },
  {
   "cell_type": "code",
   "execution_count": 5,
   "metadata": {},
   "outputs": [],
   "source": [
    "# fill missing values, adding new columns, extracting useful columns\n",
    "pc = Preprocessing(df, Config.binary_columns, Config.cat_attribs, Config.num_attribs, Config.label)\n",
    "new_df = pc.getFrame()"
   ]
  },
  {
   "cell_type": "code",
   "execution_count": 6,
   "metadata": {},
   "outputs": [],
   "source": [
    "# seperate feature and label\n",
    "X = new_df[Config.cat_attribs + Config.num_attribs+ Config.binary_columns]\n",
    "Y = new_df[Config.label]"
   ]
  },
  {
   "cell_type": "code",
   "execution_count": 7,
   "metadata": {},
   "outputs": [],
   "source": [
    "# pass feature to pipeline and convert it to numerical data\n",
    "X = DataPipeline(Config.num_attribs,Config.cat_attribs).process(X)"
   ]
  },
  {
   "cell_type": "code",
   "execution_count": 8,
   "metadata": {},
   "outputs": [
    {
     "data": {
      "text/plain": [
       "0"
      ]
     },
     "execution_count": 8,
     "metadata": {},
     "output_type": "execute_result"
    }
   ],
   "source": [
    "X.isna().sum().sum()"
   ]
  },
  {
   "cell_type": "code",
   "execution_count": 9,
   "metadata": {},
   "outputs": [
    {
     "data": {
      "text/plain": [
       "[14246, 2201]"
      ]
     },
     "execution_count": 9,
     "metadata": {},
     "output_type": "execute_result"
    }
   ],
   "source": [
    "Y.value_counts().tolist()"
   ]
  },
  {
   "cell_type": "code",
   "execution_count": 10,
   "metadata": {},
   "outputs": [],
   "source": [
    "X_train, X_test, y_train, y_test = train_test_split(X, Y, test_size=Config.test_size, stratify=Y)"
   ]
  },
  {
   "cell_type": "code",
   "execution_count": 11,
   "metadata": {},
   "outputs": [
    {
     "name": "stderr",
     "output_type": "stream",
     "text": [
      "c:\\Users\\yvonn\\anaconda3\\lib\\site-packages\\imblearn\\over_sampling\\_smote\\base.py:336: FutureWarning: The parameter `n_jobs` has been deprecated in 0.10 and will be removed in 0.12. You can pass an nearest neighbors estimator where `n_jobs` is already set instead.\n",
      "  warnings.warn(\n"
     ]
    }
   ],
   "source": [
    "from imblearn.over_sampling import SMOTE\n",
    "smote_minority = SMOTE(n_jobs = -1, sampling_strategy = \"minority\")\n",
    "\n",
    "X_train_sm, y_train_sm = smote_minority.fit_resample(X_train, y_train)\n"
   ]
  },
  {
   "cell_type": "code",
   "execution_count": 11,
   "metadata": {},
   "outputs": [
    {
     "name": "stdout",
     "output_type": "stream",
     "text": [
      "Fitting 10 folds for each of 7 candidates, totalling 70 fits\n",
      "[CV 1/10] END criterion=entropy, max_depth=7, min_samples_leaf=1, min_samples_split=35;, score=0.631 total time=   0.9s\n",
      "[CV 2/10] END criterion=entropy, max_depth=7, min_samples_leaf=1, min_samples_split=35;, score=0.757 total time=   0.9s\n",
      "[CV 3/10] END criterion=entropy, max_depth=7, min_samples_leaf=1, min_samples_split=35;, score=0.862 total time=   0.9s\n",
      "[CV 4/10] END criterion=entropy, max_depth=7, min_samples_leaf=1, min_samples_split=35;, score=0.861 total time=   0.9s\n",
      "[CV 5/10] END criterion=entropy, max_depth=7, min_samples_leaf=1, min_samples_split=35;, score=0.864 total time=   0.9s\n",
      "[CV 6/10] END criterion=entropy, max_depth=7, min_samples_leaf=1, min_samples_split=35;, score=0.853 total time=   0.8s\n",
      "[CV 7/10] END criterion=entropy, max_depth=7, min_samples_leaf=1, min_samples_split=35;, score=0.853 total time=   0.9s\n",
      "[CV 8/10] END criterion=entropy, max_depth=7, min_samples_leaf=1, min_samples_split=35;, score=0.870 total time=   0.9s\n",
      "[CV 9/10] END criterion=entropy, max_depth=7, min_samples_leaf=1, min_samples_split=35;, score=0.871 total time=   0.8s\n",
      "[CV 10/10] END criterion=entropy, max_depth=7, min_samples_leaf=1, min_samples_split=35;, score=0.868 total time=   0.9s\n",
      "[CV 1/10] END criterion=gini, max_depth=9, min_samples_leaf=10, min_samples_split=30;, score=0.650 total time=   1.0s\n",
      "[CV 2/10] END criterion=gini, max_depth=9, min_samples_leaf=10, min_samples_split=30;, score=0.787 total time=   0.9s\n",
      "[CV 3/10] END criterion=gini, max_depth=9, min_samples_leaf=10, min_samples_split=30;, score=0.900 total time=   1.0s\n",
      "[CV 4/10] END criterion=gini, max_depth=9, min_samples_leaf=10, min_samples_split=30;, score=0.902 total time=   0.9s\n",
      "[CV 5/10] END criterion=gini, max_depth=9, min_samples_leaf=10, min_samples_split=30;, score=0.903 total time=   1.0s\n",
      "[CV 6/10] END criterion=gini, max_depth=9, min_samples_leaf=10, min_samples_split=30;, score=0.885 total time=   0.9s\n",
      "[CV 7/10] END criterion=gini, max_depth=9, min_samples_leaf=10, min_samples_split=30;, score=0.891 total time=   1.0s\n",
      "[CV 8/10] END criterion=gini, max_depth=9, min_samples_leaf=10, min_samples_split=30;, score=0.905 total time=   1.0s\n",
      "[CV 9/10] END criterion=gini, max_depth=9, min_samples_leaf=10, min_samples_split=30;, score=0.913 total time=   1.0s\n",
      "[CV 10/10] END criterion=gini, max_depth=9, min_samples_leaf=10, min_samples_split=30;, score=0.907 total time=   1.0s\n",
      "[CV 1/10] END criterion=gini, max_depth=5, min_samples_leaf=4, min_samples_split=25;, score=0.621 total time=   0.6s\n",
      "[CV 2/10] END criterion=gini, max_depth=5, min_samples_leaf=4, min_samples_split=25;, score=0.723 total time=   0.6s\n",
      "[CV 3/10] END criterion=gini, max_depth=5, min_samples_leaf=4, min_samples_split=25;, score=0.808 total time=   0.6s\n",
      "[CV 4/10] END criterion=gini, max_depth=5, min_samples_leaf=4, min_samples_split=25;, score=0.821 total time=   0.6s\n",
      "[CV 5/10] END criterion=gini, max_depth=5, min_samples_leaf=4, min_samples_split=25;, score=0.803 total time=   0.6s\n",
      "[CV 6/10] END criterion=gini, max_depth=5, min_samples_leaf=4, min_samples_split=25;, score=0.797 total time=   0.6s\n",
      "[CV 7/10] END criterion=gini, max_depth=5, min_samples_leaf=4, min_samples_split=25;, score=0.795 total time=   0.6s\n",
      "[CV 8/10] END criterion=gini, max_depth=5, min_samples_leaf=4, min_samples_split=25;, score=0.801 total time=   0.6s\n",
      "[CV 9/10] END criterion=gini, max_depth=5, min_samples_leaf=4, min_samples_split=25;, score=0.819 total time=   0.6s\n",
      "[CV 10/10] END criterion=gini, max_depth=5, min_samples_leaf=4, min_samples_split=25;, score=0.816 total time=   0.6s\n",
      "[CV 1/10] END criterion=entropy, max_depth=15, min_samples_leaf=10, min_samples_split=45;, score=0.658 total time=   1.5s\n",
      "[CV 2/10] END criterion=entropy, max_depth=15, min_samples_leaf=10, min_samples_split=45;, score=0.816 total time=   1.5s\n",
      "[CV 3/10] END criterion=entropy, max_depth=15, min_samples_leaf=10, min_samples_split=45;, score=0.963 total time=   1.5s\n",
      "[CV 4/10] END criterion=entropy, max_depth=15, min_samples_leaf=10, min_samples_split=45;, score=0.964 total time=   1.5s\n",
      "[CV 5/10] END criterion=entropy, max_depth=15, min_samples_leaf=10, min_samples_split=45;, score=0.964 total time=   1.5s\n",
      "[CV 6/10] END criterion=entropy, max_depth=15, min_samples_leaf=10, min_samples_split=45;, score=0.952 total time=   1.5s\n",
      "[CV 7/10] END criterion=entropy, max_depth=15, min_samples_leaf=10, min_samples_split=45;, score=0.957 total time=   1.5s\n",
      "[CV 8/10] END criterion=entropy, max_depth=15, min_samples_leaf=10, min_samples_split=45;, score=0.957 total time=   1.4s\n",
      "[CV 9/10] END criterion=entropy, max_depth=15, min_samples_leaf=10, min_samples_split=45;, score=0.961 total time=   1.4s\n",
      "[CV 10/10] END criterion=entropy, max_depth=15, min_samples_leaf=10, min_samples_split=45;, score=0.959 total time=   1.5s\n",
      "[CV 1/10] END criterion=entropy, max_depth=9, min_samples_leaf=13, min_samples_split=25;, score=0.649 total time=   1.1s\n",
      "[CV 2/10] END criterion=entropy, max_depth=9, min_samples_leaf=13, min_samples_split=25;, score=0.780 total time=   1.1s\n",
      "[CV 3/10] END criterion=entropy, max_depth=9, min_samples_leaf=13, min_samples_split=25;, score=0.897 total time=   1.1s\n",
      "[CV 4/10] END criterion=entropy, max_depth=9, min_samples_leaf=13, min_samples_split=25;, score=0.901 total time=   1.1s\n",
      "[CV 5/10] END criterion=entropy, max_depth=9, min_samples_leaf=13, min_samples_split=25;, score=0.899 total time=   1.1s\n",
      "[CV 6/10] END criterion=entropy, max_depth=9, min_samples_leaf=13, min_samples_split=25;, score=0.888 total time=   1.0s\n",
      "[CV 7/10] END criterion=entropy, max_depth=9, min_samples_leaf=13, min_samples_split=25;, score=0.897 total time=   1.1s\n",
      "[CV 8/10] END criterion=entropy, max_depth=9, min_samples_leaf=13, min_samples_split=25;, score=0.908 total time=   1.1s\n",
      "[CV 9/10] END criterion=entropy, max_depth=9, min_samples_leaf=13, min_samples_split=25;, score=0.912 total time=   1.1s\n",
      "[CV 10/10] END criterion=entropy, max_depth=9, min_samples_leaf=13, min_samples_split=25;, score=0.909 total time=   1.1s\n",
      "[CV 1/10] END criterion=gini, max_depth=16, min_samples_leaf=1, min_samples_split=40;, score=0.682 total time=   1.4s\n",
      "[CV 2/10] END criterion=gini, max_depth=16, min_samples_leaf=1, min_samples_split=40;, score=0.830 total time=   1.4s\n",
      "[CV 3/10] END criterion=gini, max_depth=16, min_samples_leaf=1, min_samples_split=40;, score=0.975 total time=   1.4s\n",
      "[CV 4/10] END criterion=gini, max_depth=16, min_samples_leaf=1, min_samples_split=40;, score=0.975 total time=   1.4s\n",
      "[CV 5/10] END criterion=gini, max_depth=16, min_samples_leaf=1, min_samples_split=40;, score=0.975 total time=   1.4s\n",
      "[CV 6/10] END criterion=gini, max_depth=16, min_samples_leaf=1, min_samples_split=40;, score=0.964 total time=   1.4s\n",
      "[CV 7/10] END criterion=gini, max_depth=16, min_samples_leaf=1, min_samples_split=40;, score=0.969 total time=   1.4s\n",
      "[CV 8/10] END criterion=gini, max_depth=16, min_samples_leaf=1, min_samples_split=40;, score=0.968 total time=   1.4s\n",
      "[CV 9/10] END criterion=gini, max_depth=16, min_samples_leaf=1, min_samples_split=40;, score=0.971 total time=   1.4s\n",
      "[CV 10/10] END criterion=gini, max_depth=16, min_samples_leaf=1, min_samples_split=40;, score=0.973 total time=   1.4s\n",
      "[CV 1/10] END criterion=gini, max_depth=8, min_samples_leaf=10, min_samples_split=20;, score=0.658 total time=   0.9s\n",
      "[CV 2/10] END criterion=gini, max_depth=8, min_samples_leaf=10, min_samples_split=20;, score=0.778 total time=   0.9s\n",
      "[CV 3/10] END criterion=gini, max_depth=8, min_samples_leaf=10, min_samples_split=20;, score=0.887 total time=   0.9s\n",
      "[CV 4/10] END criterion=gini, max_depth=8, min_samples_leaf=10, min_samples_split=20;, score=0.888 total time=   0.9s\n",
      "[CV 5/10] END criterion=gini, max_depth=8, min_samples_leaf=10, min_samples_split=20;, score=0.892 total time=   0.9s\n",
      "[CV 6/10] END criterion=gini, max_depth=8, min_samples_leaf=10, min_samples_split=20;, score=0.877 total time=   0.9s\n",
      "[CV 7/10] END criterion=gini, max_depth=8, min_samples_leaf=10, min_samples_split=20;, score=0.875 total time=   0.9s\n",
      "[CV 8/10] END criterion=gini, max_depth=8, min_samples_leaf=10, min_samples_split=20;, score=0.891 total time=   0.9s\n",
      "[CV 9/10] END criterion=gini, max_depth=8, min_samples_leaf=10, min_samples_split=20;, score=0.886 total time=   0.9s\n",
      "[CV 10/10] END criterion=gini, max_depth=8, min_samples_leaf=10, min_samples_split=20;, score=0.883 total time=   0.9s\n"
     ]
    },
    {
     "data": {
      "text/plain": [
       "0.9282794277268425"
      ]
     },
     "execution_count": 11,
     "metadata": {},
     "output_type": "execute_result"
    }
   ],
   "source": [
    "\n",
    "# Create param grid\n",
    "\n",
    "from sklearn.model_selection import RandomizedSearchCV\n",
    "\n",
    "\n",
    "param_grid = {\n",
    "              'criterion': ['gini', 'entropy'], \n",
    "              'min_samples_split':  range(5,50, 5),\n",
    "              'min_samples_leaf': range(1, 15, 3),\n",
    "              'max_depth': range(5, 20, 1)\n",
    "              } \n",
    "\n",
    "clf = RandomizedSearchCV(\n",
    "    estimator=RandomForestClassifier(),\n",
    "    scoring=\"accuracy\",\n",
    "    param_distributions=param_grid,\n",
    "    cv=10,\n",
    "    n_iter = 7,\n",
    "    refit=True,\n",
    "    verbose=3\n",
    ")\n",
    "\n",
    "best_clf = clf.fit(X_train_sm, y_train_sm)\n",
    "\n",
    "best_clf.best_score_"
   ]
  },
  {
   "cell_type": "code",
   "execution_count": 12,
   "metadata": {},
   "outputs": [
    {
     "data": {
      "text/plain": [
       "0.8772036474164133"
      ]
     },
     "execution_count": 12,
     "metadata": {},
     "output_type": "execute_result"
    }
   ],
   "source": [
    "best_model = best_clf.best_estimator_\n",
    "best_model.score(X_test,y_test)"
   ]
  },
  {
   "cell_type": "code",
   "execution_count": 13,
   "metadata": {},
   "outputs": [
    {
     "data": {
      "text/plain": [
       "{'min_samples_split': 40,\n",
       " 'min_samples_leaf': 1,\n",
       " 'max_depth': 16,\n",
       " 'criterion': 'gini'}"
      ]
     },
     "execution_count": 13,
     "metadata": {},
     "output_type": "execute_result"
    }
   ],
   "source": [
    "best_clf.best_params_\n",
    "# ('min_samples_split': 40,  'min_samples_leaf': 1,  'max_depth': 16,  'criterion': 'gini')"
   ]
  },
  {
   "cell_type": "code",
   "execution_count": 12,
   "metadata": {},
   "outputs": [
    {
     "data": {
      "text/plain": [
       "['../models/best_model_random_forest.pkl']"
      ]
     },
     "execution_count": 12,
     "metadata": {},
     "output_type": "execute_result"
    }
   ],
   "source": [
    "import joblib\n",
    "\n",
    "best_model = RandomForestClassifier(min_samples_split= 40,  min_samples_leaf= 1,  max_depth= 16,  criterion= 'gini')\n",
    "best_model.fit(X_train_sm, y_train_sm)\n",
    "joblib.dump(best_model,'../models/best_model_random_forest.pkl')\n"
   ]
  }
 ],
 "metadata": {
  "kernelspec": {
   "display_name": "base",
   "language": "python",
   "name": "python3"
  },
  "language_info": {
   "codemirror_mode": {
    "name": "ipython",
    "version": 3
   },
   "file_extension": ".py",
   "mimetype": "text/x-python",
   "name": "python",
   "nbconvert_exporter": "python",
   "pygments_lexer": "ipython3",
   "version": "3.9.12"
  },
  "orig_nbformat": 4
 },
 "nbformat": 4,
 "nbformat_minor": 2
}
