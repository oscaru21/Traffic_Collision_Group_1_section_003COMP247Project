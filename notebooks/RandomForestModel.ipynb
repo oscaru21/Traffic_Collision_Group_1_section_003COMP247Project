{
 "cells": [
  {
   "cell_type": "code",
   "execution_count": 33,
   "metadata": {},
   "outputs": [],
   "source": [
    "# prerequisite\n",
    "# pip install -U imbalanced-learn"
   ]
  },
  {
   "cell_type": "code",
   "execution_count": 34,
   "metadata": {},
   "outputs": [],
   "source": [
    "import matplotlib.pyplot as plt\n",
    "from pipelines.DataPipeline import DataPipeline\n",
    "from transformers.Preprocessing import Preprocessing\n",
    "from sklearn.ensemble import RandomForestClassifier\n",
    "from sklearn.model_selection import train_test_split\n",
    "from sklearn.model_selection import GridSearchCV\n",
    "from imblearn.over_sampling import SMOTE\n",
    "from utils.Common import Config\n",
    "\n",
    "import numpy as np\n",
    "import pandas as pd\n",
    "import matplotlib.pyplot as plt\n"
   ]
  },
  {
   "cell_type": "code",
   "execution_count": 35,
   "metadata": {},
   "outputs": [],
   "source": [
    "RAW_DATA_PATH = \"../data/raw/KSI.csv\"\n",
    "df = pd.read_csv(RAW_DATA_PATH)"
   ]
  },
  {
   "cell_type": "code",
   "execution_count": 36,
   "metadata": {},
   "outputs": [],
   "source": [
    "# fill missing values, adding new columns, extracting useful columns\n",
    "pc = Preprocessing(df, Config.binary_columns, Config.cat_attribs, Config.num_attribs, Config.label)\n",
    "new_df = pc.getFrame()"
   ]
  },
  {
   "cell_type": "code",
   "execution_count": 37,
   "metadata": {},
   "outputs": [],
   "source": [
    "# seperate feature and label\n",
    "X = new_df[Config.cat_attribs + Config.num_attribs+ Config.binary_columns]\n",
    "Y = new_df[Config.label]"
   ]
  },
  {
   "cell_type": "code",
   "execution_count": 38,
   "metadata": {},
   "outputs": [],
   "source": [
    "# pass feature to pipeline and convert it to numerical data\n",
    "X = DataPipeline(Config.num_attribs,Config.cat_attribs).process(X)"
   ]
  },
  {
   "cell_type": "code",
   "execution_count": 39,
   "metadata": {},
   "outputs": [
    {
     "data": {
      "text/plain": [
       "0"
      ]
     },
     "execution_count": 39,
     "metadata": {},
     "output_type": "execute_result"
    }
   ],
   "source": [
    "X.isna().sum().sum()"
   ]
  },
  {
   "cell_type": "code",
   "execution_count": 40,
   "metadata": {},
   "outputs": [
    {
     "data": {
      "text/plain": [
       "[14246, 2201]"
      ]
     },
     "execution_count": 40,
     "metadata": {},
     "output_type": "execute_result"
    }
   ],
   "source": [
    "Y.value_counts().tolist()"
   ]
  },
  {
   "cell_type": "code",
   "execution_count": 41,
   "metadata": {},
   "outputs": [],
   "source": [
    "X_train, X_test, y_train, y_test = train_test_split(X, Y, test_size=Config.test_size, stratify=Y, random_state=42)"
   ]
  },
  {
   "cell_type": "code",
   "execution_count": 42,
   "metadata": {},
   "outputs": [],
   "source": [
    "smote_minority = SMOTE(sampling_strategy = \"minority\", random_state=42)\n",
    "X_train_sm, y_train_sm = smote_minority.fit_resample(X_train, y_train)\n"
   ]
  },
  {
   "cell_type": "code",
   "execution_count": 43,
   "metadata": {},
   "outputs": [
    {
     "name": "stdout",
     "output_type": "stream",
     "text": [
      "Fitting 10 folds for each of 7 candidates, totalling 70 fits\n",
      "[CV 1/10] END criterion=gini, max_depth=8, min_samples_leaf=13, min_samples_split=10, n_estimators=100;, score=0.664 total time=   0.9s\n",
      "[CV 2/10] END criterion=gini, max_depth=8, min_samples_leaf=13, min_samples_split=10, n_estimators=100;, score=0.742 total time=   0.9s\n",
      "[CV 3/10] END criterion=gini, max_depth=8, min_samples_leaf=13, min_samples_split=10, n_estimators=100;, score=0.875 total time=   0.9s\n",
      "[CV 4/10] END criterion=gini, max_depth=8, min_samples_leaf=13, min_samples_split=10, n_estimators=100;, score=0.866 total time=   0.9s\n",
      "[CV 5/10] END criterion=gini, max_depth=8, min_samples_leaf=13, min_samples_split=10, n_estimators=100;, score=0.870 total time=   0.9s\n",
      "[CV 6/10] END criterion=gini, max_depth=8, min_samples_leaf=13, min_samples_split=10, n_estimators=100;, score=0.886 total time=   0.9s\n",
      "[CV 7/10] END criterion=gini, max_depth=8, min_samples_leaf=13, min_samples_split=10, n_estimators=100;, score=0.862 total time=   0.9s\n",
      "[CV 8/10] END criterion=gini, max_depth=8, min_samples_leaf=13, min_samples_split=10, n_estimators=100;, score=0.865 total time=   0.9s\n",
      "[CV 9/10] END criterion=gini, max_depth=8, min_samples_leaf=13, min_samples_split=10, n_estimators=100;, score=0.871 total time=   0.9s\n",
      "[CV 10/10] END criterion=gini, max_depth=8, min_samples_leaf=13, min_samples_split=10, n_estimators=100;, score=0.872 total time=   0.9s\n",
      "[CV 1/10] END criterion=entropy, max_depth=13, min_samples_leaf=13, min_samples_split=40, n_estimators=100;, score=0.674 total time=   1.4s\n",
      "[CV 2/10] END criterion=entropy, max_depth=13, min_samples_leaf=13, min_samples_split=40, n_estimators=100;, score=0.780 total time=   1.4s\n",
      "[CV 3/10] END criterion=entropy, max_depth=13, min_samples_leaf=13, min_samples_split=40, n_estimators=100;, score=0.941 total time=   1.4s\n",
      "[CV 4/10] END criterion=entropy, max_depth=13, min_samples_leaf=13, min_samples_split=40, n_estimators=100;, score=0.940 total time=   1.4s\n",
      "[CV 5/10] END criterion=entropy, max_depth=13, min_samples_leaf=13, min_samples_split=40, n_estimators=100;, score=0.941 total time=   1.3s\n",
      "[CV 6/10] END criterion=entropy, max_depth=13, min_samples_leaf=13, min_samples_split=40, n_estimators=100;, score=0.946 total time=   1.4s\n",
      "[CV 7/10] END criterion=entropy, max_depth=13, min_samples_leaf=13, min_samples_split=40, n_estimators=100;, score=0.940 total time=   1.5s\n",
      "[CV 8/10] END criterion=entropy, max_depth=13, min_samples_leaf=13, min_samples_split=40, n_estimators=100;, score=0.939 total time=   1.4s\n",
      "[CV 9/10] END criterion=entropy, max_depth=13, min_samples_leaf=13, min_samples_split=40, n_estimators=100;, score=0.938 total time=   1.6s\n",
      "[CV 10/10] END criterion=entropy, max_depth=13, min_samples_leaf=13, min_samples_split=40, n_estimators=100;, score=0.945 total time=   1.4s\n",
      "[CV 1/10] END criterion=entropy, max_depth=13, min_samples_leaf=4, min_samples_split=10, n_estimators=200;, score=0.682 total time=   3.3s\n",
      "[CV 2/10] END criterion=entropy, max_depth=13, min_samples_leaf=4, min_samples_split=10, n_estimators=200;, score=0.805 total time=   2.8s\n",
      "[CV 3/10] END criterion=entropy, max_depth=13, min_samples_leaf=4, min_samples_split=10, n_estimators=200;, score=0.958 total time=   2.9s\n",
      "[CV 4/10] END criterion=entropy, max_depth=13, min_samples_leaf=4, min_samples_split=10, n_estimators=200;, score=0.952 total time=   3.2s\n",
      "[CV 5/10] END criterion=entropy, max_depth=13, min_samples_leaf=4, min_samples_split=10, n_estimators=200;, score=0.957 total time=   3.1s\n",
      "[CV 6/10] END criterion=entropy, max_depth=13, min_samples_leaf=4, min_samples_split=10, n_estimators=200;, score=0.955 total time=   3.0s\n",
      "[CV 7/10] END criterion=entropy, max_depth=13, min_samples_leaf=4, min_samples_split=10, n_estimators=200;, score=0.959 total time=   3.0s\n",
      "[CV 8/10] END criterion=entropy, max_depth=13, min_samples_leaf=4, min_samples_split=10, n_estimators=200;, score=0.963 total time=   3.0s\n",
      "[CV 9/10] END criterion=entropy, max_depth=13, min_samples_leaf=4, min_samples_split=10, n_estimators=200;, score=0.964 total time=   3.0s\n",
      "[CV 10/10] END criterion=entropy, max_depth=13, min_samples_leaf=4, min_samples_split=10, n_estimators=200;, score=0.961 total time=   3.0s\n",
      "[CV 1/10] END criterion=entropy, max_depth=13, min_samples_leaf=1, min_samples_split=20, n_estimators=200;, score=0.685 total time=   3.1s\n",
      "[CV 2/10] END criterion=entropy, max_depth=13, min_samples_leaf=1, min_samples_split=20, n_estimators=200;, score=0.815 total time=   3.2s\n",
      "[CV 3/10] END criterion=entropy, max_depth=13, min_samples_leaf=1, min_samples_split=20, n_estimators=200;, score=0.958 total time=   2.9s\n",
      "[CV 4/10] END criterion=entropy, max_depth=13, min_samples_leaf=1, min_samples_split=20, n_estimators=200;, score=0.956 total time=   2.9s\n",
      "[CV 5/10] END criterion=entropy, max_depth=13, min_samples_leaf=1, min_samples_split=20, n_estimators=200;, score=0.960 total time=   2.9s\n",
      "[CV 6/10] END criterion=entropy, max_depth=13, min_samples_leaf=1, min_samples_split=20, n_estimators=200;, score=0.955 total time=   2.9s\n",
      "[CV 7/10] END criterion=entropy, max_depth=13, min_samples_leaf=1, min_samples_split=20, n_estimators=200;, score=0.963 total time=   2.9s\n",
      "[CV 8/10] END criterion=entropy, max_depth=13, min_samples_leaf=1, min_samples_split=20, n_estimators=200;, score=0.962 total time=   2.9s\n",
      "[CV 9/10] END criterion=entropy, max_depth=13, min_samples_leaf=1, min_samples_split=20, n_estimators=200;, score=0.964 total time=   2.9s\n",
      "[CV 10/10] END criterion=entropy, max_depth=13, min_samples_leaf=1, min_samples_split=20, n_estimators=200;, score=0.965 total time=   2.7s\n",
      "[CV 1/10] END criterion=entropy, max_depth=6, min_samples_leaf=10, min_samples_split=40, n_estimators=400;, score=0.646 total time=   3.2s\n",
      "[CV 2/10] END criterion=entropy, max_depth=6, min_samples_leaf=10, min_samples_split=40, n_estimators=400;, score=0.708 total time=   3.2s\n",
      "[CV 3/10] END criterion=entropy, max_depth=6, min_samples_leaf=10, min_samples_split=40, n_estimators=400;, score=0.835 total time=   3.1s\n",
      "[CV 4/10] END criterion=entropy, max_depth=6, min_samples_leaf=10, min_samples_split=40, n_estimators=400;, score=0.826 total time=   3.1s\n",
      "[CV 5/10] END criterion=entropy, max_depth=6, min_samples_leaf=10, min_samples_split=40, n_estimators=400;, score=0.825 total time=   3.1s\n",
      "[CV 6/10] END criterion=entropy, max_depth=6, min_samples_leaf=10, min_samples_split=40, n_estimators=400;, score=0.831 total time=   3.1s\n",
      "[CV 7/10] END criterion=entropy, max_depth=6, min_samples_leaf=10, min_samples_split=40, n_estimators=400;, score=0.820 total time=   3.1s\n",
      "[CV 8/10] END criterion=entropy, max_depth=6, min_samples_leaf=10, min_samples_split=40, n_estimators=400;, score=0.818 total time=   3.0s\n",
      "[CV 9/10] END criterion=entropy, max_depth=6, min_samples_leaf=10, min_samples_split=40, n_estimators=400;, score=0.822 total time=   3.1s\n",
      "[CV 10/10] END criterion=entropy, max_depth=6, min_samples_leaf=10, min_samples_split=40, n_estimators=400;, score=0.825 total time=   3.1s\n",
      "[CV 1/10] END criterion=gini, max_depth=18, min_samples_leaf=10, min_samples_split=35, n_estimators=400;, score=0.676 total time=   5.3s\n",
      "[CV 2/10] END criterion=gini, max_depth=18, min_samples_leaf=10, min_samples_split=35, n_estimators=400;, score=0.809 total time=   5.3s\n",
      "[CV 3/10] END criterion=gini, max_depth=18, min_samples_leaf=10, min_samples_split=35, n_estimators=400;, score=0.968 total time=   5.1s\n",
      "[CV 4/10] END criterion=gini, max_depth=18, min_samples_leaf=10, min_samples_split=35, n_estimators=400;, score=0.963 total time=   5.2s\n",
      "[CV 5/10] END criterion=gini, max_depth=18, min_samples_leaf=10, min_samples_split=35, n_estimators=400;, score=0.969 total time=   5.2s\n",
      "[CV 6/10] END criterion=gini, max_depth=18, min_samples_leaf=10, min_samples_split=35, n_estimators=400;, score=0.961 total time=   5.2s\n",
      "[CV 7/10] END criterion=gini, max_depth=18, min_samples_leaf=10, min_samples_split=35, n_estimators=400;, score=0.975 total time=   5.2s\n",
      "[CV 8/10] END criterion=gini, max_depth=18, min_samples_leaf=10, min_samples_split=35, n_estimators=400;, score=0.965 total time=   5.2s\n",
      "[CV 9/10] END criterion=gini, max_depth=18, min_samples_leaf=10, min_samples_split=35, n_estimators=400;, score=0.967 total time=   5.2s\n",
      "[CV 10/10] END criterion=gini, max_depth=18, min_samples_leaf=10, min_samples_split=35, n_estimators=400;, score=0.971 total time=   5.2s\n",
      "[CV 1/10] END criterion=entropy, max_depth=15, min_samples_leaf=7, min_samples_split=20, n_estimators=1000;, score=0.675 total time=  14.8s\n",
      "[CV 2/10] END criterion=entropy, max_depth=15, min_samples_leaf=7, min_samples_split=20, n_estimators=1000;, score=0.811 total time=  14.6s\n",
      "[CV 3/10] END criterion=entropy, max_depth=15, min_samples_leaf=7, min_samples_split=20, n_estimators=1000;, score=0.967 total time=  14.4s\n",
      "[CV 4/10] END criterion=entropy, max_depth=15, min_samples_leaf=7, min_samples_split=20, n_estimators=1000;, score=0.964 total time=  14.5s\n",
      "[CV 5/10] END criterion=entropy, max_depth=15, min_samples_leaf=7, min_samples_split=20, n_estimators=1000;, score=0.967 total time=  16.6s\n",
      "[CV 6/10] END criterion=entropy, max_depth=15, min_samples_leaf=7, min_samples_split=20, n_estimators=1000;, score=0.961 total time=  17.4s\n",
      "[CV 7/10] END criterion=entropy, max_depth=15, min_samples_leaf=7, min_samples_split=20, n_estimators=1000;, score=0.971 total time=  16.9s\n",
      "[CV 8/10] END criterion=entropy, max_depth=15, min_samples_leaf=7, min_samples_split=20, n_estimators=1000;, score=0.965 total time=  16.3s\n",
      "[CV 9/10] END criterion=entropy, max_depth=15, min_samples_leaf=7, min_samples_split=20, n_estimators=1000;, score=0.968 total time=  16.8s\n",
      "[CV 10/10] END criterion=entropy, max_depth=15, min_samples_leaf=7, min_samples_split=20, n_estimators=1000;, score=0.968 total time=  16.7s\n"
     ]
    },
    {
     "data": {
      "text/plain": [
       "0.922400849095094"
      ]
     },
     "execution_count": 43,
     "metadata": {},
     "output_type": "execute_result"
    }
   ],
   "source": [
    "\n",
    "# Create param grid\n",
    "\n",
    "from sklearn.model_selection import RandomizedSearchCV\n",
    "\n",
    "\n",
    "param_grid = {\n",
    "              'n_estimators': [100,200,400,600,1000],\n",
    "              'criterion': ['gini', 'entropy'], \n",
    "              'min_samples_split':  range(5,50, 5),\n",
    "              'min_samples_leaf': range(1, 15, 3),\n",
    "              'max_depth': range(5, 20, 1)\n",
    "              } \n",
    "\n",
    "clf = RandomizedSearchCV(\n",
    "    estimator=RandomForestClassifier(random_state=42),\n",
    "    scoring=\"accuracy\",\n",
    "    param_distributions=param_grid,\n",
    "    cv=10,\n",
    "    n_iter = 7,\n",
    "    refit=True,\n",
    "    verbose=3,\n",
    "    random_state=42\n",
    ")\n",
    "\n",
    "best_clf = clf.fit(X_train_sm, y_train_sm)\n",
    "\n",
    "best_clf.best_score_"
   ]
  },
  {
   "cell_type": "code",
   "execution_count": 44,
   "metadata": {},
   "outputs": [
    {
     "data": {
      "text/plain": [
       "0.8708206686930091"
      ]
     },
     "execution_count": 44,
     "metadata": {},
     "output_type": "execute_result"
    }
   ],
   "source": [
    "best_model = best_clf.best_estimator_\n",
    "best_model.score(X_test,y_test)"
   ]
  },
  {
   "cell_type": "code",
   "execution_count": 45,
   "metadata": {},
   "outputs": [
    {
     "data": {
      "text/plain": [
       "0.9143421752679182"
      ]
     },
     "execution_count": 45,
     "metadata": {},
     "output_type": "execute_result"
    }
   ],
   "source": [
    "best_model.score(X_train,y_train)"
   ]
  },
  {
   "cell_type": "code",
   "execution_count": 46,
   "metadata": {},
   "outputs": [
    {
     "name": "stdout",
     "output_type": "stream",
     "text": [
      "              precision    recall  f1-score   support\n",
      "\n",
      "           0       0.93      0.97      0.95     11396\n",
      "           1       0.75      0.54      0.63      1761\n",
      "\n",
      "    accuracy                           0.91     13157\n",
      "   macro avg       0.84      0.76      0.79     13157\n",
      "weighted avg       0.91      0.91      0.91     13157\n",
      "\n",
      "              precision    recall  f1-score   support\n",
      "\n",
      "           0       0.92      0.97      0.95     11396\n",
      "           1       0.97      0.92      0.94     11396\n",
      "\n",
      "    accuracy                           0.95     22792\n",
      "   macro avg       0.95      0.95      0.95     22792\n",
      "weighted avg       0.95      0.95      0.95     22792\n",
      "\n",
      "              precision    recall  f1-score   support\n",
      "\n",
      "           0       0.90      0.96      0.93      2850\n",
      "           1       0.53      0.30      0.38       440\n",
      "\n",
      "    accuracy                           0.87      3290\n",
      "   macro avg       0.71      0.63      0.65      3290\n",
      "weighted avg       0.85      0.87      0.85      3290\n",
      "\n"
     ]
    }
   ],
   "source": [
    "from sklearn.metrics import classification_report\n",
    "\n",
    "y_train_pred = best_model.predict(X_train)\n",
    "y_train_sm_pred = best_model.predict(X_train_sm)\n",
    "y_test_pred = best_model.predict(X_test)\n",
    "\n",
    "print(classification_report(y_train,y_train_pred))\n",
    "print(classification_report(y_train_sm,y_train_sm_pred))\n",
    "print(classification_report(y_test,y_test_pred))"
   ]
  },
  {
   "cell_type": "code",
   "execution_count": 47,
   "metadata": {},
   "outputs": [
    {
     "data": {
      "text/plain": [
       "{'n_estimators': 400,\n",
       " 'min_samples_split': 35,\n",
       " 'min_samples_leaf': 10,\n",
       " 'max_depth': 18,\n",
       " 'criterion': 'gini'}"
      ]
     },
     "execution_count": 47,
     "metadata": {},
     "output_type": "execute_result"
    }
   ],
   "source": [
    "best_clf.best_params_\n",
    "# ('n_estimators': 400, 'min_samples_split': 35,  'min_samples_leaf': 10,  'max_depth': 18,  'criterion': 'gini')"
   ]
  },
  {
   "cell_type": "code",
   "execution_count": 50,
   "metadata": {},
   "outputs": [
    {
     "data": {
      "text/plain": [
       "['../models/best_model_random_forest.pkl']"
      ]
     },
     "execution_count": 50,
     "metadata": {},
     "output_type": "execute_result"
    }
   ],
   "source": [
    "import joblib\n",
    "\n",
    "best_model = RandomForestClassifier(n_estimators= 400, min_samples_split=35,  min_samples_leaf= 10,  max_depth= 18,  criterion= 'gini')\n",
    "best_model.fit(X_train_sm, y_train_sm)\n",
    "joblib.dump(best_model,'../models/best_model_random_forest.pkl')\n"
   ]
  }
 ],
 "metadata": {
  "kernelspec": {
   "display_name": "base",
   "language": "python",
   "name": "python3"
  },
  "language_info": {
   "codemirror_mode": {
    "name": "ipython",
    "version": 3
   },
   "file_extension": ".py",
   "mimetype": "text/x-python",
   "name": "python",
   "nbconvert_exporter": "python",
   "pygments_lexer": "ipython3",
   "version": "3.9.12"
  },
  "orig_nbformat": 4
 },
 "nbformat": 4,
 "nbformat_minor": 2
}
