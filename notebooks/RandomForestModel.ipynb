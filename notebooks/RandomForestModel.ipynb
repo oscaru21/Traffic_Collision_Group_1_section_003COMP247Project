{
 "cells": [
  {
   "cell_type": "code",
   "execution_count": 14,
   "metadata": {},
   "outputs": [],
   "source": [
    "# prerequisite\n",
    "# pip install -U imbalanced-learn"
   ]
  },
  {
   "cell_type": "code",
   "execution_count": 15,
   "metadata": {},
   "outputs": [],
   "source": [
    "from pipelines.DataPipeline import DataPipeline\n",
    "from transformers.Preprocessing import Preprocessing\n",
    "from sklearn.model_selection import train_test_split\n",
    "\n",
    "from transformers.Rebalancer import Rebalancer\n",
    "\n",
    "from utils.DataHelper import DataHelper\n",
    "from utils.Common import Config\n",
    "from sklearn.model_selection import GridSearchCV\n",
    "from sklearn.svm import SVC\n",
    "\n",
    "from sklearn.ensemble import RandomForestClassifier\n",
    "\n",
    "import pandas as pd\n",
    "import matplotlib.pyplot as plt\n"
   ]
  },
  {
   "cell_type": "code",
   "execution_count": 16,
   "metadata": {},
   "outputs": [],
   "source": [
    "RAW_DATA_PATH = \"../data/raw/KSI.csv\"\n",
    "df = pd.read_csv(RAW_DATA_PATH)"
   ]
  },
  {
   "cell_type": "code",
   "execution_count": 17,
   "metadata": {},
   "outputs": [],
   "source": [
    "# fill missing values, adding new columns, extracting useful columns\n",
    "pc = Preprocessing(df, Config.binary_columns, Config.cat_attribs, Config.num_attribs, Config.label)\n",
    "new_df = pc.getFrame()"
   ]
  },
  {
   "cell_type": "code",
   "execution_count": 18,
   "metadata": {},
   "outputs": [],
   "source": [
    "# seperate feature and label\n",
    "X = new_df[Config.cat_attribs + Config.num_attribs+ Config.binary_columns]\n",
    "Y = new_df[Config.label]"
   ]
  },
  {
   "cell_type": "code",
   "execution_count": 19,
   "metadata": {},
   "outputs": [],
   "source": [
    "# pass feature to pipeline and convert it to numerical data\n",
    "X = DataPipeline(Config.num_attribs,Config.cat_attribs).process(X)"
   ]
  },
  {
   "cell_type": "code",
   "execution_count": 20,
   "metadata": {},
   "outputs": [
    {
     "data": {
      "text/plain": [
       "0"
      ]
     },
     "execution_count": 20,
     "metadata": {},
     "output_type": "execute_result"
    }
   ],
   "source": [
    "X.isna().sum().sum()"
   ]
  },
  {
   "cell_type": "code",
   "execution_count": 21,
   "metadata": {},
   "outputs": [
    {
     "data": {
      "text/plain": [
       "[14246, 2201]"
      ]
     },
     "execution_count": 21,
     "metadata": {},
     "output_type": "execute_result"
    }
   ],
   "source": [
    "Y.value_counts().tolist()"
   ]
  },
  {
   "cell_type": "code",
   "execution_count": 22,
   "metadata": {},
   "outputs": [],
   "source": [
    "X_train, X_test, y_train, y_test = train_test_split(X, Y, test_size=Config.test_size, stratify=Y)"
   ]
  },
  {
   "cell_type": "code",
   "execution_count": 23,
   "metadata": {},
   "outputs": [
    {
     "name": "stderr",
     "output_type": "stream",
     "text": [
      "c:\\Users\\yvonn\\anaconda3\\lib\\site-packages\\imblearn\\over_sampling\\_smote\\base.py:336: FutureWarning: The parameter `n_jobs` has been deprecated in 0.10 and will be removed in 0.12. You can pass an nearest neighbors estimator where `n_jobs` is already set instead.\n",
      "  warnings.warn(\n"
     ]
    }
   ],
   "source": [
    "from imblearn.over_sampling import SMOTE\n",
    "smote_minority = SMOTE(n_jobs = -1, sampling_strategy = \"minority\")\n",
    "\n",
    "X_train_sm, y_train_sm = smote_minority.fit_resample(X_train, y_train)\n"
   ]
  },
  {
   "cell_type": "code",
   "execution_count": 29,
   "metadata": {},
   "outputs": [
    {
     "name": "stdout",
     "output_type": "stream",
     "text": [
      "Fitting 10 folds for each of 7 candidates, totalling 70 fits\n",
      "[CV 1/10] END criterion=entropy, max_depth=13, min_samples_leaf=4, min_samples_split=30;, score=0.682 total time=   1.4s\n",
      "[CV 2/10] END criterion=entropy, max_depth=13, min_samples_leaf=4, min_samples_split=30;, score=0.808 total time=   1.3s\n",
      "[CV 3/10] END criterion=entropy, max_depth=13, min_samples_leaf=4, min_samples_split=30;, score=0.955 total time=   1.4s\n",
      "[CV 4/10] END criterion=entropy, max_depth=13, min_samples_leaf=4, min_samples_split=30;, score=0.957 total time=   1.4s\n",
      "[CV 5/10] END criterion=entropy, max_depth=13, min_samples_leaf=4, min_samples_split=30;, score=0.947 total time=   1.4s\n",
      "[CV 6/10] END criterion=entropy, max_depth=13, min_samples_leaf=4, min_samples_split=30;, score=0.961 total time=   1.3s\n",
      "[CV 7/10] END criterion=entropy, max_depth=13, min_samples_leaf=4, min_samples_split=30;, score=0.952 total time=   1.3s\n",
      "[CV 8/10] END criterion=entropy, max_depth=13, min_samples_leaf=4, min_samples_split=30;, score=0.943 total time=   1.3s\n",
      "[CV 9/10] END criterion=entropy, max_depth=13, min_samples_leaf=4, min_samples_split=30;, score=0.948 total time=   1.3s\n",
      "[CV 10/10] END criterion=entropy, max_depth=13, min_samples_leaf=4, min_samples_split=30;, score=0.953 total time=   1.3s\n",
      "[CV 1/10] END criterion=gini, max_depth=18, min_samples_leaf=10, min_samples_split=45;, score=0.672 total time=   1.3s\n",
      "[CV 2/10] END criterion=gini, max_depth=18, min_samples_leaf=10, min_samples_split=45;, score=0.810 total time=   1.4s\n",
      "[CV 3/10] END criterion=gini, max_depth=18, min_samples_leaf=10, min_samples_split=45;, score=0.969 total time=   1.5s\n",
      "[CV 4/10] END criterion=gini, max_depth=18, min_samples_leaf=10, min_samples_split=45;, score=0.961 total time=   1.5s\n",
      "[CV 5/10] END criterion=gini, max_depth=18, min_samples_leaf=10, min_samples_split=45;, score=0.958 total time=   1.3s\n",
      "[CV 6/10] END criterion=gini, max_depth=18, min_samples_leaf=10, min_samples_split=45;, score=0.968 total time=   1.3s\n",
      "[CV 7/10] END criterion=gini, max_depth=18, min_samples_leaf=10, min_samples_split=45;, score=0.958 total time=   1.3s\n",
      "[CV 8/10] END criterion=gini, max_depth=18, min_samples_leaf=10, min_samples_split=45;, score=0.956 total time=   1.3s\n",
      "[CV 9/10] END criterion=gini, max_depth=18, min_samples_leaf=10, min_samples_split=45;, score=0.960 total time=   1.3s\n",
      "[CV 10/10] END criterion=gini, max_depth=18, min_samples_leaf=10, min_samples_split=45;, score=0.966 total time=   1.3s\n",
      "[CV 1/10] END criterion=entropy, max_depth=5, min_samples_leaf=13, min_samples_split=40;, score=0.609 total time=   0.6s\n",
      "[CV 2/10] END criterion=entropy, max_depth=5, min_samples_leaf=13, min_samples_split=40;, score=0.712 total time=   0.6s\n",
      "[CV 3/10] END criterion=entropy, max_depth=5, min_samples_leaf=13, min_samples_split=40;, score=0.790 total time=   0.6s\n",
      "[CV 4/10] END criterion=entropy, max_depth=5, min_samples_leaf=13, min_samples_split=40;, score=0.797 total time=   0.6s\n",
      "[CV 5/10] END criterion=entropy, max_depth=5, min_samples_leaf=13, min_samples_split=40;, score=0.806 total time=   0.6s\n",
      "[CV 6/10] END criterion=entropy, max_depth=5, min_samples_leaf=13, min_samples_split=40;, score=0.804 total time=   0.6s\n",
      "[CV 7/10] END criterion=entropy, max_depth=5, min_samples_leaf=13, min_samples_split=40;, score=0.791 total time=   0.6s\n",
      "[CV 8/10] END criterion=entropy, max_depth=5, min_samples_leaf=13, min_samples_split=40;, score=0.781 total time=   0.6s\n",
      "[CV 9/10] END criterion=entropy, max_depth=5, min_samples_leaf=13, min_samples_split=40;, score=0.795 total time=   0.6s\n",
      "[CV 10/10] END criterion=entropy, max_depth=5, min_samples_leaf=13, min_samples_split=40;, score=0.810 total time=   0.6s\n",
      "[CV 1/10] END criterion=gini, max_depth=16, min_samples_leaf=10, min_samples_split=10;, score=0.686 total time=   1.2s\n",
      "[CV 2/10] END criterion=gini, max_depth=16, min_samples_leaf=10, min_samples_split=10;, score=0.812 total time=   1.3s\n",
      "[CV 3/10] END criterion=gini, max_depth=16, min_samples_leaf=10, min_samples_split=10;, score=0.964 total time=   1.3s\n",
      "[CV 4/10] END criterion=gini, max_depth=16, min_samples_leaf=10, min_samples_split=10;, score=0.964 total time=   1.4s\n",
      "[CV 5/10] END criterion=gini, max_depth=16, min_samples_leaf=10, min_samples_split=10;, score=0.950 total time=   1.6s\n",
      "[CV 6/10] END criterion=gini, max_depth=16, min_samples_leaf=10, min_samples_split=10;, score=0.968 total time=   1.4s\n",
      "[CV 7/10] END criterion=gini, max_depth=16, min_samples_leaf=10, min_samples_split=10;, score=0.959 total time=   1.4s\n",
      "[CV 8/10] END criterion=gini, max_depth=16, min_samples_leaf=10, min_samples_split=10;, score=0.953 total time=   1.3s\n",
      "[CV 9/10] END criterion=gini, max_depth=16, min_samples_leaf=10, min_samples_split=10;, score=0.961 total time=   1.3s\n",
      "[CV 10/10] END criterion=gini, max_depth=16, min_samples_leaf=10, min_samples_split=10;, score=0.963 total time=   1.3s\n",
      "[CV 1/10] END criterion=entropy, max_depth=8, min_samples_leaf=13, min_samples_split=10;, score=0.648 total time=   1.0s\n",
      "[CV 2/10] END criterion=entropy, max_depth=8, min_samples_leaf=13, min_samples_split=10;, score=0.751 total time=   1.0s\n",
      "[CV 3/10] END criterion=entropy, max_depth=8, min_samples_leaf=13, min_samples_split=10;, score=0.883 total time=   1.0s\n",
      "[CV 4/10] END criterion=entropy, max_depth=8, min_samples_leaf=13, min_samples_split=10;, score=0.879 total time=   1.0s\n",
      "[CV 5/10] END criterion=entropy, max_depth=8, min_samples_leaf=13, min_samples_split=10;, score=0.884 total time=   1.0s\n",
      "[CV 6/10] END criterion=entropy, max_depth=8, min_samples_leaf=13, min_samples_split=10;, score=0.885 total time=   1.0s\n",
      "[CV 7/10] END criterion=entropy, max_depth=8, min_samples_leaf=13, min_samples_split=10;, score=0.870 total time=   1.0s\n",
      "[CV 8/10] END criterion=entropy, max_depth=8, min_samples_leaf=13, min_samples_split=10;, score=0.867 total time=   1.0s\n",
      "[CV 9/10] END criterion=entropy, max_depth=8, min_samples_leaf=13, min_samples_split=10;, score=0.878 total time=   1.0s\n",
      "[CV 10/10] END criterion=entropy, max_depth=8, min_samples_leaf=13, min_samples_split=10;, score=0.888 total time=   0.9s\n",
      "[CV 1/10] END criterion=gini, max_depth=14, min_samples_leaf=4, min_samples_split=25;, score=0.700 total time=   1.3s\n",
      "[CV 2/10] END criterion=gini, max_depth=14, min_samples_leaf=4, min_samples_split=25;, score=0.825 total time=   1.3s\n",
      "[CV 3/10] END criterion=gini, max_depth=14, min_samples_leaf=4, min_samples_split=25;, score=0.962 total time=   1.3s\n",
      "[CV 4/10] END criterion=gini, max_depth=14, min_samples_leaf=4, min_samples_split=25;, score=0.962 total time=   1.3s\n",
      "[CV 5/10] END criterion=gini, max_depth=14, min_samples_leaf=4, min_samples_split=25;, score=0.950 total time=   1.3s\n",
      "[CV 6/10] END criterion=gini, max_depth=14, min_samples_leaf=4, min_samples_split=25;, score=0.963 total time=   1.3s\n",
      "[CV 7/10] END criterion=gini, max_depth=14, min_samples_leaf=4, min_samples_split=25;, score=0.957 total time=   1.3s\n",
      "[CV 8/10] END criterion=gini, max_depth=14, min_samples_leaf=4, min_samples_split=25;, score=0.953 total time=   1.3s\n",
      "[CV 9/10] END criterion=gini, max_depth=14, min_samples_leaf=4, min_samples_split=25;, score=0.960 total time=   1.3s\n",
      "[CV 10/10] END criterion=gini, max_depth=14, min_samples_leaf=4, min_samples_split=25;, score=0.959 total time=   1.3s\n",
      "[CV 1/10] END criterion=gini, max_depth=9, min_samples_leaf=4, min_samples_split=35;, score=0.658 total time=   1.0s\n",
      "[CV 2/10] END criterion=gini, max_depth=9, min_samples_leaf=4, min_samples_split=35;, score=0.781 total time=   1.0s\n",
      "[CV 3/10] END criterion=gini, max_depth=9, min_samples_leaf=4, min_samples_split=35;, score=0.903 total time=   1.0s\n",
      "[CV 4/10] END criterion=gini, max_depth=9, min_samples_leaf=4, min_samples_split=35;, score=0.907 total time=   0.9s\n",
      "[CV 5/10] END criterion=gini, max_depth=9, min_samples_leaf=4, min_samples_split=35;, score=0.892 total time=   1.0s\n",
      "[CV 6/10] END criterion=gini, max_depth=9, min_samples_leaf=4, min_samples_split=35;, score=0.908 total time=   0.9s\n",
      "[CV 7/10] END criterion=gini, max_depth=9, min_samples_leaf=4, min_samples_split=35;, score=0.903 total time=   1.0s\n",
      "[CV 8/10] END criterion=gini, max_depth=9, min_samples_leaf=4, min_samples_split=35;, score=0.888 total time=   1.0s\n",
      "[CV 9/10] END criterion=gini, max_depth=9, min_samples_leaf=4, min_samples_split=35;, score=0.911 total time=   0.9s\n",
      "[CV 10/10] END criterion=gini, max_depth=9, min_samples_leaf=4, min_samples_split=35;, score=0.904 total time=   1.0s\n"
     ]
    },
    {
     "data": {
      "text/plain": [
       "0.91910818071946"
      ]
     },
     "execution_count": 29,
     "metadata": {},
     "output_type": "execute_result"
    }
   ],
   "source": [
    "\n",
    "# Create param grid\n",
    "\n",
    "from sklearn.model_selection import RandomizedSearchCV\n",
    "\n",
    "\n",
    "param_grid = {\n",
    "              'criterion': ['gini', 'entropy'], \n",
    "              'min_samples_split':  range(5,50, 5),\n",
    "              'min_samples_leaf': range(1, 15, 3),\n",
    "              'max_depth': range(5, 20, 1)\n",
    "              } \n",
    "\n",
    "clf = RandomizedSearchCV(\n",
    "    estimator=RandomForestClassifier(),\n",
    "    scoring=\"accuracy\",\n",
    "    param_distributions=param_grid,\n",
    "    cv=10,\n",
    "    n_iter = 7,\n",
    "    refit=True,\n",
    "    verbose=3\n",
    ")\n",
    "\n",
    "best_clf = clf.fit(X_train_sm, y_train_sm)\n",
    "\n",
    "best_clf.best_score_"
   ]
  },
  {
   "cell_type": "code",
   "execution_count": null,
   "metadata": {},
   "outputs": [
    {
     "data": {
      "text/plain": [
       "0.9136778115501519"
      ]
     },
     "execution_count": 11,
     "metadata": {},
     "output_type": "execute_result"
    }
   ],
   "source": [
    "best_model = best_clf.best_estimator_\n",
    "best_model.score(X_test,y_test)"
   ]
  },
  {
   "cell_type": "code",
   "execution_count": null,
   "metadata": {},
   "outputs": [
    {
     "data": {
      "text/plain": [
       "{'C': 100, 'gamma': 'scale', 'kernel': 'rbf'}"
      ]
     },
     "execution_count": 13,
     "metadata": {},
     "output_type": "execute_result"
    }
   ],
   "source": [
    "best_clf.best_params_\n",
    "# (max_depth=14, min_samples_leaf=4, min_samples_split=25)"
   ]
  },
  {
   "cell_type": "code",
   "execution_count": 32,
   "metadata": {},
   "outputs": [
    {
     "data": {
      "text/plain": [
       "['best_model_random_forest.pkl']"
      ]
     },
     "execution_count": 32,
     "metadata": {},
     "output_type": "execute_result"
    }
   ],
   "source": [
    "import joblib\n",
    "\n",
    "joblib.dump(best_clf.best_estimator_,'../models/best_model_random_forest.pkl')\n"
   ]
  }
 ],
 "metadata": {
  "kernelspec": {
   "display_name": "base",
   "language": "python",
   "name": "python3"
  },
  "language_info": {
   "codemirror_mode": {
    "name": "ipython",
    "version": 3
   },
   "file_extension": ".py",
   "mimetype": "text/x-python",
   "name": "python",
   "nbconvert_exporter": "python",
   "pygments_lexer": "ipython3",
   "version": "3.9.12"
  },
  "orig_nbformat": 4
 },
 "nbformat": 4,
 "nbformat_minor": 2
}
