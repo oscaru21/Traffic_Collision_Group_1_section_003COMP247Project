{
 "cells": [
  {
   "attachments": {},
   "cell_type": "markdown",
   "metadata": {},
   "source": [
    "## Loading Dataset"
   ]
  },
  {
   "cell_type": "code",
   "execution_count": 1,
   "metadata": {},
   "outputs": [],
   "source": [
    "import pandas as pd\n",
    "\n",
    "RAW_DATA_PATH = \"../data/raw/KSI.csv\"\n",
    "\n",
    "df = pd.read_csv(RAW_DATA_PATH)"
   ]
  },
  {
   "attachments": {},
   "cell_type": "markdown",
   "metadata": {},
   "source": [
    "## Identify features with less than 5% missing values"
   ]
  },
  {
   "cell_type": "code",
   "execution_count": 2,
   "metadata": {},
   "outputs": [
    {
     "name": "stdout",
     "output_type": "stream",
     "text": [
      "['ROAD_CLASS', 'DISTRICT', 'WARDNUM', 'LOCCOORD', 'TRAFFCTL', 'VISIBILITY', 'RDSFCOND', 'ACCLASS', 'IMPACTYPE', 'INVTYPE']\n"
     ]
    }
   ],
   "source": [
    "features_less_5 = []\n",
    "for feature in df.columns:\n",
    "    percent_missing = df[feature].isnull().mean()*100\n",
    "    if percent_missing < 5 and percent_missing > 0:\n",
    "        features_less_5.append(feature)\n",
    "print(features_less_5)"
   ]
  },
  {
   "attachments": {},
   "cell_type": "markdown",
   "metadata": {},
   "source": [
    "# Drop the rows with missing values from the previous features"
   ]
  },
  {
   "cell_type": "code",
   "execution_count": 3,
   "metadata": {},
   "outputs": [
    {
     "name": "stdout",
     "output_type": "stream",
     "text": [
      "Initial Shape: (17488, 57)\n",
      "New Shape: (16447, 57)\n"
     ]
    }
   ],
   "source": [
    "print(f\"Initial Shape: {df.shape}\")\n",
    "df.dropna(subset=features_less_5, inplace=True )\n",
    "print(f\"New Shape: {df.shape}\")"
   ]
  },
  {
   "attachments": {},
   "cell_type": "markdown",
   "metadata": {},
   "source": [
    "## Create a custom transformer to handle missing values of VEHTYPE"
   ]
  },
  {
   "cell_type": "code",
   "execution_count": 4,
   "metadata": {},
   "outputs": [],
   "source": [
    "from sklearn.base import TransformerMixin, BaseEstimator\n",
    "\n",
    "\n",
    "class FillMissing(BaseEstimator, TransformerMixin):\n",
    "    def __init__(self, group_col='ACCNUM', value_col='VEHTYPE'):\n",
    "        self.group_col = group_col\n",
    "        self.value_col = value_col\n",
    "    \n",
    "    def fit(self, X):\n",
    "        return self\n",
    "        \n",
    "    def transform(self, X):\n",
    "        # Separate the columns that will be updated\n",
    "        update_cols = [self.group_col, self.value_col]\n",
    "        \n",
    "        # Create a copy of the dataframe to avoid modifying the original\n",
    "        filled = X.copy()\n",
    "        \n",
    "        # Group the data by \"ACCNUM\" and fill in missing values\n",
    "        filled[update_cols] = filled.groupby(self.group_col)[update_cols].ffill().bfill()\n",
    "        filled = filled[update_cols]\n",
    "        \n",
    "        return filled"
   ]
  },
  {
   "attachments": {},
   "cell_type": "markdown",
   "metadata": {},
   "source": [
    "## Fill missing values of VEHTYPE column"
   ]
  },
  {
   "cell_type": "code",
   "execution_count": 5,
   "metadata": {},
   "outputs": [
    {
     "name": "stdout",
     "output_type": "stream",
     "text": [
      "2782\n",
      "0\n"
     ]
    }
   ],
   "source": [
    "print(df['VEHTYPE'].isnull().sum())\n",
    "filler = FillMissing()\n",
    "df[['ACCNUM', 'VEHTYPE']] = filler.transform(df)\n",
    "\n",
    "print(df['VEHTYPE'].isnull().sum())"
   ]
  },
  {
   "attachments": {},
   "cell_type": "markdown",
   "metadata": {},
   "source": [
    "## Yes / No Transformer"
   ]
  },
  {
   "cell_type": "code",
   "execution_count": 6,
   "metadata": {},
   "outputs": [],
   "source": [
    "from sklearn.pipeline import Pipeline\n",
    "from sklearn.preprocessing import OneHotEncoder\n",
    "from sklearn.impute import SimpleImputer\n",
    "\n",
    "steps = [('imputer', SimpleImputer(strategy='constant',fill_value='No')),\n",
    "         ('onehot', OneHotEncoder(drop='first',sparse=False))]\n",
    "\n",
    "yes_no_pipe = Pipeline(steps)"
   ]
  },
  {
   "attachments": {},
   "cell_type": "markdown",
   "metadata": {},
   "source": [
    "# Find columns with yes/no values and transform them"
   ]
  },
  {
   "cell_type": "code",
   "execution_count": 7,
   "metadata": {},
   "outputs": [
    {
     "name": "stdout",
     "output_type": "stream",
     "text": [
      "['PEDESTRIAN', 'CYCLIST', 'AUTOMOBILE', 'MOTORCYCLE', 'TRUCK', 'TRSN_CITY_VEH', 'EMERG_VEH', 'PASSENGER', 'SPEEDING', 'AG_DRIV', 'REDLIGHT', 'ALCOHOL', 'DISABILITY']\n"
     ]
    }
   ],
   "source": [
    "categorical_index = df.dtypes[df.dtypes == 'object'].index\n",
    "categorical = df[categorical_index]\n",
    "unique_count = categorical.nunique()\n",
    "binary_indeces = [i for i in categorical_index if df[i].nunique() == 1]\n",
    "print(binary_indeces)"
   ]
  },
  {
   "cell_type": "code",
   "execution_count": 8,
   "metadata": {},
   "outputs": [],
   "source": [
    "df[binary_indeces] = yes_no_pipe.fit_transform(df[binary_indeces])"
   ]
  },
  {
   "attachments": {},
   "cell_type": "markdown",
   "metadata": {},
   "source": [
    "## Time transformer"
   ]
  },
  {
   "cell_type": "code",
   "execution_count": 9,
   "metadata": {},
   "outputs": [],
   "source": [
    "from sklearn.base import TransformerMixin, BaseEstimator\n",
    "import numpy as np\n",
    "\n",
    "class TimeTransformer(BaseEstimator, TransformerMixin):\n",
    "    def __init__(self) -> None:\n",
    "        pass\n",
    "\n",
    "    def transform(self, X):\n",
    "        #return [int(row // 100) for row in X]\n",
    "        return X.apply(lambda row: int((row//100) + 1 if int(str(row)[-2:]) > 30 else row//100))\n",
    "        #return pd.Dataframe([(row//100) + 1 if int(str(row)[-2:]) > 30 else row//100 for row in X.values])\n",
    "\n",
    "    def fit(self, X):\n",
    "        return self\n",
    "    "
   ]
  },
  {
   "attachments": {},
   "cell_type": "markdown",
   "metadata": {},
   "source": [
    "## Transform Time column"
   ]
  },
  {
   "cell_type": "code",
   "execution_count": 10,
   "metadata": {},
   "outputs": [],
   "source": [
    "df['TIME'] = TimeTransformer().transform(df['TIME'])\n"
   ]
  },
  {
   "cell_type": "code",
   "execution_count": 11,
   "metadata": {},
   "outputs": [
    {
     "data": {
      "text/plain": [
       "18    1173\n",
       "16    1019\n",
       "15    1014\n",
       "19     996\n",
       "17     984\n",
       "20     937\n",
       "13     867\n",
       "14     824\n",
       "21     818\n",
       "22     737\n",
       "9      730\n",
       "11     716\n",
       "12     692\n",
       "10     676\n",
       "23     644\n",
       "7      565\n",
       "8      506\n",
       "3      481\n",
       "1      475\n",
       "6      415\n",
       "2      354\n",
       "0      299\n",
       "4      223\n",
       "24     154\n",
       "5      148\n",
       "Name: TIME, dtype: int64"
      ]
     },
     "execution_count": 11,
     "metadata": {},
     "output_type": "execute_result"
    }
   ],
   "source": [
    "df['TIME'].value_counts()"
   ]
  },
  {
   "attachments": {},
   "cell_type": "markdown",
   "metadata": {},
   "source": [
    "## Date transformer"
   ]
  },
  {
   "cell_type": "code",
   "execution_count": 12,
   "metadata": {},
   "outputs": [],
   "source": [
    "from sklearn.base import BaseEstimator, TransformerMixin \n",
    "from datetime import datetime\n",
    "\n",
    "class DayofWeekMonth(BaseEstimator, TransformerMixin): \n",
    "    def __init__(self): \n",
    "        #self.result = pd.DataFrame()\n",
    "        pass \n",
    "    \n",
    "    def fit(self,X): \n",
    "        return self \n",
    "    \n",
    "    def transform(self, X): \n",
    "        print(type(X))\n",
    "        date = pd.to_datetime(X.squeeze(), format='%Y/%m/%d')\n",
    "        #date = X.apply(lambda val: datetime.strptime(val[:10], '%Y/%m/%d'))\n",
    "        #print(date)\n",
    "        result = pd.DataFrame()\n",
    "        result['DAY'] = date.apply(lambda x: int(datetime.weekday(x)))\n",
    "        result['MONTH'] = date.apply(lambda x: int(x.month))\n",
    "        return result"
   ]
  },
  {
   "attachments": {},
   "cell_type": "markdown",
   "metadata": {},
   "source": [
    "## Transform the DATE column into a WEEKDAY and MONTH"
   ]
  },
  {
   "cell_type": "code",
   "execution_count": 13,
   "metadata": {},
   "outputs": [
    {
     "name": "stdout",
     "output_type": "stream",
     "text": [
      "<class 'pandas.core.series.Series'>\n"
     ]
    },
    {
     "data": {
      "text/plain": [
       "0    6\n",
       "1    6\n",
       "2    6\n",
       "3    6\n",
       "4    6\n",
       "Name: DAY, dtype: int64"
      ]
     },
     "execution_count": 13,
     "metadata": {},
     "output_type": "execute_result"
    }
   ],
   "source": [
    "df[['DAY', 'MONTH']] = DayofWeekMonth().transform(df['DATE'])[['DAY', 'MONTH']]\n",
    "df.drop('DATE', axis=1)\n",
    "df['DAY'].head(5)"
   ]
  },
  {
   "attachments": {},
   "cell_type": "markdown",
   "metadata": {},
   "source": [
    "## Fatal accidents per month"
   ]
  },
  {
   "cell_type": "code",
   "execution_count": 14,
   "metadata": {},
   "outputs": [
    {
     "data": {
      "image/png": "[encoded data removed]",
      "text/plain": [
       "<Figure size 640x480 with 1 Axes>"
      ]
     },
     "metadata": {},
     "output_type": "display_data"
    }
   ],
   "source": [
    "import matplotlib.pyplot as plt\n",
    "# create a filtered dataframe where the Label is equal to 'fatal'\n",
    "fatal_df = df[df['ACCLASS'] == 'Fatal']\n",
    "\n",
    "# plot a histogram of the number of values per hour\n",
    "fatal_df['MONTH'].value_counts().sort_index(ascending=True).plot(kind='bar', width=0.5)\n",
    "plt.xlabel('Month')\n",
    "plt.ylabel('Count')\n",
    "plt.title('Number of Fatalities per Month')\n",
    "plt.xticks(rotation=90)\n",
    "plt.show()"
   ]
  },
  {
   "attachments": {},
   "cell_type": "markdown",
   "metadata": {},
   "source": [
    "## Fatal accidents per weekday"
   ]
  },
  {
   "cell_type": "code",
   "execution_count": 15,
   "metadata": {},
   "outputs": [
    {
     "data": {
      "image/png": "[encoded data removed]",
      "text/plain": [
       "<Figure size 640x480 with 1 Axes>"
      ]
     },
     "metadata": {},
     "output_type": "display_data"
    }
   ],
   "source": [
    "import matplotlib.pyplot as plt\n",
    "# create a filtered dataframe where the Label is equal to 'fatal'\n",
    "fatal_df = df[df['ACCLASS'] == 'Fatal']\n",
    "\n",
    "# plot a histogram of the number of values per hour\n",
    "fatal_df['DAY'].value_counts().sort_index(ascending=True).plot(kind='bar', width=0.5)\n",
    "plt.xlabel('Day')\n",
    "plt.ylabel('Count')\n",
    "plt.title('Number of Fatalities per day')\n",
    "plt.xticks(rotation=90)\n",
    "plt.show()"
   ]
  },
  {
   "cell_type": "code",
   "execution_count": 16,
   "metadata": {},
   "outputs": [
    {
     "data": {
      "text/plain": [
       "Non-Fatal Injury        14240\n",
       "Fatal                    2201\n",
       "Property Damage Only        6\n",
       "Name: ACCLASS, dtype: int64"
      ]
     },
     "execution_count": 16,
     "metadata": {},
     "output_type": "execute_result"
    }
   ],
   "source": [
    "labels = df['ACCLASS']\n",
    "labels.value_counts()"
   ]
  },
  {
   "attachments": {},
   "cell_type": "markdown",
   "metadata": {},
   "source": [
    "## replace the Property Damage Only with Non-Fatal Injury and One hot encode them"
   ]
  },
  {
   "cell_type": "code",
   "execution_count": 17,
   "metadata": {},
   "outputs": [],
   "source": [
    "labels = labels.apply(lambda x: 1 if x == 'Fatal' else 0)"
   ]
  },
  {
   "cell_type": "code",
   "execution_count": 18,
   "metadata": {},
   "outputs": [
    {
     "data": {
      "text/plain": [
       "0    14246\n",
       "1     2201\n",
       "Name: ACCLASS, dtype: int64"
      ]
     },
     "execution_count": 18,
     "metadata": {},
     "output_type": "execute_result"
    }
   ],
   "source": [
    "labels.value_counts()"
   ]
  },
  {
   "cell_type": "code",
   "execution_count": 19,
   "metadata": {},
   "outputs": [
    {
     "data": {
      "text/plain": [
       "0"
      ]
     },
     "execution_count": 19,
     "metadata": {},
     "output_type": "execute_result"
    }
   ],
   "source": [
    "labels.isnull().sum()"
   ]
  },
  {
   "attachments": {},
   "cell_type": "markdown",
   "metadata": {},
   "source": [
    "# Define the categorical and numerical features to keep"
   ]
  },
  {
   "cell_type": "code",
   "execution_count": 20,
   "metadata": {},
   "outputs": [],
   "source": [
    "cat_attribs = ['VEHTYPE', 'ROAD_CLASS', 'LOCCOORD', 'DISTRICT', 'TRAFFCTL', 'LIGHT', 'RDSFCOND', 'VISIBILITY', 'INVTYPE', 'IMPACTYPE', 'INVAGE']\n",
    "num_attribs = ['YEAR', 'TIME', 'LATITUDE', 'LONGITUDE', 'MONTH', 'DAY']"
   ]
  },
  {
   "cell_type": "code",
   "execution_count": 21,
   "metadata": {},
   "outputs": [
    {
     "data": {
      "text/plain": [
       "YEAR         0\n",
       "TIME         0\n",
       "LATITUDE     0\n",
       "LONGITUDE    0\n",
       "MONTH        0\n",
       "DAY          0\n",
       "dtype: int64"
      ]
     },
     "execution_count": 21,
     "metadata": {},
     "output_type": "execute_result"
    }
   ],
   "source": [
    "df[num_attribs].isnull().sum()"
   ]
  },
  {
   "attachments": {},
   "cell_type": "markdown",
   "metadata": {},
   "source": [
    "# Pipeline for numerical features"
   ]
  },
  {
   "cell_type": "code",
   "execution_count": 22,
   "metadata": {},
   "outputs": [],
   "source": [
    "from sklearn.preprocessing import StandardScaler\n",
    "num_pipeline = Pipeline([\n",
    "    ('imputer', SimpleImputer(strategy=\"median\")),\n",
    "    ('std_scaler', StandardScaler())\n",
    "])"
   ]
  },
  {
   "cell_type": "code",
   "execution_count": 23,
   "metadata": {},
   "outputs": [],
   "source": [
    "from sklearn.compose import ColumnTransformer\n",
    "from sklearn.preprocessing import StandardScaler\n",
    "from sklearn.preprocessing import OneHotEncoder\n",
    "from sklearn.impute import SimpleImputer\n",
    "import numpy as np\n",
    "\n",
    "transformers = [('scaler', num_pipeline, num_attribs),\n",
    "                (\"cat\", OneHotEncoder(drop='first',sparse=False), cat_attribs),\n",
    "                (\"binary\", \"passthrough\", binary_indeces)]\n",
    "ct = ColumnTransformer(transformers, remainder='drop')\n",
    "\n",
    "result = ct.fit_transform(df)"
   ]
  },
  {
   "cell_type": "code",
   "execution_count": 24,
   "metadata": {},
   "outputs": [],
   "source": [
    "#dense_array = result.toarray()\n",
    "new_df = pd.DataFrame(result)"
   ]
  },
  {
   "cell_type": "code",
   "execution_count": 25,
   "metadata": {},
   "outputs": [
    {
     "data": {
      "text/plain": [
       "0"
      ]
     },
     "execution_count": 25,
     "metadata": {},
     "output_type": "execute_result"
    }
   ],
   "source": [
    "#add labels to the dataframe\n",
    "new_df['label'] = labels.reset_index()['ACCLASS']\n",
    "new_df['label'].isnull().sum()"
   ]
  },
  {
   "attachments": {},
   "cell_type": "markdown",
   "metadata": {},
   "source": [
    "## Handle Imbalanced data"
   ]
  },
  {
   "cell_type": "code",
   "execution_count": 26,
   "metadata": {},
   "outputs": [
    {
     "data": {
      "text/plain": [
       "0    14246\n",
       "1     2201\n",
       "Name: label, dtype: int64"
      ]
     },
     "execution_count": 26,
     "metadata": {},
     "output_type": "execute_result"
    }
   ],
   "source": [
    "new_df['label'].value_counts()"
   ]
  },
  {
   "cell_type": "code",
   "execution_count": 27,
   "metadata": {},
   "outputs": [
    {
     "data": {
      "text/plain": [
       "0    14246\n",
       "1    14246\n",
       "Name: label, dtype: int64"
      ]
     },
     "execution_count": 27,
     "metadata": {},
     "output_type": "execute_result"
    }
   ],
   "source": [
    "from sklearn.utils import resample\n",
    "# Separate majority and minority classes\n",
    "df_majority = new_df[new_df.label==0]\n",
    "df_minority = new_df[new_df.label==1]\n",
    " \n",
    "# Upsample minority class\n",
    "df_minority_upsampled = resample(df_minority, \n",
    "                                 replace=True,       # sample with replacement\n",
    "                                 n_samples=14246,    # to match majority class\n",
    "                                 random_state=42)    # reproducible results\n",
    " \n",
    "# Combine majority class with upsampled minority class\n",
    "df_upsampled = pd.concat([df_majority, df_minority_upsampled])\n",
    " \n",
    "# Display new class counts\n",
    "df_upsampled.label.value_counts()"
   ]
  },
  {
   "cell_type": "code",
   "execution_count": 28,
   "metadata": {},
   "outputs": [],
   "source": [
    "df_upsampled.to_csv(\"../data/preprocessed/data.csv\")"
   ]
  }
 ],
 "metadata": {
  "kernelspec": {
   "display_name": "Python 3",
   "language": "python",
   "name": "python3"
  },
  "language_info": {
   "codemirror_mode": {
    "name": "ipython",
    "version": 3
   },
   "file_extension": ".py",
   "mimetype": "text/x-python",
   "name": "python",
   "nbconvert_exporter": "python",
   "pygments_lexer": "ipython3",
   "version": "3.10.7"
  },
  "orig_nbformat": 4
 },
 "nbformat": 4,
 "nbformat_minor": 2
}
