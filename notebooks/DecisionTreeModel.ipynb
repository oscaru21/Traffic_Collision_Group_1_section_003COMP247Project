{
 "cells": [
  {
   "cell_type": "code",
   "execution_count": 32,
   "metadata": {},
   "outputs": [],
   "source": [
    "# prerequisite\n",
    "# pip install -U imbalanced-learn"
   ]
  },
  {
   "cell_type": "code",
   "execution_count": 33,
   "metadata": {},
   "outputs": [],
   "source": [
    "from pipelines.DataPipeline import DataPipeline\n",
    "from transformers.Preprocessing import Preprocessing\n",
    "from sklearn.model_selection import train_test_split\n",
    "from utils.Common import Config\n",
    "from sklearn.tree import DecisionTreeClassifier\n",
    "from imblearn.over_sampling import SMOTE\n",
    "\n",
    "import pandas as pd\n",
    "import numpy as np\n",
    "import joblib"
   ]
  },
  {
   "cell_type": "code",
   "execution_count": 34,
   "metadata": {},
   "outputs": [],
   "source": [
    "RAW_DATA_PATH = \"../data/raw/KSI.csv\"\n",
    "df = pd.read_csv(RAW_DATA_PATH)"
   ]
  },
  {
   "cell_type": "code",
   "execution_count": 35,
   "metadata": {},
   "outputs": [],
   "source": [
    "# fill missing values, adding new columns, extracting useful columns\n",
    "pc = Preprocessing(df, Config.binary_columns, Config.cat_attribs, Config.num_attribs, Config.label)\n",
    "new_df = pc.getFrame()"
   ]
  },
  {
   "cell_type": "code",
   "execution_count": 36,
   "metadata": {},
   "outputs": [],
   "source": [
    "# seperate feature and label\n",
    "X = new_df[Config.cat_attribs + Config.num_attribs+ Config.binary_columns]\n",
    "Y = new_df[Config.label]"
   ]
  },
  {
   "cell_type": "code",
   "execution_count": 37,
   "metadata": {},
   "outputs": [],
   "source": [
    "# pass feature to pipeline and convert it to numerical data\n",
    "dp = DataPipeline(Config.num_attribs,Config.cat_attribs)\n",
    "X = dp.process(X)"
   ]
  },
  {
   "cell_type": "code",
   "execution_count": 38,
   "metadata": {},
   "outputs": [
    {
     "data": {
      "text/plain": [
       "0"
      ]
     },
     "execution_count": 38,
     "metadata": {},
     "output_type": "execute_result"
    }
   ],
   "source": [
    "X.isna().sum().sum()"
   ]
  },
  {
   "cell_type": "code",
   "execution_count": 39,
   "metadata": {},
   "outputs": [
    {
     "data": {
      "text/plain": [
       "[14246, 2201]"
      ]
     },
     "execution_count": 39,
     "metadata": {},
     "output_type": "execute_result"
    }
   ],
   "source": [
    "Y.value_counts().tolist()"
   ]
  },
  {
   "cell_type": "code",
   "execution_count": 40,
   "metadata": {},
   "outputs": [],
   "source": [
    "X_train, X_test, y_train, y_test = train_test_split(X, Y, test_size=Config.test_size, stratify=Y)"
   ]
  },
  {
   "cell_type": "code",
   "execution_count": 41,
   "metadata": {},
   "outputs": [
    {
     "name": "stderr",
     "output_type": "stream",
     "text": [
      "c:\\Users\\yvonn\\anaconda3\\lib\\site-packages\\imblearn\\over_sampling\\_smote\\base.py:336: FutureWarning: The parameter `n_jobs` has been deprecated in 0.10 and will be removed in 0.12. You can pass an nearest neighbors estimator where `n_jobs` is already set instead.\n",
      "  warnings.warn(\n"
     ]
    }
   ],
   "source": [
    "smote_minority = SMOTE(n_jobs = -1, sampling_strategy = \"minority\")\n",
    "X_train_sm, y_train_sm = smote_minority.fit_resample(X_train, y_train)\n"
   ]
  },
  {
   "cell_type": "code",
   "execution_count": 42,
   "metadata": {},
   "outputs": [
    {
     "name": "stdout",
     "output_type": "stream",
     "text": [
      "Fitting 10 folds for each of 7 candidates, totalling 70 fits\n",
      "[CV 1/10] END criterion=gini, max_depth=17, min_samples_leaf=13, min_samples_split=40, splitter=random;, score=0.811 total time=   0.0s\n",
      "[CV 2/10] END criterion=gini, max_depth=17, min_samples_leaf=13, min_samples_split=40, splitter=random;, score=0.875 total time=   0.0s\n",
      "[CV 3/10] END criterion=gini, max_depth=17, min_samples_leaf=13, min_samples_split=40, splitter=random;, score=0.941 total time=   0.0s\n",
      "[CV 4/10] END criterion=gini, max_depth=17, min_samples_leaf=13, min_samples_split=40, splitter=random;, score=0.934 total time=   0.0s\n",
      "[CV 5/10] END criterion=gini, max_depth=17, min_samples_leaf=13, min_samples_split=40, splitter=random;, score=0.929 total time=   0.0s\n",
      "[CV 6/10] END criterion=gini, max_depth=17, min_samples_leaf=13, min_samples_split=40, splitter=random;, score=0.924 total time=   0.0s\n",
      "[CV 7/10] END criterion=gini, max_depth=17, min_samples_leaf=13, min_samples_split=40, splitter=random;, score=0.923 total time=   0.0s\n",
      "[CV 8/10] END criterion=gini, max_depth=17, min_samples_leaf=13, min_samples_split=40, splitter=random;, score=0.936 total time=   0.0s\n",
      "[CV 9/10] END criterion=gini, max_depth=17, min_samples_leaf=13, min_samples_split=40, splitter=random;, score=0.931 total time=   0.0s\n",
      "[CV 10/10] END criterion=gini, max_depth=17, min_samples_leaf=13, min_samples_split=40, splitter=random;, score=0.925 total time=   0.0s\n",
      "[CV 1/10] END criterion=entropy, max_depth=5, min_samples_leaf=7, min_samples_split=10, splitter=random;, score=0.673 total time=   0.0s\n",
      "[CV 2/10] END criterion=entropy, max_depth=5, min_samples_leaf=7, min_samples_split=10, splitter=random;, score=0.696 total time=   0.0s\n",
      "[CV 3/10] END criterion=entropy, max_depth=5, min_samples_leaf=7, min_samples_split=10, splitter=random;, score=0.701 total time=   0.0s\n",
      "[CV 4/10] END criterion=entropy, max_depth=5, min_samples_leaf=7, min_samples_split=10, splitter=random;, score=0.717 total time=   0.0s\n",
      "[CV 5/10] END criterion=entropy, max_depth=5, min_samples_leaf=7, min_samples_split=10, splitter=random;, score=0.744 total time=   0.0s\n",
      "[CV 6/10] END criterion=entropy, max_depth=5, min_samples_leaf=7, min_samples_split=10, splitter=random;, score=0.725 total time=   0.0s\n",
      "[CV 7/10] END criterion=entropy, max_depth=5, min_samples_leaf=7, min_samples_split=10, splitter=random;, score=0.729 total time=   0.0s\n",
      "[CV 8/10] END criterion=entropy, max_depth=5, min_samples_leaf=7, min_samples_split=10, splitter=random;, score=0.735 total time=   0.0s\n",
      "[CV 9/10] END criterion=entropy, max_depth=5, min_samples_leaf=7, min_samples_split=10, splitter=random;, score=0.752 total time=   0.0s\n",
      "[CV 10/10] END criterion=entropy, max_depth=5, min_samples_leaf=7, min_samples_split=10, splitter=random;, score=0.736 total time=   0.0s\n",
      "[CV 1/10] END criterion=gini, max_depth=19, min_samples_leaf=4, min_samples_split=45, splitter=random;, score=0.837 total time=   0.0s\n",
      "[CV 2/10] END criterion=gini, max_depth=19, min_samples_leaf=4, min_samples_split=45, splitter=random;, score=0.888 total time=   0.0s\n",
      "[CV 3/10] END criterion=gini, max_depth=19, min_samples_leaf=4, min_samples_split=45, splitter=random;, score=0.941 total time=   0.0s\n",
      "[CV 4/10] END criterion=gini, max_depth=19, min_samples_leaf=4, min_samples_split=45, splitter=random;, score=0.929 total time=   0.0s\n",
      "[CV 5/10] END criterion=gini, max_depth=19, min_samples_leaf=4, min_samples_split=45, splitter=random;, score=0.948 total time=   0.0s\n",
      "[CV 6/10] END criterion=gini, max_depth=19, min_samples_leaf=4, min_samples_split=45, splitter=random;, score=0.940 total time=   0.0s\n",
      "[CV 7/10] END criterion=gini, max_depth=19, min_samples_leaf=4, min_samples_split=45, splitter=random;, score=0.927 total time=   0.0s\n",
      "[CV 8/10] END criterion=gini, max_depth=19, min_samples_leaf=4, min_samples_split=45, splitter=random;, score=0.931 total time=   0.0s\n",
      "[CV 9/10] END criterion=gini, max_depth=19, min_samples_leaf=4, min_samples_split=45, splitter=random;, score=0.940 total time=   0.0s\n",
      "[CV 10/10] END criterion=gini, max_depth=19, min_samples_leaf=4, min_samples_split=45, splitter=random;, score=0.938 total time=   0.0s\n",
      "[CV 1/10] END criterion=entropy, max_depth=10, min_samples_leaf=4, min_samples_split=45, splitter=random;, score=0.745 total time=   0.0s\n",
      "[CV 2/10] END criterion=entropy, max_depth=10, min_samples_leaf=4, min_samples_split=45, splitter=random;, score=0.803 total time=   0.0s\n",
      "[CV 3/10] END criterion=entropy, max_depth=10, min_samples_leaf=4, min_samples_split=45, splitter=random;, score=0.848 total time=   0.0s\n",
      "[CV 4/10] END criterion=entropy, max_depth=10, min_samples_leaf=4, min_samples_split=45, splitter=random;, score=0.840 total time=   0.0s\n",
      "[CV 5/10] END criterion=entropy, max_depth=10, min_samples_leaf=4, min_samples_split=45, splitter=random;, score=0.845 total time=   0.0s\n",
      "[CV 6/10] END criterion=entropy, max_depth=10, min_samples_leaf=4, min_samples_split=45, splitter=random;, score=0.854 total time=   0.0s\n",
      "[CV 7/10] END criterion=entropy, max_depth=10, min_samples_leaf=4, min_samples_split=45, splitter=random;, score=0.833 total time=   0.0s\n",
      "[CV 8/10] END criterion=entropy, max_depth=10, min_samples_leaf=4, min_samples_split=45, splitter=random;, score=0.860 total time=   0.0s\n",
      "[CV 9/10] END criterion=entropy, max_depth=10, min_samples_leaf=4, min_samples_split=45, splitter=random;, score=0.863 total time=   0.0s\n",
      "[CV 10/10] END criterion=entropy, max_depth=10, min_samples_leaf=4, min_samples_split=45, splitter=random;, score=0.817 total time=   0.0s\n",
      "[CV 1/10] END criterion=gini, max_depth=18, min_samples_leaf=7, min_samples_split=10, splitter=best;, score=0.784 total time=   0.1s\n",
      "[CV 2/10] END criterion=gini, max_depth=18, min_samples_leaf=7, min_samples_split=10, splitter=best;, score=0.888 total time=   0.1s\n",
      "[CV 3/10] END criterion=gini, max_depth=18, min_samples_leaf=7, min_samples_split=10, splitter=best;, score=0.971 total time=   0.1s\n",
      "[CV 4/10] END criterion=gini, max_depth=18, min_samples_leaf=7, min_samples_split=10, splitter=best;, score=0.968 total time=   0.1s\n",
      "[CV 5/10] END criterion=gini, max_depth=18, min_samples_leaf=7, min_samples_split=10, splitter=best;, score=0.966 total time=   0.1s\n",
      "[CV 6/10] END criterion=gini, max_depth=18, min_samples_leaf=7, min_samples_split=10, splitter=best;, score=0.968 total time=   0.1s\n",
      "[CV 7/10] END criterion=gini, max_depth=18, min_samples_leaf=7, min_samples_split=10, splitter=best;, score=0.967 total time=   0.1s\n",
      "[CV 8/10] END criterion=gini, max_depth=18, min_samples_leaf=7, min_samples_split=10, splitter=best;, score=0.971 total time=   0.1s\n",
      "[CV 9/10] END criterion=gini, max_depth=18, min_samples_leaf=7, min_samples_split=10, splitter=best;, score=0.968 total time=   0.1s\n",
      "[CV 10/10] END criterion=gini, max_depth=18, min_samples_leaf=7, min_samples_split=10, splitter=best;, score=0.969 total time=   0.1s\n",
      "[CV 1/10] END criterion=entropy, max_depth=18, min_samples_leaf=10, min_samples_split=15, splitter=best;, score=0.794 total time=   0.1s\n",
      "[CV 2/10] END criterion=entropy, max_depth=18, min_samples_leaf=10, min_samples_split=15, splitter=best;, score=0.902 total time=   0.1s\n",
      "[CV 3/10] END criterion=entropy, max_depth=18, min_samples_leaf=10, min_samples_split=15, splitter=best;, score=0.967 total time=   0.1s\n",
      "[CV 4/10] END criterion=entropy, max_depth=18, min_samples_leaf=10, min_samples_split=15, splitter=best;, score=0.968 total time=   0.1s\n",
      "[CV 5/10] END criterion=entropy, max_depth=18, min_samples_leaf=10, min_samples_split=15, splitter=best;, score=0.964 total time=   0.1s\n",
      "[CV 6/10] END criterion=entropy, max_depth=18, min_samples_leaf=10, min_samples_split=15, splitter=best;, score=0.970 total time=   0.1s\n",
      "[CV 7/10] END criterion=entropy, max_depth=18, min_samples_leaf=10, min_samples_split=15, splitter=best;, score=0.970 total time=   0.1s\n",
      "[CV 8/10] END criterion=entropy, max_depth=18, min_samples_leaf=10, min_samples_split=15, splitter=best;, score=0.966 total time=   0.1s\n",
      "[CV 9/10] END criterion=entropy, max_depth=18, min_samples_leaf=10, min_samples_split=15, splitter=best;, score=0.973 total time=   0.1s\n",
      "[CV 10/10] END criterion=entropy, max_depth=18, min_samples_leaf=10, min_samples_split=15, splitter=best;, score=0.968 total time=   0.1s\n",
      "[CV 1/10] END criterion=gini, max_depth=10, min_samples_leaf=1, min_samples_split=35, splitter=random;, score=0.753 total time=   0.0s\n",
      "[CV 2/10] END criterion=gini, max_depth=10, min_samples_leaf=1, min_samples_split=35, splitter=random;, score=0.810 total time=   0.0s\n",
      "[CV 3/10] END criterion=gini, max_depth=10, min_samples_leaf=1, min_samples_split=35, splitter=random;, score=0.842 total time=   0.0s\n",
      "[CV 4/10] END criterion=gini, max_depth=10, min_samples_leaf=1, min_samples_split=35, splitter=random;, score=0.852 total time=   0.0s\n",
      "[CV 5/10] END criterion=gini, max_depth=10, min_samples_leaf=1, min_samples_split=35, splitter=random;, score=0.873 total time=   0.0s\n",
      "[CV 6/10] END criterion=gini, max_depth=10, min_samples_leaf=1, min_samples_split=35, splitter=random;, score=0.835 total time=   0.0s\n",
      "[CV 7/10] END criterion=gini, max_depth=10, min_samples_leaf=1, min_samples_split=35, splitter=random;, score=0.868 total time=   0.0s\n",
      "[CV 8/10] END criterion=gini, max_depth=10, min_samples_leaf=1, min_samples_split=35, splitter=random;, score=0.857 total time=   0.0s\n",
      "[CV 9/10] END criterion=gini, max_depth=10, min_samples_leaf=1, min_samples_split=35, splitter=random;, score=0.867 total time=   0.0s\n",
      "[CV 10/10] END criterion=gini, max_depth=10, min_samples_leaf=1, min_samples_split=35, splitter=random;, score=0.854 total time=   0.0s\n"
     ]
    },
    {
     "data": {
      "text/plain": [
       "0.9442224420507858"
      ]
     },
     "execution_count": 42,
     "metadata": {},
     "output_type": "execute_result"
    }
   ],
   "source": [
    "\n",
    "# Create param grid\n",
    "\n",
    "from sklearn.model_selection import RandomizedSearchCV\n",
    "\n",
    "\n",
    "param_grid = {\n",
    "              'criterion': ['gini', 'entropy'], \n",
    "              'min_samples_split':  range(5,50, 5),\n",
    "              'min_samples_leaf': range(1, 15, 3),\n",
    "              'max_depth': range(5, 20, 1),\n",
    "              'splitter' : ['best','random']\n",
    "              } \n",
    "\n",
    "clf = RandomizedSearchCV(\n",
    "    estimator=DecisionTreeClassifier(),\n",
    "    scoring=\"roc_auc\",\n",
    "    param_distributions=param_grid,\n",
    "    cv=10,\n",
    "    n_iter = 7,\n",
    "    refit=True,\n",
    "    verbose=3\n",
    ")\n",
    "\n",
    "best_clf = clf.fit(X_train_sm, y_train_sm)\n",
    "\n",
    "best_clf.best_score_"
   ]
  },
  {
   "cell_type": "code",
   "execution_count": 43,
   "metadata": {},
   "outputs": [
    {
     "data": {
      "text/plain": [
       "0.8434650455927052"
      ]
     },
     "execution_count": 43,
     "metadata": {},
     "output_type": "execute_result"
    }
   ],
   "source": [
    "best_model = best_clf.best_estimator_\n",
    "best_model.score(X_test,y_test)"
   ]
  },
  {
   "cell_type": "code",
   "execution_count": 44,
   "metadata": {},
   "outputs": [
    {
     "data": {
      "text/plain": [
       "{'splitter': 'best',\n",
       " 'min_samples_split': 15,\n",
       " 'min_samples_leaf': 10,\n",
       " 'max_depth': 18,\n",
       " 'criterion': 'entropy'}"
      ]
     },
     "execution_count": 44,
     "metadata": {},
     "output_type": "execute_result"
    }
   ],
   "source": [
    "best_clf.best_params_\n",
    "# {'splitter': 'best', 'min_samples_split': 15, 'min_samples_leaf': 10, 'max_depth': 18, 'criterion': 'entropy'}"
   ]
  },
  {
   "cell_type": "code",
   "execution_count": 45,
   "metadata": {},
   "outputs": [
    {
     "data": {
      "text/plain": [
       "['../models/best_model_decision_tree.pkl']"
      ]
     },
     "execution_count": 45,
     "metadata": {},
     "output_type": "execute_result"
    }
   ],
   "source": [
    "import joblib\n",
    "\n",
    "best_model = DecisionTreeClassifier(splitter = 'best'\n",
    "                                    , min_samples_split = 15\n",
    "                                    , min_samples_leaf = 10\n",
    "                                    , max_depth = 18\n",
    "                                    , criterion = 'entropy'\n",
    "                                    )\n",
    "best_model.fit(X_train_sm, y_train_sm)\n",
    "\n",
    "joblib.dump(best_model,'../models/best_model_decision_tree.pkl')\n"
   ]
  },
  {
   "cell_type": "code",
   "execution_count": null,
   "metadata": {},
   "outputs": [],
   "source": []
  }
 ],
 "metadata": {
  "kernelspec": {
   "display_name": "base",
   "language": "python",
   "name": "python3"
  },
  "language_info": {
   "codemirror_mode": {
    "name": "ipython",
    "version": 3
   },
   "file_extension": ".py",
   "mimetype": "text/x-python",
   "name": "python",
   "nbconvert_exporter": "python",
   "pygments_lexer": "ipython3",
   "version": "3.9.12"
  },
  "orig_nbformat": 4
 },
 "nbformat": 4,
 "nbformat_minor": 2
}
