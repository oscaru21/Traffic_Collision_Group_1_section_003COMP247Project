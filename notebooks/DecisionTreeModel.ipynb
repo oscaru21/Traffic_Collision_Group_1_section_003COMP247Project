{
 "cells": [
  {
   "cell_type": "code",
   "execution_count": 1,
   "metadata": {},
   "outputs": [],
   "source": [
    "# prerequisite\n",
    "# pip install -U imbalanced-learn"
   ]
  },
  {
   "cell_type": "code",
   "execution_count": 2,
   "metadata": {},
   "outputs": [],
   "source": [
    "from pipelines.DataPipeline import DataPipeline\n",
    "from transformers.Preprocessing import Preprocessing\n",
    "from sklearn.tree import DecisionTreeClassifier\n",
    "from sklearn.model_selection import train_test_split\n",
    "from sklearn.model_selection import RandomizedSearchCV\n",
    "from imblearn.over_sampling import SMOTE\n",
    "from utils.Common import Config\n",
    "\n",
    "import pandas as pd\n",
    "import numpy as np\n",
    "import joblib"
   ]
  },
  {
   "cell_type": "code",
   "execution_count": 3,
   "metadata": {},
   "outputs": [],
   "source": [
    "RAW_DATA_PATH = \"../data/raw/KSI.csv\"\n",
    "df = pd.read_csv(RAW_DATA_PATH)"
   ]
  },
  {
   "cell_type": "code",
   "execution_count": 4,
   "metadata": {},
   "outputs": [],
   "source": [
    "# fill missing values, adding new columns, extracting useful columns\n",
    "pc = Preprocessing(df, Config.binary_columns, Config.cat_attribs, Config.num_attribs, Config.label)\n",
    "new_df = pc.getFrame()"
   ]
  },
  {
   "cell_type": "code",
   "execution_count": 5,
   "metadata": {},
   "outputs": [],
   "source": [
    "# seperate feature and label\n",
    "X = new_df[Config.cat_attribs + Config.num_attribs+ Config.binary_columns]\n",
    "Y = new_df[Config.label]"
   ]
  },
  {
   "cell_type": "code",
   "execution_count": 6,
   "metadata": {},
   "outputs": [],
   "source": [
    "# pass feature to pipeline and convert it to numerical data\n",
    "dp = DataPipeline(Config.num_attribs,Config.cat_attribs)\n",
    "X = dp.process(X)"
   ]
  },
  {
   "cell_type": "code",
   "execution_count": 7,
   "metadata": {},
   "outputs": [
    {
     "data": {
      "text/plain": [
       "0"
      ]
     },
     "execution_count": 7,
     "metadata": {},
     "output_type": "execute_result"
    }
   ],
   "source": [
    "X.isna().sum().sum()"
   ]
  },
  {
   "cell_type": "code",
   "execution_count": 8,
   "metadata": {},
   "outputs": [
    {
     "data": {
      "text/plain": [
       "[14246, 2201]"
      ]
     },
     "execution_count": 8,
     "metadata": {},
     "output_type": "execute_result"
    }
   ],
   "source": [
    "Y.value_counts().tolist()"
   ]
  },
  {
   "cell_type": "code",
   "execution_count": 9,
   "metadata": {},
   "outputs": [],
   "source": [
    "X_train, X_test, y_train, y_test = train_test_split(X, Y, test_size=Config.test_size, stratify=Y, random_state=42)"
   ]
  },
  {
   "cell_type": "code",
   "execution_count": 10,
   "metadata": {},
   "outputs": [],
   "source": [
    "smote_minority = SMOTE(sampling_strategy = \"minority\", random_state=42)\n",
    "X_train_sm, y_train_sm = smote_minority.fit_resample(X_train, y_train)\n"
   ]
  },
  {
   "cell_type": "code",
   "execution_count": 11,
   "metadata": {},
   "outputs": [
    {
     "name": "stdout",
     "output_type": "stream",
     "text": [
      "Fitting 10 folds for each of 7 candidates, totalling 70 fits\n",
      "[CV 1/10] END criterion=gini, max_depth=14, min_samples_leaf=7, min_samples_split=40, splitter=best;, score=0.827 total time=   0.1s\n",
      "[CV 2/10] END criterion=gini, max_depth=14, min_samples_leaf=7, min_samples_split=40, splitter=best;, score=0.883 total time=   0.1s\n",
      "[CV 3/10] END criterion=gini, max_depth=14, min_samples_leaf=7, min_samples_split=40, splitter=best;, score=0.952 total time=   0.1s\n",
      "[CV 4/10] END criterion=gini, max_depth=14, min_samples_leaf=7, min_samples_split=40, splitter=best;, score=0.952 total time=   0.1s\n",
      "[CV 5/10] END criterion=gini, max_depth=14, min_samples_leaf=7, min_samples_split=40, splitter=best;, score=0.954 total time=   0.1s\n",
      "[CV 6/10] END criterion=gini, max_depth=14, min_samples_leaf=7, min_samples_split=40, splitter=best;, score=0.953 total time=   0.1s\n",
      "[CV 7/10] END criterion=gini, max_depth=14, min_samples_leaf=7, min_samples_split=40, splitter=best;, score=0.952 total time=   0.1s\n",
      "[CV 8/10] END criterion=gini, max_depth=14, min_samples_leaf=7, min_samples_split=40, splitter=best;, score=0.951 total time=   0.1s\n",
      "[CV 9/10] END criterion=gini, max_depth=14, min_samples_leaf=7, min_samples_split=40, splitter=best;, score=0.958 total time=   0.1s\n",
      "[CV 10/10] END criterion=gini, max_depth=14, min_samples_leaf=7, min_samples_split=40, splitter=best;, score=0.951 total time=   0.1s\n",
      "[CV 1/10] END criterion=gini, max_depth=19, min_samples_leaf=4, min_samples_split=45, splitter=best;, score=0.825 total time=   0.1s\n",
      "[CV 2/10] END criterion=gini, max_depth=19, min_samples_leaf=4, min_samples_split=45, splitter=best;, score=0.891 total time=   0.1s\n",
      "[CV 3/10] END criterion=gini, max_depth=19, min_samples_leaf=4, min_samples_split=45, splitter=best;, score=0.968 total time=   0.1s\n",
      "[CV 4/10] END criterion=gini, max_depth=19, min_samples_leaf=4, min_samples_split=45, splitter=best;, score=0.964 total time=   0.1s\n",
      "[CV 5/10] END criterion=gini, max_depth=19, min_samples_leaf=4, min_samples_split=45, splitter=best;, score=0.967 total time=   0.1s\n",
      "[CV 6/10] END criterion=gini, max_depth=19, min_samples_leaf=4, min_samples_split=45, splitter=best;, score=0.967 total time=   0.1s\n",
      "[CV 7/10] END criterion=gini, max_depth=19, min_samples_leaf=4, min_samples_split=45, splitter=best;, score=0.965 total time=   0.1s\n",
      "[CV 8/10] END criterion=gini, max_depth=19, min_samples_leaf=4, min_samples_split=45, splitter=best;, score=0.964 total time=   0.1s\n",
      "[CV 9/10] END criterion=gini, max_depth=19, min_samples_leaf=4, min_samples_split=45, splitter=best;, score=0.966 total time=   0.1s\n",
      "[CV 10/10] END criterion=gini, max_depth=19, min_samples_leaf=4, min_samples_split=45, splitter=best;, score=0.965 total time=   0.1s\n",
      "[CV 1/10] END criterion=gini, max_depth=17, min_samples_leaf=7, min_samples_split=40, splitter=best;, score=0.831 total time=   0.1s\n",
      "[CV 2/10] END criterion=gini, max_depth=17, min_samples_leaf=7, min_samples_split=40, splitter=best;, score=0.893 total time=   0.1s\n",
      "[CV 3/10] END criterion=gini, max_depth=17, min_samples_leaf=7, min_samples_split=40, splitter=best;, score=0.966 total time=   0.1s\n",
      "[CV 4/10] END criterion=gini, max_depth=17, min_samples_leaf=7, min_samples_split=40, splitter=best;, score=0.961 total time=   0.1s\n",
      "[CV 5/10] END criterion=gini, max_depth=17, min_samples_leaf=7, min_samples_split=40, splitter=best;, score=0.963 total time=   0.1s\n",
      "[CV 6/10] END criterion=gini, max_depth=17, min_samples_leaf=7, min_samples_split=40, splitter=best;, score=0.967 total time=   0.1s\n",
      "[CV 7/10] END criterion=gini, max_depth=17, min_samples_leaf=7, min_samples_split=40, splitter=best;, score=0.962 total time=   0.1s\n",
      "[CV 8/10] END criterion=gini, max_depth=17, min_samples_leaf=7, min_samples_split=40, splitter=best;, score=0.959 total time=   0.1s\n",
      "[CV 9/10] END criterion=gini, max_depth=17, min_samples_leaf=7, min_samples_split=40, splitter=best;, score=0.965 total time=   0.1s\n",
      "[CV 10/10] END criterion=gini, max_depth=17, min_samples_leaf=7, min_samples_split=40, splitter=best;, score=0.959 total time=   0.1s\n",
      "[CV 1/10] END criterion=gini, max_depth=17, min_samples_leaf=1, min_samples_split=40, splitter=random;, score=0.828 total time=   0.0s\n",
      "[CV 2/10] END criterion=gini, max_depth=17, min_samples_leaf=1, min_samples_split=40, splitter=random;, score=0.870 total time=   0.0s\n",
      "[CV 3/10] END criterion=gini, max_depth=17, min_samples_leaf=1, min_samples_split=40, splitter=random;, score=0.938 total time=   0.0s\n",
      "[CV 4/10] END criterion=gini, max_depth=17, min_samples_leaf=1, min_samples_split=40, splitter=random;, score=0.940 total time=   0.0s\n",
      "[CV 5/10] END criterion=gini, max_depth=17, min_samples_leaf=1, min_samples_split=40, splitter=random;, score=0.935 total time=   0.0s\n",
      "[CV 6/10] END criterion=gini, max_depth=17, min_samples_leaf=1, min_samples_split=40, splitter=random;, score=0.933 total time=   0.0s\n",
      "[CV 7/10] END criterion=gini, max_depth=17, min_samples_leaf=1, min_samples_split=40, splitter=random;, score=0.934 total time=   0.0s\n",
      "[CV 8/10] END criterion=gini, max_depth=17, min_samples_leaf=1, min_samples_split=40, splitter=random;, score=0.947 total time=   0.0s\n",
      "[CV 9/10] END criterion=gini, max_depth=17, min_samples_leaf=1, min_samples_split=40, splitter=random;, score=0.921 total time=   0.0s\n",
      "[CV 10/10] END criterion=gini, max_depth=17, min_samples_leaf=1, min_samples_split=40, splitter=random;, score=0.928 total time=   0.0s\n",
      "[CV 1/10] END criterion=entropy, max_depth=8, min_samples_leaf=4, min_samples_split=5, splitter=best;, score=0.754 total time=   0.0s\n",
      "[CV 2/10] END criterion=entropy, max_depth=8, min_samples_leaf=4, min_samples_split=5, splitter=best;, score=0.786 total time=   0.0s\n",
      "[CV 3/10] END criterion=entropy, max_depth=8, min_samples_leaf=4, min_samples_split=5, splitter=best;, score=0.872 total time=   0.0s\n",
      "[CV 4/10] END criterion=entropy, max_depth=8, min_samples_leaf=4, min_samples_split=5, splitter=best;, score=0.869 total time=   0.0s\n",
      "[CV 5/10] END criterion=entropy, max_depth=8, min_samples_leaf=4, min_samples_split=5, splitter=best;, score=0.871 total time=   0.0s\n",
      "[CV 6/10] END criterion=entropy, max_depth=8, min_samples_leaf=4, min_samples_split=5, splitter=best;, score=0.858 total time=   0.0s\n",
      "[CV 7/10] END criterion=entropy, max_depth=8, min_samples_leaf=4, min_samples_split=5, splitter=best;, score=0.874 total time=   0.0s\n",
      "[CV 8/10] END criterion=entropy, max_depth=8, min_samples_leaf=4, min_samples_split=5, splitter=best;, score=0.860 total time=   0.0s\n",
      "[CV 9/10] END criterion=entropy, max_depth=8, min_samples_leaf=4, min_samples_split=5, splitter=best;, score=0.860 total time=   0.0s\n",
      "[CV 10/10] END criterion=entropy, max_depth=8, min_samples_leaf=4, min_samples_split=5, splitter=best;, score=0.870 total time=   0.0s\n",
      "[CV 1/10] END criterion=entropy, max_depth=14, min_samples_leaf=1, min_samples_split=25, splitter=random;, score=0.827 total time=   0.0s\n",
      "[CV 2/10] END criterion=entropy, max_depth=14, min_samples_leaf=1, min_samples_split=25, splitter=random;, score=0.860 total time=   0.0s\n",
      "[CV 3/10] END criterion=entropy, max_depth=14, min_samples_leaf=1, min_samples_split=25, splitter=random;, score=0.907 total time=   0.0s\n",
      "[CV 4/10] END criterion=entropy, max_depth=14, min_samples_leaf=1, min_samples_split=25, splitter=random;, score=0.923 total time=   0.0s\n",
      "[CV 5/10] END criterion=entropy, max_depth=14, min_samples_leaf=1, min_samples_split=25, splitter=random;, score=0.923 total time=   0.0s\n",
      "[CV 6/10] END criterion=entropy, max_depth=14, min_samples_leaf=1, min_samples_split=25, splitter=random;, score=0.908 total time=   0.0s\n",
      "[CV 7/10] END criterion=entropy, max_depth=14, min_samples_leaf=1, min_samples_split=25, splitter=random;, score=0.926 total time=   0.0s\n",
      "[CV 8/10] END criterion=entropy, max_depth=14, min_samples_leaf=1, min_samples_split=25, splitter=random;, score=0.915 total time=   0.0s\n",
      "[CV 9/10] END criterion=entropy, max_depth=14, min_samples_leaf=1, min_samples_split=25, splitter=random;, score=0.896 total time=   0.0s\n",
      "[CV 10/10] END criterion=entropy, max_depth=14, min_samples_leaf=1, min_samples_split=25, splitter=random;, score=0.924 total time=   0.0s\n",
      "[CV 1/10] END criterion=gini, max_depth=10, min_samples_leaf=1, min_samples_split=45, splitter=best;, score=0.783 total time=   0.0s\n",
      "[CV 2/10] END criterion=gini, max_depth=10, min_samples_leaf=1, min_samples_split=45, splitter=best;, score=0.844 total time=   0.1s\n",
      "[CV 3/10] END criterion=gini, max_depth=10, min_samples_leaf=1, min_samples_split=45, splitter=best;, score=0.922 total time=   0.0s\n",
      "[CV 4/10] END criterion=gini, max_depth=10, min_samples_leaf=1, min_samples_split=45, splitter=best;, score=0.914 total time=   0.0s\n",
      "[CV 5/10] END criterion=gini, max_depth=10, min_samples_leaf=1, min_samples_split=45, splitter=best;, score=0.919 total time=   0.0s\n",
      "[CV 6/10] END criterion=gini, max_depth=10, min_samples_leaf=1, min_samples_split=45, splitter=best;, score=0.915 total time=   0.1s\n",
      "[CV 7/10] END criterion=gini, max_depth=10, min_samples_leaf=1, min_samples_split=45, splitter=best;, score=0.915 total time=   0.1s\n",
      "[CV 8/10] END criterion=gini, max_depth=10, min_samples_leaf=1, min_samples_split=45, splitter=best;, score=0.916 total time=   0.0s\n",
      "[CV 9/10] END criterion=gini, max_depth=10, min_samples_leaf=1, min_samples_split=45, splitter=best;, score=0.922 total time=   0.0s\n",
      "[CV 10/10] END criterion=gini, max_depth=10, min_samples_leaf=1, min_samples_split=45, splitter=best;, score=0.920 total time=   0.0s\n"
     ]
    },
    {
     "data": {
      "text/plain": [
       "0.9442184695986688"
      ]
     },
     "execution_count": 11,
     "metadata": {},
     "output_type": "execute_result"
    }
   ],
   "source": [
    "\n",
    "# Create param grid\n",
    "\n",
    "param_grid = {\n",
    "              'criterion': ['gini', 'entropy'], \n",
    "              'min_samples_split':  range(5,50, 5),\n",
    "              'min_samples_leaf': range(1, 15, 3),\n",
    "              'max_depth': range(5, 20, 1),\n",
    "              'splitter' : ['best','random']\n",
    "              } \n",
    "\n",
    "clf = RandomizedSearchCV(\n",
    "    estimator=DecisionTreeClassifier(random_state=42),\n",
    "    scoring=\"roc_auc\",\n",
    "    param_distributions=param_grid,\n",
    "    cv=10,\n",
    "    n_iter = 7,\n",
    "    refit=True,\n",
    "    verbose=3,\n",
    "    random_state=42\n",
    ")\n",
    "\n",
    "best_clf = clf.fit(X_train_sm, y_train_sm)\n",
    "\n",
    "best_clf.best_score_"
   ]
  },
  {
   "cell_type": "code",
   "execution_count": 12,
   "metadata": {},
   "outputs": [
    {
     "data": {
      "text/plain": [
       "0.8443768996960487"
      ]
     },
     "execution_count": 12,
     "metadata": {},
     "output_type": "execute_result"
    }
   ],
   "source": [
    "best_model = best_clf.best_estimator_\n",
    "best_model.score(X_test,y_test)"
   ]
  },
  {
   "cell_type": "code",
   "execution_count": 13,
   "metadata": {},
   "outputs": [
    {
     "name": "stdout",
     "output_type": "stream",
     "text": [
      "              precision    recall  f1-score   support\n",
      "\n",
      "           0       0.94      0.94      0.94     11396\n",
      "           1       0.60      0.63      0.61      1761\n",
      "\n",
      "    accuracy                           0.89     13157\n",
      "   macro avg       0.77      0.78      0.78     13157\n",
      "weighted avg       0.90      0.89      0.90     13157\n",
      "\n",
      "              precision    recall  f1-score   support\n",
      "\n",
      "           0       0.90      0.94      0.92     11396\n",
      "           1       0.93      0.89      0.91     11396\n",
      "\n",
      "    accuracy                           0.92     22792\n",
      "   macro avg       0.92      0.92      0.92     22792\n",
      "weighted avg       0.92      0.92      0.92     22792\n",
      "\n",
      "              precision    recall  f1-score   support\n",
      "\n",
      "           0       0.91      0.91      0.91      2850\n",
      "           1       0.42      0.43      0.42       440\n",
      "\n",
      "    accuracy                           0.84      3290\n",
      "   macro avg       0.67      0.67      0.67      3290\n",
      "weighted avg       0.85      0.84      0.85      3290\n",
      "\n"
     ]
    }
   ],
   "source": [
    "from sklearn.metrics import classification_report\n",
    "\n",
    "y_train_pred = best_model.predict(X_train)\n",
    "y_train_sm_pred = best_model.predict(X_train_sm)\n",
    "y_test_pred = best_model.predict(X_test)\n",
    "\n",
    "print(classification_report(y_train,y_train_pred))\n",
    "print(classification_report(y_train_sm,y_train_sm_pred))\n",
    "print(classification_report(y_test,y_test_pred))"
   ]
  },
  {
   "cell_type": "code",
   "execution_count": 14,
   "metadata": {},
   "outputs": [
    {
     "data": {
      "text/plain": [
       "{'splitter': 'best',\n",
       " 'min_samples_split': 45,\n",
       " 'min_samples_leaf': 4,\n",
       " 'max_depth': 19,\n",
       " 'criterion': 'gini'}"
      ]
     },
     "execution_count": 14,
     "metadata": {},
     "output_type": "execute_result"
    }
   ],
   "source": [
    "best_clf.best_params_\n",
    "# {'splitter': 'best', 'min_samples_split': 45, 'min_samples_leaf': 4, 'max_depth': 19, 'criterion': 'gini'}"
   ]
  },
  {
   "cell_type": "code",
   "execution_count": 15,
   "metadata": {},
   "outputs": [
    {
     "data": {
      "text/plain": [
       "['../models/best_model_decision_tree.pkl']"
      ]
     },
     "execution_count": 15,
     "metadata": {},
     "output_type": "execute_result"
    }
   ],
   "source": [
    "import joblib\n",
    "\n",
    "best_model = DecisionTreeClassifier(splitter = 'best'\n",
    "                                    , min_samples_split = 45\n",
    "                                    , min_samples_leaf = 4\n",
    "                                    , max_depth = 19\n",
    "                                    , criterion = 'gini'\n",
    "                                    )\n",
    "best_model.fit(X_train_sm, y_train_sm)\n",
    "\n",
    "joblib.dump(best_model,'../models/best_model_decision_tree.pkl')\n"
   ]
  },
  {
   "cell_type": "code",
   "execution_count": null,
   "metadata": {},
   "outputs": [],
   "source": []
  }
 ],
 "metadata": {
  "kernelspec": {
   "display_name": "base",
   "language": "python",
   "name": "python3"
  },
  "language_info": {
   "codemirror_mode": {
    "name": "ipython",
    "version": 3
   },
   "file_extension": ".py",
   "mimetype": "text/x-python",
   "name": "python",
   "nbconvert_exporter": "python",
   "pygments_lexer": "ipython3",
   "version": "3.9.12"
  },
  "orig_nbformat": 4
 },
 "nbformat": 4,
 "nbformat_minor": 2
}
