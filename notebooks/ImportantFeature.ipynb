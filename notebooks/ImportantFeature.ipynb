{
 "cells": [
  {
   "cell_type": "code",
   "execution_count": 1,
   "metadata": {},
   "outputs": [],
   "source": [
    "from pipelines.DataPipeline import DataPipeline\n",
    "from transformers.Preprocessing import Preprocessing\n",
    "from sklearn.model_selection import train_test_split\n",
    "from utils.Common import Config\n",
    "import pandas as pd"
   ]
  },
  {
   "cell_type": "code",
   "execution_count": 2,
   "metadata": {},
   "outputs": [],
   "source": [
    "RAW_DATA_PATH = \"../data/raw/KSI.csv\"\n",
    "df = pd.read_csv(RAW_DATA_PATH)\n"
   ]
  },
  {
   "cell_type": "code",
   "execution_count": 3,
   "metadata": {},
   "outputs": [],
   "source": [
    "# fill missing values, adding new columns, extracting useful columns\n",
    "pc = Preprocessing(\n",
    "    df, Config.binary_columns, Config.cat_attribs, Config.num_attribs, Config.label\n",
    ")\n",
    "new_df = pc.getFrame()"
   ]
  },
  {
   "cell_type": "code",
   "execution_count": 4,
   "metadata": {},
   "outputs": [],
   "source": [
    "# seperate feature and label\n",
    "X = new_df[Config.cat_attribs + Config.num_attribs + Config.binary_columns]\n",
    "Y = new_df[Config.label]"
   ]
  },
  {
   "cell_type": "code",
   "execution_count": 5,
   "metadata": {},
   "outputs": [],
   "source": [
    "# pass feature to pipeline and convert it to numerical data\n",
    "dp = DataPipeline(Config.num_attribs, Config.cat_attribs)\n",
    "X = dp.process(X)"
   ]
  },
  {
   "cell_type": "code",
   "execution_count": 6,
   "metadata": {},
   "outputs": [],
   "source": [
    "X_train, X_test, y_train, y_test = train_test_split(\n",
    "    X, Y, test_size=Config.test_size, stratify=Y\n",
    ")"
   ]
  },
  {
   "cell_type": "code",
   "execution_count": 7,
   "metadata": {},
   "outputs": [
    {
     "name": "stderr",
     "output_type": "stream",
     "text": [
      "c:\\Users\\yvonn\\anaconda3\\lib\\site-packages\\imblearn\\over_sampling\\_smote\\base.py:336: FutureWarning: The parameter `n_jobs` has been deprecated in 0.10 and will be removed in 0.12. You can pass an nearest neighbors estimator where `n_jobs` is already set instead.\n",
      "  warnings.warn(\n"
     ]
    }
   ],
   "source": [
    "from imblearn.over_sampling import SMOTE\n",
    "\n",
    "smote_minority = SMOTE(n_jobs=-1, sampling_strategy=\"minority\")\n",
    "\n",
    "X_train_sm, y_train_sm = smote_minority.fit_resample(X_train, y_train)"
   ]
  },
  {
   "cell_type": "code",
   "execution_count": 8,
   "metadata": {},
   "outputs": [
    {
     "data": {
      "text/plain": [
       "0.9405493155493155"
      ]
     },
     "execution_count": 8,
     "metadata": {},
     "output_type": "execute_result"
    }
   ],
   "source": [
    "import joblib\n",
    "\n",
    "rf_clf = joblib.load(\"../models/best_model_random_forest.pkl\")\n",
    "rf_clf.fit(X_train_sm, y_train_sm)\n",
    "rf_clf.score(X_train_sm, y_train_sm)"
   ]
  },
  {
   "cell_type": "code",
   "execution_count": 9,
   "metadata": {},
   "outputs": [
    {
     "data": {
      "text/plain": [
       "[('cat__INVTYPE_Driver', 0.06929757342679758),\n",
       " ('scaler__LATITUDE', 0.04581676891646922),\n",
       " ('remainder__SPEEDING', 0.037463804297245024),\n",
       " ('remainder__TRUCK', 0.03507687630931674),\n",
       " ('scaler__YEAR', 0.033649513650228446),\n",
       " ('remainder__PEDESTRIAN', 0.031049465329402143),\n",
       " ('scaler__DAY', 0.030147752121445735),\n",
       " ('cat__IMPACTYPE_Pedestrian Collisions', 0.029821875690099513),\n",
       " ('scaler__LONGITUDE', 0.027563848514924338),\n",
       " ('cat__INVTYPE_Passenger', 0.027000621922909526),\n",
       " ('scaler__TIME', 0.02652934780333915),\n",
       " ('remainder__AG_DRIV', 0.02595183159123393),\n",
       " ('cat__INVAGE_25 to 29', 0.024923977483740596),\n",
       " ('cat__INVTYPE_Pedestrian', 0.02411586596771596),\n",
       " ('cat__VEHTYPE_Other', 0.02214085131819316),\n",
       " ('scaler__MONTH', 0.021386178636767558),\n",
       " ('cat__INVAGE_35 to 39', 0.020727854570170522),\n",
       " ('cat__IMPACTYPE_Rear End', 0.019811592257559307),\n",
       " ('cat__INVAGE_unknown', 0.01959925966477376),\n",
       " ('cat__INVAGE_45 to 49', 0.017642106362214364),\n",
       " ('remainder__AUTOMOBILE', 0.016511746555094877),\n",
       " ('cat__INVAGE_20 to 24', 0.016497557418003815),\n",
       " ('remainder__PASSENGER', 0.016154715312685055),\n",
       " ('cat__DISTRICT_Toronto and East York', 0.015852266610038565),\n",
       " ('cat__INVAGE_40 to 44', 0.015530198563852073),\n",
       " ('cat__TRAFFCTL_Traffic Signal', 0.015274367701996394),\n",
       " ('cat__LIGHT_Daylight', 0.015084143133632622),\n",
       " ('cat__INVAGE_50 to 54', 0.014757146633069283),\n",
       " ('cat__INVAGE_30 to 34', 0.01468570122077808),\n",
       " ('cat__ROAD_CLASS_Major Arterial', 0.014508502710679444),\n",
       " ('cat__INVAGE_55 to 59', 0.011573456781512202),\n",
       " ('remainder__TRSN_CITY_VEH', 0.011570398866535827),\n",
       " ('remainder__CYCLIST', 0.010970327400004382),\n",
       " ('cat__IMPACTYPE_SMV Other', 0.010866801865594628),\n",
       " ('cat__LOCCOORD_Intersection', 0.01019873738963817),\n",
       " ('cat__RDSFCOND_Wet', 0.010017537758584856),\n",
       " ('cat__INVTYPE_Vehicle Owner', 0.008995769787424529),\n",
       " ('cat__INVAGE_15 to 19', 0.008984799376038813),\n",
       " ('cat__DISTRICT_Scarborough', 0.008286817377986547),\n",
       " ('cat__IMPACTYPE_Turning Movement', 0.007972170020086376),\n",
       " ('cat__LOCCOORD_Mid-Block', 0.00791658215523692),\n",
       " ('cat__INVAGE_70 to 74', 0.007583937845784506),\n",
       " ('cat__IMPACTYPE_Approaching', 0.007266139119044524),\n",
       " ('remainder__REDLIGHT', 0.007098063817882149),\n",
       " ('cat__INVAGE_80 to 84', 0.0069949060210744),\n",
       " ('cat__LIGHT_Dark, artificial', 0.006722875073539482),\n",
       " ('cat__IMPACTYPE_Cyclist Collisions', 0.0065973391801234715),\n",
       " ('cat__INVAGE_60 to 64', 0.005892820774078673),\n",
       " ('cat__VISIBILITY_Rain', 0.005737365031446274),\n",
       " ('cat__ROAD_CLASS_Minor Arterial', 0.0054767774836336405),\n",
       " ('cat__DISTRICT_North York', 0.00520533096543965),\n",
       " ('cat__INVAGE_85 to 89', 0.004880236674689164),\n",
       " ('cat__VEHTYPE_Bicycle', 0.004750721600317196),\n",
       " ('cat__INVAGE_65 to 69', 0.004660817350235748),\n",
       " ('cat__INVAGE_75 to 79', 0.00457209588022487),\n",
       " ('cat__TRAFFCTL_Stop Sign', 0.004267715296411106),\n",
       " ('cat__IMPACTYPE_Sideswipe', 0.0038471283021635117),\n",
       " ('remainder__ALCOHOL', 0.0037326182900253913),\n",
       " ('cat__INVAGE_90 to 94', 0.0036044871991228766),\n",
       " ('remainder__MOTORCYCLE', 0.0034422192108269577),\n",
       " ('cat__VEHTYPE_Municipal Transit Bus (TTC)', 0.0034225513933653444),\n",
       " ('cat__INVTYPE_Truck Driver', 0.0033409960603411615),\n",
       " ('cat__ROAD_CLASS_Local', 0.0026802627100091566),\n",
       " ('remainder__DISABILITY', 0.0025220260343475943),\n",
       " ('cat__VEHTYPE_Delivery Van', 0.0021419607430024396),\n",
       " ('cat__VEHTYPE_Passenger Van', 0.002139967222318402),\n",
       " ('cat__RDSFCOND_Other', 0.002103737922049016),\n",
       " ('cat__VEHTYPE_Motorcycle', 0.0019351524441587006),\n",
       " ('cat__INVTYPE_Other', 0.0017429186241470613),\n",
       " ('cat__VEHTYPE_Truck - Open', 0.0015166443977769873),\n",
       " ('cat__IMPACTYPE_SMV Unattended Vehicle', 0.0015064203584053168),\n",
       " ('cat__INVTYPE_Other Property Owner', 0.0014793716958655004),\n",
       " ('cat__VEHTYPE_Pick Up Truck', 0.0014495693988744696),\n",
       " ('cat__INVTYPE_Motorcycle Driver', 0.0014477224762240327),\n",
       " ('cat__LIGHT_Dusk', 0.0014393100759417083),\n",
       " ('cat__INVAGE_5 to 9', 0.0012759772516700077),\n",
       " ('cat__VEHTYPE_Street Car', 0.001214744670321704),\n",
       " ('cat__VISIBILITY_Other', 0.0011344538795822715),\n",
       " ('cat__VEHTYPE_Truck - Closed (Blazer, etc)', 0.001101524881747335),\n",
       " ('cat__INVAGE_10 to 14', 0.0010266528252947686),\n",
       " ('cat__VISIBILITY_Snow', 0.0009147390711252197),\n",
       " ('cat__LIGHT_Dawn', 0.0009140472214806944),\n",
       " ('cat__LIGHT_Dusk, artificial', 0.0007628976920499591),\n",
       " ('cat__IMPACTYPE_Other', 0.0006103901566859161),\n",
       " ('cat__VEHTYPE_Truck - Dump', 0.0005891047110239909),\n",
       " ('cat__LIGHT_Dawn, artificial', 0.0005141027097780314),\n",
       " ('cat__VEHTYPE_Truck (other)', 0.0004962726438060393),\n",
       " ('cat__RDSFCOND_Packed Snow', 0.00045933922640014154),\n",
       " ('cat__VEHTYPE_Taxi', 0.00040376481069645135),\n",
       " ('cat__TRAFFCTL_Pedestrian Crossover', 0.0004016863780314824),\n",
       " ('cat__VEHTYPE_Truck-Tractor', 0.0003835845280021478),\n",
       " ('cat__VISIBILITY_Fog, Mist, Smoke, Dust', 0.00035854176313163686),\n",
       " ('cat__INVAGE_Over 95', 0.00034184907204816276),\n",
       " ('cat__RDSFCOND_Loose Snow', 0.0002469681066560826),\n",
       " ('cat__LIGHT_Daylight, artificial', 0.00024075849452554797),\n",
       " ('cat__RDSFCOND_Slush', 0.00021450735499881402),\n",
       " ('cat__INVTYPE_Driver - Not Hit', 0.00019797124649854585),\n",
       " ('cat__LOCCOORD_Mid-Block (Abnormal)', 0.00018495200557933314),\n",
       " ('cat__VEHTYPE_Bus (Other) (Go Bus, Gray Coach)', 0.0001676593192679217),\n",
       " ('cat__VEHTYPE_Truck - Tank', 0.00013236936654137442),\n",
       " ('cat__RDSFCOND_Ice', 0.0001318829502717725),\n",
       " ('cat__TRAFFCTL_Traffic Controller', 0.00012738029505158876),\n",
       " ('cat__TRAFFCTL_Traffic Gate', 0.00010306008460246013),\n",
       " ('cat__ROAD_CLASS_Expressway', 5.449913603583961e-05),\n",
       " ('cat__VEHTYPE_Intercity Bus', 4.124777895224884e-05),\n",
       " ('cat__VEHTYPE_Moped', 2.798271477395514e-05),\n",
       " ('remainder__EMERG_VEH', 2.15400297840505e-05),\n",
       " ('cat__INVTYPE_Motorcycle Passenger', 1.8171391759181247e-05),\n",
       " ('cat__ROAD_CLASS_Laneway', 1.3764831266114056e-05),\n",
       " ('cat__LIGHT_Other', 1.2295241035305622e-05),\n",
       " ('cat__ROAD_CLASS_Other', 9.502885961298001e-06),\n",
       " ('cat__LOCCOORD_Park, Private Property, Public Lane', 7.912314922651833e-06),\n",
       " ('cat__VISIBILITY_Freezing Rain', 7.2307375108068065e-06),\n",
       " ('cat__INVTYPE_Wheelchair', 4.983642192032454e-06),\n",
       " ('cat__INVTYPE_Moped Driver', 7.694330266461671e-07),\n",
       " ('cat__VEHTYPE_Construction Equipment', 0.0),\n",
       " ('cat__VEHTYPE_Fire Vehicle', 0.0),\n",
       " ('cat__VEHTYPE_Off Road - 2 Wheels', 0.0),\n",
       " ('cat__VEHTYPE_Other Emergency Vehicle', 0.0),\n",
       " ('cat__VEHTYPE_Police Vehicle', 0.0),\n",
       " ('cat__VEHTYPE_School Bus', 0.0),\n",
       " ('cat__VEHTYPE_Tow Truck', 0.0),\n",
       " ('cat__VEHTYPE_Truck - Car Carrier', 0.0),\n",
       " ('cat__ROAD_CLASS_Expressway Ramp', 0.0),\n",
       " ('cat__ROAD_CLASS_Major Arterial Ramp', 0.0),\n",
       " ('cat__ROAD_CLASS_Pending', 0.0),\n",
       " ('cat__LOCCOORD_Exit Ramp Southbound', 0.0),\n",
       " ('cat__TRAFFCTL_Police Control', 0.0),\n",
       " ('cat__TRAFFCTL_School Guard', 0.0),\n",
       " ('cat__TRAFFCTL_Streetcar (Stop for)', 0.0),\n",
       " ('cat__TRAFFCTL_Yield Sign', 0.0),\n",
       " ('cat__RDSFCOND_Loose Sand or Gravel', 0.0),\n",
       " ('cat__RDSFCOND_Spilled liquid', 0.0),\n",
       " ('cat__VISIBILITY_Drifting Snow', 0.0),\n",
       " ('cat__VISIBILITY_Strong wind', 0.0),\n",
       " ('cat__INVTYPE_Cyclist Passenger', 0.0),\n",
       " ('cat__INVTYPE_In-Line Skater', 0.0),\n",
       " ('cat__INVTYPE_Moped Passenger', 0.0),\n",
       " ('cat__INVTYPE_Pedestrian - Not Hit', 0.0),\n",
       " ('cat__INVTYPE_Trailer Owner', 0.0),\n",
       " ('cat__INVTYPE_Witness', 0.0)]"
      ]
     },
     "execution_count": 9,
     "metadata": {},
     "output_type": "execute_result"
    }
   ],
   "source": [
    "important_cols = {}  # a dict to hold feature_name: feature_importance\n",
    "for feature, importance in zip(dc.converted_columns, rf_clf.feature_importances_):\n",
    "    important_cols[feature] = importance  # add the name/value pair\n",
    "\n",
    "sorted(important_cols.items(), key=lambda x: x[1], reverse=True)"
   ]
  }
 ],
 "metadata": {
  "kernelspec": {
   "display_name": "base",
   "language": "python",
   "name": "python3"
  },
  "language_info": {
   "codemirror_mode": {
    "name": "ipython",
    "version": 3
   },
   "file_extension": ".py",
   "mimetype": "text/x-python",
   "name": "python",
   "nbconvert_exporter": "python",
   "pygments_lexer": "ipython3",
   "version": "3.9.12"
  },
  "orig_nbformat": 4
 },
 "nbformat": 4,
 "nbformat_minor": 2
}
