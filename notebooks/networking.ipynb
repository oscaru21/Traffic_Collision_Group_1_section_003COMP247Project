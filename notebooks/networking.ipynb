{
 "cells": [
  {
   "cell_type": "code",
   "execution_count": 13,
   "metadata": {},
   "outputs": [],
   "source": []
  },
  {
   "cell_type": "code",
   "execution_count": 14,
   "metadata": {},
   "outputs": [
    {
     "ename": "AttributeError",
     "evalue": "'DataGenerator' object has no attribute '_random_values'",
     "output_type": "error",
     "traceback": [
      "\u001b[1;31m---------------------------------------------------------------------------\u001b[0m",
      "\u001b[1;31mAttributeError\u001b[0m                            Traceback (most recent call last)",
      "\u001b[1;32mc:\\Users\\orul_\\OneDrive\\Documentos\\CentennialCollege\\COMP247\\Bycycle_theft_Group_1_section_003COMP247Project\\notebooks\\networking.ipynb Cell 2\u001b[0m in \u001b[0;36m2\n\u001b[0;32m      <a href='vscode-notebook-cell:/c%3A/Users/orul_/OneDrive/Documentos/CentennialCollege/COMP247/Bycycle_theft_Group_1_section_003COMP247Project/notebooks/networking.ipynb#W1sZmlsZQ%3D%3D?line=0'>1</a>\u001b[0m gen \u001b[39m=\u001b[39m DataGenerator()\n\u001b[1;32m----> <a href='vscode-notebook-cell:/c%3A/Users/orul_/OneDrive/Documentos/CentennialCollege/COMP247/Bycycle_theft_Group_1_section_003COMP247Project/notebooks/networking.ipynb#W1sZmlsZQ%3D%3D?line=1'>2</a>\u001b[0m gen\u001b[39m.\u001b[39;49mgenerator_4()\n\u001b[0;32m      <a href='vscode-notebook-cell:/c%3A/Users/orul_/OneDrive/Documentos/CentennialCollege/COMP247/Bycycle_theft_Group_1_section_003COMP247Project/notebooks/networking.ipynb#W1sZmlsZQ%3D%3D?line=2'>3</a>\u001b[0m \u001b[39mprint\u001b[39m(gen)\n",
      "\u001b[1;32mc:\\Users\\orul_\\OneDrive\\Documentos\\CentennialCollege\\COMP247\\Bycycle_theft_Group_1_section_003COMP247Project\\notebooks\\networking.ipynb Cell 2\u001b[0m in \u001b[0;36m2\n\u001b[0;32m     <a href='vscode-notebook-cell:/c%3A/Users/orul_/OneDrive/Documentos/CentennialCollege/COMP247/Bycycle_theft_Group_1_section_003COMP247Project/notebooks/networking.ipynb#W1sZmlsZQ%3D%3D?line=26'>27</a>\u001b[0m \u001b[39mdef\u001b[39;00m \u001b[39mgenerator_4\u001b[39m(\u001b[39mself\u001b[39m):\n\u001b[0;32m     <a href='vscode-notebook-cell:/c%3A/Users/orul_/OneDrive/Documentos/CentennialCollege/COMP247/Bycycle_theft_Group_1_section_003COMP247Project/notebooks/networking.ipynb#W1sZmlsZQ%3D%3D?line=27'>28</a>\u001b[0m     \u001b[39mfor\u001b[39;00m i \u001b[39min\u001b[39;00m \u001b[39mrange\u001b[39m(\u001b[39m100\u001b[39m):\n\u001b[1;32m---> <a href='vscode-notebook-cell:/c%3A/Users/orul_/OneDrive/Documentos/CentennialCollege/COMP247/Bycycle_theft_Group_1_section_003COMP247Project/notebooks/networking.ipynb#W1sZmlsZQ%3D%3D?line=28'>29</a>\u001b[0m         \u001b[39mself\u001b[39;49m\u001b[39m.\u001b[39;49m_random_values\u001b[39m.\u001b[39mappend(np\u001b[39m.\u001b[39msin(i \u001b[39m/\u001b[39m \u001b[39m7\u001b[39m \u001b[39m*\u001b[39m np\u001b[39m.\u001b[39mpi))\n\u001b[0;32m     <a href='vscode-notebook-cell:/c%3A/Users/orul_/OneDrive/Documentos/CentennialCollege/COMP247/Bycycle_theft_Group_1_section_003COMP247Project/notebooks/networking.ipynb#W1sZmlsZQ%3D%3D?line=29'>30</a>\u001b[0m     \u001b[39mreturn\u001b[39;00m \u001b[39mself\u001b[39m\u001b[39m.\u001b[39mvalues\n",
      "\u001b[1;31mAttributeError\u001b[0m: 'DataGenerator' object has no attribute '_random_values'"
     ]
    }
   ],
   "source": []
  }
 ],
 "metadata": {
  "kernelspec": {
   "display_name": "Python 3",
   "language": "python",
   "name": "python3"
  },
  "language_info": {
   "codemirror_mode": {
    "name": "ipython",
    "version": 3
   },
   "file_extension": ".py",
   "mimetype": "text/x-python",
   "name": "python",
   "nbconvert_exporter": "python",
   "pygments_lexer": "ipython3",
   "version": "3.10.7"
  },
  "orig_nbformat": 4
 },
 "nbformat": 4,
 "nbformat_minor": 2
}
