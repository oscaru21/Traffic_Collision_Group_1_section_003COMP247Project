{
 "cells": [
  {
   "cell_type": "code",
   "execution_count": 105,
   "metadata": {},
   "outputs": [],
   "source": [
    "# prerequisite\n",
    "# pip install -U imbalanced-learn"
   ]
  },
  {
   "cell_type": "code",
   "execution_count": 106,
   "metadata": {},
   "outputs": [],
   "source": [
    "from pipelines.DataPipeline import DataPipeline\n",
    "from transformers.Preprocessing import Preprocessing\n",
    "from xgboost import XGBClassifier\n",
    "from sklearn.model_selection import train_test_split\n",
    "from sklearn.model_selection import GridSearchCV\n",
    "from imblearn.over_sampling import SMOTE\n",
    "from utils.Common import Config\n",
    "\n",
    "import pandas as pd\n",
    "import numpy as np\n",
    "import joblib\n"
   ]
  },
  {
   "cell_type": "code",
   "execution_count": 107,
   "metadata": {},
   "outputs": [],
   "source": [
    "RAW_DATA_PATH = \"../data/raw/KSI.csv\"\n",
    "df = pd.read_csv(RAW_DATA_PATH)"
   ]
  },
  {
   "cell_type": "code",
   "execution_count": 108,
   "metadata": {},
   "outputs": [],
   "source": [
    "# fill missing values, adding new columns, extracting useful columns\n",
    "pc = Preprocessing(df, Config.binary_columns, Config.cat_attribs, Config.num_attribs, Config.label)\n",
    "new_df = pc.getFrame()"
   ]
  },
  {
   "cell_type": "code",
   "execution_count": 109,
   "metadata": {},
   "outputs": [],
   "source": [
    "# seperate feature and label\n",
    "X = new_df[Config.cat_attribs + Config.num_attribs+ Config.binary_columns]\n",
    "Y = new_df[Config.label]"
   ]
  },
  {
   "cell_type": "code",
   "execution_count": 110,
   "metadata": {},
   "outputs": [],
   "source": [
    "# pass feature to pipeline and convert it to numerical data\n",
    "X = DataPipeline(Config.num_attribs,Config.cat_attribs).process(X)"
   ]
  },
  {
   "cell_type": "code",
   "execution_count": 111,
   "metadata": {},
   "outputs": [
    {
     "data": {
      "text/plain": [
       "0"
      ]
     },
     "execution_count": 111,
     "metadata": {},
     "output_type": "execute_result"
    }
   ],
   "source": [
    "X.isna().sum().sum()"
   ]
  },
  {
   "cell_type": "code",
   "execution_count": 112,
   "metadata": {},
   "outputs": [
    {
     "data": {
      "text/plain": [
       "[14246, 2201]"
      ]
     },
     "execution_count": 112,
     "metadata": {},
     "output_type": "execute_result"
    }
   ],
   "source": [
    "Y.value_counts().tolist()"
   ]
  },
  {
   "cell_type": "code",
   "execution_count": 113,
   "metadata": {},
   "outputs": [],
   "source": [
    "X_train, X_test, y_train, y_test = train_test_split(X, Y, test_size=Config.test_size, stratify=Y, random_state=42)"
   ]
  },
  {
   "cell_type": "code",
   "execution_count": 114,
   "metadata": {},
   "outputs": [],
   "source": [
    "smote_minority = SMOTE(sampling_strategy = \"minority\", random_state=42)\n",
    "X_train_sm, y_train_sm = smote_minority.fit_resample(X_train, y_train)\n"
   ]
  },
  {
   "cell_type": "code",
   "execution_count": 115,
   "metadata": {},
   "outputs": [],
   "source": [
    "# pip install xgboost"
   ]
  },
  {
   "cell_type": "code",
   "execution_count": 116,
   "metadata": {},
   "outputs": [
    {
     "data": {
      "text/html": [
       "<style>#sk-container-id-5 {color: black;background-color: white;}#sk-container-id-5 pre{padding: 0;}#sk-container-id-5 div.sk-toggleable {background-color: white;}#sk-container-id-5 label.sk-toggleable__label {cursor: pointer;display: block;width: 100%;margin-bottom: 0;padding: 0.3em;box-sizing: border-box;text-align: center;}#sk-container-id-5 label.sk-toggleable__label-arrow:before {content: \"▸\";float: left;margin-right: 0.25em;color: #696969;}#sk-container-id-5 label.sk-toggleable__label-arrow:hover:before {color: black;}#sk-container-id-5 div.sk-estimator:hover label.sk-toggleable__label-arrow:before {color: black;}#sk-container-id-5 div.sk-toggleable__content {max-height: 0;max-width: 0;overflow: hidden;text-align: left;background-color: #f0f8ff;}#sk-container-id-5 div.sk-toggleable__content pre {margin: 0.2em;color: black;border-radius: 0.25em;background-color: #f0f8ff;}#sk-container-id-5 input.sk-toggleable__control:checked~div.sk-toggleable__content {max-height: 200px;max-width: 100%;overflow: auto;}#sk-container-id-5 input.sk-toggleable__control:checked~label.sk-toggleable__label-arrow:before {content: \"▾\";}#sk-container-id-5 div.sk-estimator input.sk-toggleable__control:checked~label.sk-toggleable__label {background-color: #d4ebff;}#sk-container-id-5 div.sk-label input.sk-toggleable__control:checked~label.sk-toggleable__label {background-color: #d4ebff;}#sk-container-id-5 input.sk-hidden--visually {border: 0;clip: rect(1px 1px 1px 1px);clip: rect(1px, 1px, 1px, 1px);height: 1px;margin: -1px;overflow: hidden;padding: 0;position: absolute;width: 1px;}#sk-container-id-5 div.sk-estimator {font-family: monospace;background-color: #f0f8ff;border: 1px dotted black;border-radius: 0.25em;box-sizing: border-box;margin-bottom: 0.5em;}#sk-container-id-5 div.sk-estimator:hover {background-color: #d4ebff;}#sk-container-id-5 div.sk-parallel-item::after {content: \"\";width: 100%;border-bottom: 1px solid gray;flex-grow: 1;}#sk-container-id-5 div.sk-label:hover label.sk-toggleable__label {background-color: #d4ebff;}#sk-container-id-5 div.sk-serial::before {content: \"\";position: absolute;border-left: 1px solid gray;box-sizing: border-box;top: 0;bottom: 0;left: 50%;z-index: 0;}#sk-container-id-5 div.sk-serial {display: flex;flex-direction: column;align-items: center;background-color: white;padding-right: 0.2em;padding-left: 0.2em;position: relative;}#sk-container-id-5 div.sk-item {position: relative;z-index: 1;}#sk-container-id-5 div.sk-parallel {display: flex;align-items: stretch;justify-content: center;background-color: white;position: relative;}#sk-container-id-5 div.sk-item::before, #sk-container-id-5 div.sk-parallel-item::before {content: \"\";position: absolute;border-left: 1px solid gray;box-sizing: border-box;top: 0;bottom: 0;left: 50%;z-index: -1;}#sk-container-id-5 div.sk-parallel-item {display: flex;flex-direction: column;z-index: 1;position: relative;background-color: white;}#sk-container-id-5 div.sk-parallel-item:first-child::after {align-self: flex-end;width: 50%;}#sk-container-id-5 div.sk-parallel-item:last-child::after {align-self: flex-start;width: 50%;}#sk-container-id-5 div.sk-parallel-item:only-child::after {width: 0;}#sk-container-id-5 div.sk-dashed-wrapped {border: 1px dashed gray;margin: 0 0.4em 0.5em 0.4em;box-sizing: border-box;padding-bottom: 0.4em;background-color: white;}#sk-container-id-5 div.sk-label label {font-family: monospace;font-weight: bold;display: inline-block;line-height: 1.2em;}#sk-container-id-5 div.sk-label-container {text-align: center;}#sk-container-id-5 div.sk-container {/* jupyter's `normalize.less` sets `[hidden] { display: none; }` but bootstrap.min.css set `[hidden] { display: none !important; }` so we also need the `!important` here to be able to override the default hidden behavior on the sphinx rendered scikit-learn.org. See: https://github.com/scikit-learn/scikit-learn/issues/21755 */display: inline-block !important;position: relative;}#sk-container-id-5 div.sk-text-repr-fallback {display: none;}</style><div id=\"sk-container-id-5\" class=\"sk-top-container\"><div class=\"sk-text-repr-fallback\"><pre>XGBClassifier(base_score=None, booster=None, callbacks=None,\n",
       "              colsample_bylevel=None, colsample_bynode=None,\n",
       "              colsample_bytree=None, early_stopping_rounds=None,\n",
       "              enable_categorical=False, eval_metric=None, feature_types=None,\n",
       "              gamma=None, gpu_id=None, grow_policy=None, importance_type=None,\n",
       "              interaction_constraints=None, learning_rate=0.01, max_bin=None,\n",
       "              max_cat_threshold=None, max_cat_to_onehot=None,\n",
       "              max_delta_step=None, max_depth=None, max_leaves=None,\n",
       "              min_child_weight=None, missing=nan, monotone_constraints=None,\n",
       "              n_estimators=600, n_jobs=None, num_parallel_tree=None,\n",
       "              predictor=None, random_state=42, ...)</pre><b>In a Jupyter environment, please rerun this cell to show the HTML representation or trust the notebook. <br />On GitHub, the HTML representation is unable to render, please try loading this page with nbviewer.org.</b></div><div class=\"sk-container\" hidden><div class=\"sk-item\"><div class=\"sk-estimator sk-toggleable\"><input class=\"sk-toggleable__control sk-hidden--visually\" id=\"sk-estimator-id-5\" type=\"checkbox\" checked><label for=\"sk-estimator-id-5\" class=\"sk-toggleable__label sk-toggleable__label-arrow\">XGBClassifier</label><div class=\"sk-toggleable__content\"><pre>XGBClassifier(base_score=None, booster=None, callbacks=None,\n",
       "              colsample_bylevel=None, colsample_bynode=None,\n",
       "              colsample_bytree=None, early_stopping_rounds=None,\n",
       "              enable_categorical=False, eval_metric=None, feature_types=None,\n",
       "              gamma=None, gpu_id=None, grow_policy=None, importance_type=None,\n",
       "              interaction_constraints=None, learning_rate=0.01, max_bin=None,\n",
       "              max_cat_threshold=None, max_cat_to_onehot=None,\n",
       "              max_delta_step=None, max_depth=None, max_leaves=None,\n",
       "              min_child_weight=None, missing=nan, monotone_constraints=None,\n",
       "              n_estimators=600, n_jobs=None, num_parallel_tree=None,\n",
       "              predictor=None, random_state=42, ...)</pre></div></div></div></div></div>"
      ],
      "text/plain": [
       "XGBClassifier(base_score=None, booster=None, callbacks=None,\n",
       "              colsample_bylevel=None, colsample_bynode=None,\n",
       "              colsample_bytree=None, early_stopping_rounds=None,\n",
       "              enable_categorical=False, eval_metric=None, feature_types=None,\n",
       "              gamma=None, gpu_id=None, grow_policy=None, importance_type=None,\n",
       "              interaction_constraints=None, learning_rate=0.01, max_bin=None,\n",
       "              max_cat_threshold=None, max_cat_to_onehot=None,\n",
       "              max_delta_step=None, max_depth=None, max_leaves=None,\n",
       "              min_child_weight=None, missing=nan, monotone_constraints=None,\n",
       "              n_estimators=600, n_jobs=None, num_parallel_tree=None,\n",
       "              predictor=None, random_state=42, ...)"
      ]
     },
     "execution_count": 116,
     "metadata": {},
     "output_type": "execute_result"
    }
   ],
   "source": [
    "\n",
    "clf = XGBClassifier(learning_rate=0.01, n_estimators=600, objective='binary:logistic',\n",
    "                 random_state = 42)\n",
    "clf.fit(X_train_sm, y_train_sm)"
   ]
  },
  {
   "cell_type": "code",
   "execution_count": 117,
   "metadata": {},
   "outputs": [
    {
     "data": {
      "text/plain": [
       "0.8932127384662157"
      ]
     },
     "execution_count": 117,
     "metadata": {},
     "output_type": "execute_result"
    }
   ],
   "source": [
    "clf.score(X_train,y_train)"
   ]
  },
  {
   "cell_type": "code",
   "execution_count": 118,
   "metadata": {},
   "outputs": [
    {
     "data": {
      "text/plain": [
       "0.9282643032643033"
      ]
     },
     "execution_count": 118,
     "metadata": {},
     "output_type": "execute_result"
    }
   ],
   "source": [
    "clf.score(X_train_sm, y_train_sm)"
   ]
  },
  {
   "cell_type": "code",
   "execution_count": 119,
   "metadata": {},
   "outputs": [
    {
     "data": {
      "text/plain": [
       "0.8717325227963526"
      ]
     },
     "execution_count": 119,
     "metadata": {},
     "output_type": "execute_result"
    }
   ],
   "source": [
    "clf.score(X_test,y_test)"
   ]
  },
  {
   "cell_type": "code",
   "execution_count": 120,
   "metadata": {},
   "outputs": [
    {
     "name": "stdout",
     "output_type": "stream",
     "text": [
      "Fitting 10 folds for each of 24 candidates, totalling 240 fits\n",
      "[CV 1/10] END colsample_bytree=0.6, gamma=0.5, max_depth=3, subsample=0.6;, score=0.563 total time=   2.6s\n",
      "[CV 2/10] END colsample_bytree=0.6, gamma=0.5, max_depth=3, subsample=0.6;, score=0.738 total time=   2.6s\n",
      "[CV 3/10] END colsample_bytree=0.6, gamma=0.5, max_depth=3, subsample=0.6;, score=0.932 total time=   2.6s\n",
      "[CV 4/10] END colsample_bytree=0.6, gamma=0.5, max_depth=3, subsample=0.6;, score=0.927 total time=   2.6s\n",
      "[CV 5/10] END colsample_bytree=0.6, gamma=0.5, max_depth=3, subsample=0.6;, score=0.937 total time=   2.6s\n",
      "[CV 6/10] END colsample_bytree=0.6, gamma=0.5, max_depth=3, subsample=0.6;, score=0.935 total time=   2.7s\n",
      "[CV 7/10] END colsample_bytree=0.6, gamma=0.5, max_depth=3, subsample=0.6;, score=0.936 total time=   2.7s\n",
      "[CV 8/10] END colsample_bytree=0.6, gamma=0.5, max_depth=3, subsample=0.6;, score=0.928 total time=   2.7s\n",
      "[CV 9/10] END colsample_bytree=0.6, gamma=0.5, max_depth=3, subsample=0.6;, score=0.933 total time=   2.7s\n",
      "[CV 10/10] END colsample_bytree=0.6, gamma=0.5, max_depth=3, subsample=0.6;, score=0.936 total time=   2.7s\n",
      "[CV 1/10] END colsample_bytree=0.6, gamma=0.5, max_depth=3, subsample=1.0;, score=0.563 total time=   2.1s\n",
      "[CV 2/10] END colsample_bytree=0.6, gamma=0.5, max_depth=3, subsample=1.0;, score=0.729 total time=   2.1s\n",
      "[CV 3/10] END colsample_bytree=0.6, gamma=0.5, max_depth=3, subsample=1.0;, score=0.923 total time=   2.1s\n",
      "[CV 4/10] END colsample_bytree=0.6, gamma=0.5, max_depth=3, subsample=1.0;, score=0.918 total time=   2.1s\n",
      "[CV 5/10] END colsample_bytree=0.6, gamma=0.5, max_depth=3, subsample=1.0;, score=0.928 total time=   2.1s\n",
      "[CV 6/10] END colsample_bytree=0.6, gamma=0.5, max_depth=3, subsample=1.0;, score=0.923 total time=   2.1s\n",
      "[CV 7/10] END colsample_bytree=0.6, gamma=0.5, max_depth=3, subsample=1.0;, score=0.929 total time=   2.1s\n",
      "[CV 8/10] END colsample_bytree=0.6, gamma=0.5, max_depth=3, subsample=1.0;, score=0.918 total time=   2.1s\n",
      "[CV 9/10] END colsample_bytree=0.6, gamma=0.5, max_depth=3, subsample=1.0;, score=0.922 total time=   2.1s\n",
      "[CV 10/10] END colsample_bytree=0.6, gamma=0.5, max_depth=3, subsample=1.0;, score=0.925 total time=   2.1s\n",
      "[CV 1/10] END colsample_bytree=0.6, gamma=0.5, max_depth=5, subsample=0.6;, score=0.548 total time=   4.0s\n",
      "[CV 2/10] END colsample_bytree=0.6, gamma=0.5, max_depth=5, subsample=0.6;, score=0.752 total time=   4.0s\n",
      "[CV 3/10] END colsample_bytree=0.6, gamma=0.5, max_depth=5, subsample=0.6;, score=0.970 total time=   4.0s\n",
      "[CV 4/10] END colsample_bytree=0.6, gamma=0.5, max_depth=5, subsample=0.6;, score=0.970 total time=   4.1s\n",
      "[CV 5/10] END colsample_bytree=0.6, gamma=0.5, max_depth=5, subsample=0.6;, score=0.974 total time=   4.1s\n",
      "[CV 6/10] END colsample_bytree=0.6, gamma=0.5, max_depth=5, subsample=0.6;, score=0.972 total time=   4.1s\n",
      "[CV 7/10] END colsample_bytree=0.6, gamma=0.5, max_depth=5, subsample=0.6;, score=0.975 total time=   4.1s\n",
      "[CV 8/10] END colsample_bytree=0.6, gamma=0.5, max_depth=5, subsample=0.6;, score=0.969 total time=   4.1s\n",
      "[CV 9/10] END colsample_bytree=0.6, gamma=0.5, max_depth=5, subsample=0.6;, score=0.970 total time=   4.1s\n",
      "[CV 10/10] END colsample_bytree=0.6, gamma=0.5, max_depth=5, subsample=0.6;, score=0.973 total time=   4.1s\n",
      "[CV 1/10] END colsample_bytree=0.6, gamma=0.5, max_depth=5, subsample=1.0;, score=0.542 total time=   3.2s\n",
      "[CV 2/10] END colsample_bytree=0.6, gamma=0.5, max_depth=5, subsample=1.0;, score=0.746 total time=   3.2s\n",
      "[CV 3/10] END colsample_bytree=0.6, gamma=0.5, max_depth=5, subsample=1.0;, score=0.966 total time=   3.2s\n",
      "[CV 4/10] END colsample_bytree=0.6, gamma=0.5, max_depth=5, subsample=1.0;, score=0.961 total time=   3.2s\n",
      "[CV 5/10] END colsample_bytree=0.6, gamma=0.5, max_depth=5, subsample=1.0;, score=0.974 total time=   3.2s\n",
      "[CV 6/10] END colsample_bytree=0.6, gamma=0.5, max_depth=5, subsample=1.0;, score=0.971 total time=   3.2s\n",
      "[CV 7/10] END colsample_bytree=0.6, gamma=0.5, max_depth=5, subsample=1.0;, score=0.972 total time=   3.5s\n",
      "[CV 8/10] END colsample_bytree=0.6, gamma=0.5, max_depth=5, subsample=1.0;, score=0.969 total time=   3.2s\n",
      "[CV 9/10] END colsample_bytree=0.6, gamma=0.5, max_depth=5, subsample=1.0;, score=0.969 total time=   3.2s\n",
      "[CV 10/10] END colsample_bytree=0.6, gamma=0.5, max_depth=5, subsample=1.0;, score=0.971 total time=   5.1s\n",
      "[CV 1/10] END colsample_bytree=0.6, gamma=2.5, max_depth=3, subsample=0.6;, score=0.562 total time=   2.8s\n",
      "[CV 2/10] END colsample_bytree=0.6, gamma=2.5, max_depth=3, subsample=0.6;, score=0.738 total time=   2.8s\n",
      "[CV 3/10] END colsample_bytree=0.6, gamma=2.5, max_depth=3, subsample=0.6;, score=0.929 total time=   2.8s\n",
      "[CV 4/10] END colsample_bytree=0.6, gamma=2.5, max_depth=3, subsample=0.6;, score=0.925 total time=   2.8s\n",
      "[CV 5/10] END colsample_bytree=0.6, gamma=2.5, max_depth=3, subsample=0.6;, score=0.935 total time=   2.8s\n",
      "[CV 6/10] END colsample_bytree=0.6, gamma=2.5, max_depth=3, subsample=0.6;, score=0.938 total time=   2.8s\n",
      "[CV 7/10] END colsample_bytree=0.6, gamma=2.5, max_depth=3, subsample=0.6;, score=0.938 total time=   2.8s\n",
      "[CV 8/10] END colsample_bytree=0.6, gamma=2.5, max_depth=3, subsample=0.6;, score=0.927 total time=   2.8s\n",
      "[CV 9/10] END colsample_bytree=0.6, gamma=2.5, max_depth=3, subsample=0.6;, score=0.935 total time=   2.8s\n",
      "[CV 10/10] END colsample_bytree=0.6, gamma=2.5, max_depth=3, subsample=0.6;, score=0.935 total time=   2.8s\n",
      "[CV 1/10] END colsample_bytree=0.6, gamma=2.5, max_depth=3, subsample=1.0;, score=0.564 total time=   2.2s\n",
      "[CV 2/10] END colsample_bytree=0.6, gamma=2.5, max_depth=3, subsample=1.0;, score=0.729 total time=   2.2s\n",
      "[CV 3/10] END colsample_bytree=0.6, gamma=2.5, max_depth=3, subsample=1.0;, score=0.924 total time=   2.2s\n",
      "[CV 4/10] END colsample_bytree=0.6, gamma=2.5, max_depth=3, subsample=1.0;, score=0.917 total time=   2.2s\n",
      "[CV 5/10] END colsample_bytree=0.6, gamma=2.5, max_depth=3, subsample=1.0;, score=0.926 total time=   2.2s\n",
      "[CV 6/10] END colsample_bytree=0.6, gamma=2.5, max_depth=3, subsample=1.0;, score=0.922 total time=   2.2s\n",
      "[CV 7/10] END colsample_bytree=0.6, gamma=2.5, max_depth=3, subsample=1.0;, score=0.931 total time=   2.2s\n",
      "[CV 8/10] END colsample_bytree=0.6, gamma=2.5, max_depth=3, subsample=1.0;, score=0.915 total time=   2.2s\n",
      "[CV 9/10] END colsample_bytree=0.6, gamma=2.5, max_depth=3, subsample=1.0;, score=0.924 total time=   2.2s\n",
      "[CV 10/10] END colsample_bytree=0.6, gamma=2.5, max_depth=3, subsample=1.0;, score=0.929 total time=   2.2s\n",
      "[CV 1/10] END colsample_bytree=0.6, gamma=2.5, max_depth=5, subsample=0.6;, score=0.548 total time=   4.2s\n",
      "[CV 2/10] END colsample_bytree=0.6, gamma=2.5, max_depth=5, subsample=0.6;, score=0.751 total time=   4.2s\n",
      "[CV 3/10] END colsample_bytree=0.6, gamma=2.5, max_depth=5, subsample=0.6;, score=0.969 total time=   4.2s\n",
      "[CV 4/10] END colsample_bytree=0.6, gamma=2.5, max_depth=5, subsample=0.6;, score=0.971 total time=   4.2s\n",
      "[CV 5/10] END colsample_bytree=0.6, gamma=2.5, max_depth=5, subsample=0.6;, score=0.975 total time=   4.1s\n",
      "[CV 6/10] END colsample_bytree=0.6, gamma=2.5, max_depth=5, subsample=0.6;, score=0.973 total time=   4.1s\n",
      "[CV 7/10] END colsample_bytree=0.6, gamma=2.5, max_depth=5, subsample=0.6;, score=0.974 total time=   4.1s\n",
      "[CV 8/10] END colsample_bytree=0.6, gamma=2.5, max_depth=5, subsample=0.6;, score=0.969 total time=   4.1s\n",
      "[CV 9/10] END colsample_bytree=0.6, gamma=2.5, max_depth=5, subsample=0.6;, score=0.972 total time=   4.1s\n",
      "[CV 10/10] END colsample_bytree=0.6, gamma=2.5, max_depth=5, subsample=0.6;, score=0.973 total time=   4.2s\n",
      "[CV 1/10] END colsample_bytree=0.6, gamma=2.5, max_depth=5, subsample=1.0;, score=0.541 total time=   3.2s\n",
      "[CV 2/10] END colsample_bytree=0.6, gamma=2.5, max_depth=5, subsample=1.0;, score=0.744 total time=   3.2s\n",
      "[CV 3/10] END colsample_bytree=0.6, gamma=2.5, max_depth=5, subsample=1.0;, score=0.968 total time=   3.2s\n",
      "[CV 4/10] END colsample_bytree=0.6, gamma=2.5, max_depth=5, subsample=1.0;, score=0.966 total time=   3.2s\n",
      "[CV 5/10] END colsample_bytree=0.6, gamma=2.5, max_depth=5, subsample=1.0;, score=0.973 total time=   5.1s\n",
      "[CV 6/10] END colsample_bytree=0.6, gamma=2.5, max_depth=5, subsample=1.0;, score=0.972 total time=   3.2s\n",
      "[CV 7/10] END colsample_bytree=0.6, gamma=2.5, max_depth=5, subsample=1.0;, score=0.973 total time=   3.2s\n",
      "[CV 8/10] END colsample_bytree=0.6, gamma=2.5, max_depth=5, subsample=1.0;, score=0.965 total time=   3.3s\n",
      "[CV 9/10] END colsample_bytree=0.6, gamma=2.5, max_depth=5, subsample=1.0;, score=0.969 total time=   3.2s\n",
      "[CV 10/10] END colsample_bytree=0.6, gamma=2.5, max_depth=5, subsample=1.0;, score=0.970 total time=   3.2s\n",
      "[CV 1/10] END colsample_bytree=0.6, gamma=5, max_depth=3, subsample=0.6;, score=0.564 total time=   5.5s\n",
      "[CV 2/10] END colsample_bytree=0.6, gamma=5, max_depth=3, subsample=0.6;, score=0.736 total time=   5.0s\n",
      "[CV 3/10] END colsample_bytree=0.6, gamma=5, max_depth=3, subsample=0.6;, score=0.930 total time=   2.9s\n",
      "[CV 4/10] END colsample_bytree=0.6, gamma=5, max_depth=3, subsample=0.6;, score=0.928 total time=   2.8s\n",
      "[CV 5/10] END colsample_bytree=0.6, gamma=5, max_depth=3, subsample=0.6;, score=0.936 total time=   2.9s\n",
      "[CV 6/10] END colsample_bytree=0.6, gamma=5, max_depth=3, subsample=0.6;, score=0.935 total time=   3.0s\n",
      "[CV 7/10] END colsample_bytree=0.6, gamma=5, max_depth=3, subsample=0.6;, score=0.937 total time=   2.9s\n",
      "[CV 8/10] END colsample_bytree=0.6, gamma=5, max_depth=3, subsample=0.6;, score=0.927 total time=   2.9s\n",
      "[CV 9/10] END colsample_bytree=0.6, gamma=5, max_depth=3, subsample=0.6;, score=0.934 total time=   2.9s\n",
      "[CV 10/10] END colsample_bytree=0.6, gamma=5, max_depth=3, subsample=0.6;, score=0.935 total time=   2.9s\n",
      "[CV 1/10] END colsample_bytree=0.6, gamma=5, max_depth=3, subsample=1.0;, score=0.565 total time=   2.2s\n",
      "[CV 2/10] END colsample_bytree=0.6, gamma=5, max_depth=3, subsample=1.0;, score=0.729 total time=   2.5s\n",
      "[CV 3/10] END colsample_bytree=0.6, gamma=5, max_depth=3, subsample=1.0;, score=0.924 total time=   2.4s\n",
      "[CV 4/10] END colsample_bytree=0.6, gamma=5, max_depth=3, subsample=1.0;, score=0.915 total time=   2.3s\n",
      "[CV 5/10] END colsample_bytree=0.6, gamma=5, max_depth=3, subsample=1.0;, score=0.928 total time=   2.2s\n",
      "[CV 6/10] END colsample_bytree=0.6, gamma=5, max_depth=3, subsample=1.0;, score=0.922 total time=   2.2s\n",
      "[CV 7/10] END colsample_bytree=0.6, gamma=5, max_depth=3, subsample=1.0;, score=0.928 total time=   2.3s\n",
      "[CV 8/10] END colsample_bytree=0.6, gamma=5, max_depth=3, subsample=1.0;, score=0.914 total time=   2.2s\n",
      "[CV 9/10] END colsample_bytree=0.6, gamma=5, max_depth=3, subsample=1.0;, score=0.923 total time=   2.2s\n",
      "[CV 10/10] END colsample_bytree=0.6, gamma=5, max_depth=3, subsample=1.0;, score=0.926 total time=   2.2s\n",
      "[CV 1/10] END colsample_bytree=0.6, gamma=5, max_depth=5, subsample=0.6;, score=0.544 total time=   4.3s\n",
      "[CV 2/10] END colsample_bytree=0.6, gamma=5, max_depth=5, subsample=0.6;, score=0.748 total time=   4.3s\n",
      "[CV 3/10] END colsample_bytree=0.6, gamma=5, max_depth=5, subsample=0.6;, score=0.971 total time=   4.4s\n",
      "[CV 4/10] END colsample_bytree=0.6, gamma=5, max_depth=5, subsample=0.6;, score=0.970 total time=   4.3s\n",
      "[CV 5/10] END colsample_bytree=0.6, gamma=5, max_depth=5, subsample=0.6;, score=0.973 total time=   4.3s\n",
      "[CV 6/10] END colsample_bytree=0.6, gamma=5, max_depth=5, subsample=0.6;, score=0.974 total time=   4.2s\n",
      "[CV 7/10] END colsample_bytree=0.6, gamma=5, max_depth=5, subsample=0.6;, score=0.975 total time=   4.2s\n",
      "[CV 8/10] END colsample_bytree=0.6, gamma=5, max_depth=5, subsample=0.6;, score=0.968 total time=   4.2s\n",
      "[CV 9/10] END colsample_bytree=0.6, gamma=5, max_depth=5, subsample=0.6;, score=0.969 total time=   4.1s\n",
      "[CV 10/10] END colsample_bytree=0.6, gamma=5, max_depth=5, subsample=0.6;, score=0.972 total time=   4.2s\n",
      "[CV 1/10] END colsample_bytree=0.6, gamma=5, max_depth=5, subsample=1.0;, score=0.539 total time=   3.2s\n",
      "[CV 2/10] END colsample_bytree=0.6, gamma=5, max_depth=5, subsample=1.0;, score=0.745 total time=   3.2s\n",
      "[CV 3/10] END colsample_bytree=0.6, gamma=5, max_depth=5, subsample=1.0;, score=0.967 total time=   3.2s\n",
      "[CV 4/10] END colsample_bytree=0.6, gamma=5, max_depth=5, subsample=1.0;, score=0.964 total time=   5.1s\n",
      "[CV 5/10] END colsample_bytree=0.6, gamma=5, max_depth=5, subsample=1.0;, score=0.971 total time=   3.1s\n",
      "[CV 6/10] END colsample_bytree=0.6, gamma=5, max_depth=5, subsample=1.0;, score=0.973 total time=   3.3s\n",
      "[CV 7/10] END colsample_bytree=0.6, gamma=5, max_depth=5, subsample=1.0;, score=0.975 total time=   3.2s\n",
      "[CV 8/10] END colsample_bytree=0.6, gamma=5, max_depth=5, subsample=1.0;, score=0.968 total time=   3.2s\n",
      "[CV 9/10] END colsample_bytree=0.6, gamma=5, max_depth=5, subsample=1.0;, score=0.967 total time=   3.2s\n",
      "[CV 10/10] END colsample_bytree=0.6, gamma=5, max_depth=5, subsample=1.0;, score=0.968 total time=   3.2s\n",
      "[CV 1/10] END colsample_bytree=1.0, gamma=0.5, max_depth=3, subsample=0.6;, score=0.568 total time=   3.8s\n",
      "[CV 2/10] END colsample_bytree=1.0, gamma=0.5, max_depth=3, subsample=0.6;, score=0.744 total time=   3.8s\n",
      "[CV 3/10] END colsample_bytree=1.0, gamma=0.5, max_depth=3, subsample=0.6;, score=0.935 total time=   3.8s\n",
      "[CV 4/10] END colsample_bytree=1.0, gamma=0.5, max_depth=3, subsample=0.6;, score=0.927 total time=   3.8s\n",
      "[CV 5/10] END colsample_bytree=1.0, gamma=0.5, max_depth=3, subsample=0.6;, score=0.933 total time=   3.7s\n",
      "[CV 6/10] END colsample_bytree=1.0, gamma=0.5, max_depth=3, subsample=0.6;, score=0.934 total time=   3.7s\n",
      "[CV 7/10] END colsample_bytree=1.0, gamma=0.5, max_depth=3, subsample=0.6;, score=0.936 total time=   3.7s\n",
      "[CV 8/10] END colsample_bytree=1.0, gamma=0.5, max_depth=3, subsample=0.6;, score=0.922 total time=   3.7s\n",
      "[CV 9/10] END colsample_bytree=1.0, gamma=0.5, max_depth=3, subsample=0.6;, score=0.926 total time=   3.7s\n",
      "[CV 10/10] END colsample_bytree=1.0, gamma=0.5, max_depth=3, subsample=0.6;, score=0.935 total time=   3.7s\n",
      "[CV 1/10] END colsample_bytree=1.0, gamma=0.5, max_depth=3, subsample=1.0;, score=0.567 total time=   2.9s\n",
      "[CV 2/10] END colsample_bytree=1.0, gamma=0.5, max_depth=3, subsample=1.0;, score=0.734 total time=   3.6s\n",
      "[CV 3/10] END colsample_bytree=1.0, gamma=0.5, max_depth=3, subsample=1.0;, score=0.927 total time=   4.2s\n",
      "[CV 4/10] END colsample_bytree=1.0, gamma=0.5, max_depth=3, subsample=1.0;, score=0.912 total time=   2.8s\n",
      "[CV 5/10] END colsample_bytree=1.0, gamma=0.5, max_depth=3, subsample=1.0;, score=0.925 total time=   2.9s\n",
      "[CV 6/10] END colsample_bytree=1.0, gamma=0.5, max_depth=3, subsample=1.0;, score=0.921 total time=   2.8s\n",
      "[CV 7/10] END colsample_bytree=1.0, gamma=0.5, max_depth=3, subsample=1.0;, score=0.924 total time=   2.8s\n",
      "[CV 8/10] END colsample_bytree=1.0, gamma=0.5, max_depth=3, subsample=1.0;, score=0.913 total time=   2.8s\n",
      "[CV 9/10] END colsample_bytree=1.0, gamma=0.5, max_depth=3, subsample=1.0;, score=0.919 total time=   2.9s\n",
      "[CV 10/10] END colsample_bytree=1.0, gamma=0.5, max_depth=3, subsample=1.0;, score=0.923 total time=   2.8s\n",
      "[CV 1/10] END colsample_bytree=1.0, gamma=0.5, max_depth=5, subsample=0.6;, score=0.558 total time=   5.7s\n",
      "[CV 2/10] END colsample_bytree=1.0, gamma=0.5, max_depth=5, subsample=0.6;, score=0.754 total time=   5.7s\n",
      "[CV 3/10] END colsample_bytree=1.0, gamma=0.5, max_depth=5, subsample=0.6;, score=0.971 total time=   6.1s\n",
      "[CV 4/10] END colsample_bytree=1.0, gamma=0.5, max_depth=5, subsample=0.6;, score=0.970 total time=   5.9s\n",
      "[CV 5/10] END colsample_bytree=1.0, gamma=0.5, max_depth=5, subsample=0.6;, score=0.973 total time=  12.0s\n",
      "[CV 6/10] END colsample_bytree=1.0, gamma=0.5, max_depth=5, subsample=0.6;, score=0.972 total time=  12.5s\n",
      "[CV 7/10] END colsample_bytree=1.0, gamma=0.5, max_depth=5, subsample=0.6;, score=0.976 total time=  13.0s\n",
      "[CV 8/10] END colsample_bytree=1.0, gamma=0.5, max_depth=5, subsample=0.6;, score=0.967 total time=   5.7s\n",
      "[CV 9/10] END colsample_bytree=1.0, gamma=0.5, max_depth=5, subsample=0.6;, score=0.972 total time=   5.6s\n",
      "[CV 10/10] END colsample_bytree=1.0, gamma=0.5, max_depth=5, subsample=0.6;, score=0.971 total time=   5.7s\n",
      "[CV 1/10] END colsample_bytree=1.0, gamma=0.5, max_depth=5, subsample=1.0;, score=0.550 total time=   6.4s\n",
      "[CV 2/10] END colsample_bytree=1.0, gamma=0.5, max_depth=5, subsample=1.0;, score=0.750 total time=   4.5s\n",
      "[CV 3/10] END colsample_bytree=1.0, gamma=0.5, max_depth=5, subsample=1.0;, score=0.967 total time=   4.5s\n",
      "[CV 4/10] END colsample_bytree=1.0, gamma=0.5, max_depth=5, subsample=1.0;, score=0.958 total time=   4.5s\n",
      "[CV 5/10] END colsample_bytree=1.0, gamma=0.5, max_depth=5, subsample=1.0;, score=0.971 total time=   4.5s\n",
      "[CV 6/10] END colsample_bytree=1.0, gamma=0.5, max_depth=5, subsample=1.0;, score=0.968 total time=   6.4s\n",
      "[CV 7/10] END colsample_bytree=1.0, gamma=0.5, max_depth=5, subsample=1.0;, score=0.972 total time=   4.2s\n",
      "[CV 8/10] END colsample_bytree=1.0, gamma=0.5, max_depth=5, subsample=1.0;, score=0.968 total time=   4.3s\n",
      "[CV 9/10] END colsample_bytree=1.0, gamma=0.5, max_depth=5, subsample=1.0;, score=0.968 total time=   4.3s\n",
      "[CV 10/10] END colsample_bytree=1.0, gamma=0.5, max_depth=5, subsample=1.0;, score=0.971 total time=   4.4s\n",
      "[CV 1/10] END colsample_bytree=1.0, gamma=2.5, max_depth=3, subsample=0.6;, score=0.568 total time=   3.9s\n",
      "[CV 2/10] END colsample_bytree=1.0, gamma=2.5, max_depth=3, subsample=0.6;, score=0.744 total time=   3.8s\n",
      "[CV 3/10] END colsample_bytree=1.0, gamma=2.5, max_depth=3, subsample=0.6;, score=0.934 total time=   3.8s\n",
      "[CV 4/10] END colsample_bytree=1.0, gamma=2.5, max_depth=3, subsample=0.6;, score=0.925 total time=   3.8s\n",
      "[CV 5/10] END colsample_bytree=1.0, gamma=2.5, max_depth=3, subsample=0.6;, score=0.932 total time=   3.8s\n",
      "[CV 6/10] END colsample_bytree=1.0, gamma=2.5, max_depth=3, subsample=0.6;, score=0.933 total time=   3.7s\n",
      "[CV 7/10] END colsample_bytree=1.0, gamma=2.5, max_depth=3, subsample=0.6;, score=0.935 total time=   3.7s\n",
      "[CV 8/10] END colsample_bytree=1.0, gamma=2.5, max_depth=3, subsample=0.6;, score=0.920 total time=   3.7s\n",
      "[CV 9/10] END colsample_bytree=1.0, gamma=2.5, max_depth=3, subsample=0.6;, score=0.929 total time=   3.7s\n",
      "[CV 10/10] END colsample_bytree=1.0, gamma=2.5, max_depth=3, subsample=0.6;, score=0.935 total time=   3.8s\n",
      "[CV 1/10] END colsample_bytree=1.0, gamma=2.5, max_depth=3, subsample=1.0;, score=0.568 total time=   2.9s\n",
      "[CV 2/10] END colsample_bytree=1.0, gamma=2.5, max_depth=3, subsample=1.0;, score=0.733 total time=   2.9s\n",
      "[CV 3/10] END colsample_bytree=1.0, gamma=2.5, max_depth=3, subsample=1.0;, score=0.925 total time=   4.8s\n",
      "[CV 4/10] END colsample_bytree=1.0, gamma=2.5, max_depth=3, subsample=1.0;, score=0.912 total time=   2.8s\n",
      "[CV 5/10] END colsample_bytree=1.0, gamma=2.5, max_depth=3, subsample=1.0;, score=0.923 total time=   2.8s\n",
      "[CV 6/10] END colsample_bytree=1.0, gamma=2.5, max_depth=3, subsample=1.0;, score=0.921 total time=   2.8s\n",
      "[CV 7/10] END colsample_bytree=1.0, gamma=2.5, max_depth=3, subsample=1.0;, score=0.924 total time=   2.9s\n",
      "[CV 8/10] END colsample_bytree=1.0, gamma=2.5, max_depth=3, subsample=1.0;, score=0.911 total time=   2.9s\n",
      "[CV 9/10] END colsample_bytree=1.0, gamma=2.5, max_depth=3, subsample=1.0;, score=0.918 total time=   2.9s\n",
      "[CV 10/10] END colsample_bytree=1.0, gamma=2.5, max_depth=3, subsample=1.0;, score=0.922 total time=   5.0s\n",
      "[CV 1/10] END colsample_bytree=1.0, gamma=2.5, max_depth=5, subsample=0.6;, score=0.557 total time=   5.6s\n",
      "[CV 2/10] END colsample_bytree=1.0, gamma=2.5, max_depth=5, subsample=0.6;, score=0.754 total time=   5.6s\n",
      "[CV 3/10] END colsample_bytree=1.0, gamma=2.5, max_depth=5, subsample=0.6;, score=0.969 total time=   5.6s\n",
      "[CV 4/10] END colsample_bytree=1.0, gamma=2.5, max_depth=5, subsample=0.6;, score=0.970 total time=   5.6s\n",
      "[CV 5/10] END colsample_bytree=1.0, gamma=2.5, max_depth=5, subsample=0.6;, score=0.973 total time=   5.6s\n",
      "[CV 6/10] END colsample_bytree=1.0, gamma=2.5, max_depth=5, subsample=0.6;, score=0.973 total time=   5.6s\n",
      "[CV 7/10] END colsample_bytree=1.0, gamma=2.5, max_depth=5, subsample=0.6;, score=0.976 total time=   5.6s\n",
      "[CV 8/10] END colsample_bytree=1.0, gamma=2.5, max_depth=5, subsample=0.6;, score=0.968 total time=   5.6s\n",
      "[CV 9/10] END colsample_bytree=1.0, gamma=2.5, max_depth=5, subsample=0.6;, score=0.973 total time=   5.6s\n",
      "[CV 10/10] END colsample_bytree=1.0, gamma=2.5, max_depth=5, subsample=0.6;, score=0.971 total time=   5.6s\n",
      "[CV 1/10] END colsample_bytree=1.0, gamma=2.5, max_depth=5, subsample=1.0;, score=0.553 total time=   4.4s\n",
      "[CV 2/10] END colsample_bytree=1.0, gamma=2.5, max_depth=5, subsample=1.0;, score=0.750 total time=   6.2s\n",
      "[CV 3/10] END colsample_bytree=1.0, gamma=2.5, max_depth=5, subsample=1.0;, score=0.968 total time=   4.3s\n",
      "[CV 4/10] END colsample_bytree=1.0, gamma=2.5, max_depth=5, subsample=1.0;, score=0.960 total time=   4.3s\n",
      "[CV 5/10] END colsample_bytree=1.0, gamma=2.5, max_depth=5, subsample=1.0;, score=0.971 total time=   4.3s\n",
      "[CV 6/10] END colsample_bytree=1.0, gamma=2.5, max_depth=5, subsample=1.0;, score=0.970 total time=   4.3s\n",
      "[CV 7/10] END colsample_bytree=1.0, gamma=2.5, max_depth=5, subsample=1.0;, score=0.971 total time=   6.2s\n",
      "[CV 8/10] END colsample_bytree=1.0, gamma=2.5, max_depth=5, subsample=1.0;, score=0.967 total time=   4.3s\n",
      "[CV 9/10] END colsample_bytree=1.0, gamma=2.5, max_depth=5, subsample=1.0;, score=0.965 total time=   4.0s\n",
      "[CV 10/10] END colsample_bytree=1.0, gamma=2.5, max_depth=5, subsample=1.0;, score=0.970 total time=   3.9s\n",
      "[CV 1/10] END colsample_bytree=1.0, gamma=5, max_depth=3, subsample=0.6;, score=0.569 total time=   3.4s\n",
      "[CV 2/10] END colsample_bytree=1.0, gamma=5, max_depth=3, subsample=0.6;, score=0.744 total time=   3.4s\n",
      "[CV 3/10] END colsample_bytree=1.0, gamma=5, max_depth=3, subsample=0.6;, score=0.934 total time=   3.4s\n",
      "[CV 4/10] END colsample_bytree=1.0, gamma=5, max_depth=3, subsample=0.6;, score=0.925 total time=   3.4s\n",
      "[CV 5/10] END colsample_bytree=1.0, gamma=5, max_depth=3, subsample=0.6;, score=0.933 total time=   3.4s\n",
      "[CV 6/10] END colsample_bytree=1.0, gamma=5, max_depth=3, subsample=0.6;, score=0.933 total time=   3.4s\n",
      "[CV 7/10] END colsample_bytree=1.0, gamma=5, max_depth=3, subsample=0.6;, score=0.935 total time=   3.4s\n",
      "[CV 8/10] END colsample_bytree=1.0, gamma=5, max_depth=3, subsample=0.6;, score=0.922 total time=   3.4s\n",
      "[CV 9/10] END colsample_bytree=1.0, gamma=5, max_depth=3, subsample=0.6;, score=0.929 total time=   3.4s\n",
      "[CV 10/10] END colsample_bytree=1.0, gamma=5, max_depth=3, subsample=0.6;, score=0.935 total time=   3.4s\n",
      "[CV 1/10] END colsample_bytree=1.0, gamma=5, max_depth=3, subsample=1.0;, score=0.568 total time=   2.6s\n",
      "[CV 2/10] END colsample_bytree=1.0, gamma=5, max_depth=3, subsample=1.0;, score=0.734 total time=   2.6s\n",
      "[CV 3/10] END colsample_bytree=1.0, gamma=5, max_depth=3, subsample=1.0;, score=0.924 total time=   2.6s\n",
      "[CV 4/10] END colsample_bytree=1.0, gamma=5, max_depth=3, subsample=1.0;, score=0.910 total time=   2.6s\n",
      "[CV 5/10] END colsample_bytree=1.0, gamma=5, max_depth=3, subsample=1.0;, score=0.926 total time=   2.6s\n",
      "[CV 6/10] END colsample_bytree=1.0, gamma=5, max_depth=3, subsample=1.0;, score=0.920 total time=   3.8s\n",
      "[CV 7/10] END colsample_bytree=1.0, gamma=5, max_depth=3, subsample=1.0;, score=0.921 total time=   3.3s\n",
      "[CV 8/10] END colsample_bytree=1.0, gamma=5, max_depth=3, subsample=1.0;, score=0.912 total time=   2.5s\n",
      "[CV 9/10] END colsample_bytree=1.0, gamma=5, max_depth=3, subsample=1.0;, score=0.918 total time=   2.5s\n",
      "[CV 10/10] END colsample_bytree=1.0, gamma=5, max_depth=3, subsample=1.0;, score=0.923 total time=   2.5s\n",
      "[CV 1/10] END colsample_bytree=1.0, gamma=5, max_depth=5, subsample=0.6;, score=0.555 total time=   5.1s\n",
      "[CV 2/10] END colsample_bytree=1.0, gamma=5, max_depth=5, subsample=0.6;, score=0.753 total time=   5.1s\n",
      "[CV 3/10] END colsample_bytree=1.0, gamma=5, max_depth=5, subsample=0.6;, score=0.971 total time=   5.6s\n",
      "[CV 4/10] END colsample_bytree=1.0, gamma=5, max_depth=5, subsample=0.6;, score=0.969 total time=   5.1s\n",
      "[CV 5/10] END colsample_bytree=1.0, gamma=5, max_depth=5, subsample=0.6;, score=0.972 total time=   5.1s\n",
      "[CV 6/10] END colsample_bytree=1.0, gamma=5, max_depth=5, subsample=0.6;, score=0.971 total time=   5.1s\n",
      "[CV 7/10] END colsample_bytree=1.0, gamma=5, max_depth=5, subsample=0.6;, score=0.977 total time=   5.1s\n",
      "[CV 8/10] END colsample_bytree=1.0, gamma=5, max_depth=5, subsample=0.6;, score=0.968 total time=   5.1s\n",
      "[CV 9/10] END colsample_bytree=1.0, gamma=5, max_depth=5, subsample=0.6;, score=0.973 total time=   5.1s\n",
      "[CV 10/10] END colsample_bytree=1.0, gamma=5, max_depth=5, subsample=0.6;, score=0.971 total time=   5.1s\n",
      "[CV 1/10] END colsample_bytree=1.0, gamma=5, max_depth=5, subsample=1.0;, score=0.550 total time=   4.0s\n",
      "[CV 2/10] END colsample_bytree=1.0, gamma=5, max_depth=5, subsample=1.0;, score=0.746 total time=   5.9s\n",
      "[CV 3/10] END colsample_bytree=1.0, gamma=5, max_depth=5, subsample=1.0;, score=0.967 total time=   3.8s\n",
      "[CV 4/10] END colsample_bytree=1.0, gamma=5, max_depth=5, subsample=1.0;, score=0.958 total time=   3.9s\n",
      "[CV 5/10] END colsample_bytree=1.0, gamma=5, max_depth=5, subsample=1.0;, score=0.971 total time=   3.9s\n",
      "[CV 6/10] END colsample_bytree=1.0, gamma=5, max_depth=5, subsample=1.0;, score=0.969 total time=   3.9s\n",
      "[CV 7/10] END colsample_bytree=1.0, gamma=5, max_depth=5, subsample=1.0;, score=0.974 total time=   3.9s\n",
      "[CV 8/10] END colsample_bytree=1.0, gamma=5, max_depth=5, subsample=1.0;, score=0.968 total time=   5.9s\n",
      "[CV 9/10] END colsample_bytree=1.0, gamma=5, max_depth=5, subsample=1.0;, score=0.967 total time=   3.8s\n",
      "[CV 10/10] END colsample_bytree=1.0, gamma=5, max_depth=5, subsample=1.0;, score=0.972 total time=   3.9s\n"
     ]
    },
    {
     "data": {
      "text/plain": [
       "0.9084549433038498"
      ]
     },
     "execution_count": 120,
     "metadata": {},
     "output_type": "execute_result"
    }
   ],
   "source": [
    "# Create param grid\n",
    "param_grid = {\n",
    "        'gamma': [0.5, 2.5, 5],\n",
    "        'subsample': [0.6, 1.0],\n",
    "        'colsample_bytree': [0.6,1.0],\n",
    "        'max_depth': [3, 5]\n",
    "        }\n",
    "\n",
    "clf = GridSearchCV(\n",
    "    estimator=XGBClassifier(learning_rate=0.01, n_estimators=600, objective='binary:logistic', random_state = 42\n",
    "                 ),\n",
    "    scoring=\"accuracy\",\n",
    "    param_grid=param_grid,\n",
    "    cv=10,\n",
    "    refit=True,\n",
    "    verbose=3\n",
    ")\n",
    "\n",
    "best_clf = clf.fit(X_train_sm, y_train_sm)\n",
    "\n",
    "best_clf.best_score_"
   ]
  },
  {
   "cell_type": "code",
   "execution_count": 121,
   "metadata": {},
   "outputs": [
    {
     "data": {
      "text/plain": [
       "0.8683890577507599"
      ]
     },
     "execution_count": 121,
     "metadata": {},
     "output_type": "execute_result"
    }
   ],
   "source": [
    "best_model = best_clf.best_estimator_\n",
    "best_model.score(X_test,y_test)"
   ]
  },
  {
   "cell_type": "code",
   "execution_count": 122,
   "metadata": {},
   "outputs": [
    {
     "data": {
      "text/plain": [
       "0.8841681234323934"
      ]
     },
     "execution_count": 122,
     "metadata": {},
     "output_type": "execute_result"
    }
   ],
   "source": [
    "best_model.score(X_train,y_train)"
   ]
  },
  {
   "cell_type": "code",
   "execution_count": 125,
   "metadata": {},
   "outputs": [
    {
     "name": "stdout",
     "output_type": "stream",
     "text": [
      "              precision    recall  f1-score   support\n",
      "\n",
      "           0       0.89      0.98      0.94     11396\n",
      "           1       0.68      0.25      0.36      1761\n",
      "\n",
      "    accuracy                           0.88     13157\n",
      "   macro avg       0.79      0.61      0.65     13157\n",
      "weighted avg       0.87      0.88      0.86     13157\n",
      "\n",
      "              precision    recall  f1-score   support\n",
      "\n",
      "           0       0.87      0.98      0.93     11396\n",
      "           1       0.98      0.86      0.92     11396\n",
      "\n",
      "    accuracy                           0.92     22792\n",
      "   macro avg       0.93      0.92      0.92     22792\n",
      "weighted avg       0.93      0.92      0.92     22792\n",
      "\n",
      "              precision    recall  f1-score   support\n",
      "\n",
      "           0       0.88      0.98      0.93      2850\n",
      "           1       0.49      0.15      0.23       440\n",
      "\n",
      "    accuracy                           0.87      3290\n",
      "   macro avg       0.69      0.56      0.58      3290\n",
      "weighted avg       0.83      0.87      0.83      3290\n",
      "\n"
     ]
    }
   ],
   "source": [
    "from sklearn.metrics import classification_report\n",
    "\n",
    "y_train_pred = best_model.predict(X_train)\n",
    "y_train_sm_pred = best_model.predict(X_train_sm)\n",
    "y_test_pred = best_model.predict(X_test)\n",
    "\n",
    "print(classification_report(y_train,y_train_pred))\n",
    "print(classification_report(y_train_sm,y_train_sm_pred))\n",
    "print(classification_report(y_test,y_test_pred))"
   ]
  },
  {
   "cell_type": "code",
   "execution_count": 123,
   "metadata": {},
   "outputs": [
    {
     "data": {
      "text/plain": [
       "{'colsample_bytree': 1.0, 'gamma': 0.5, 'max_depth': 5, 'subsample': 0.6}"
      ]
     },
     "execution_count": 123,
     "metadata": {},
     "output_type": "execute_result"
    }
   ],
   "source": [
    "best_clf.best_params_\n",
    "# {'colsample_bytree': 1.0, 'gamma': 0.5, 'max_depth': 5, 'min_child_weight': 1, 'subsample': 0.6}"
   ]
  },
  {
   "cell_type": "code",
   "execution_count": 124,
   "metadata": {},
   "outputs": [
    {
     "data": {
      "text/plain": [
       "['../models/best_model_xgboost.pkl']"
      ]
     },
     "execution_count": 124,
     "metadata": {},
     "output_type": "execute_result"
    }
   ],
   "source": [
    "import joblib\n",
    "\n",
    "best_model = XGBClassifier(learning_rate=0.01, n_estimators=600, objective='binary:logistic',colsample_bytree= 1.0, gamma= 0.5, max_depth= 5, min_child_weight= 1, subsample= 0.6)\n",
    "best_model.fit(X_train_sm, y_train_sm)\n",
    "joblib.dump(best_model,'../models/best_model_xgboost.pkl')\n"
   ]
  }
 ],
 "metadata": {
  "kernelspec": {
   "display_name": "base",
   "language": "python",
   "name": "python3"
  },
  "language_info": {
   "codemirror_mode": {
    "name": "ipython",
    "version": 3
   },
   "file_extension": ".py",
   "mimetype": "text/x-python",
   "name": "python",
   "nbconvert_exporter": "python",
   "pygments_lexer": "ipython3",
   "version": "3.9.12"
  },
  "orig_nbformat": 4
 },
 "nbformat": 4,
 "nbformat_minor": 2
}
